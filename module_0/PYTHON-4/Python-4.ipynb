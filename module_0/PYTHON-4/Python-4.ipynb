{
 "cells": [
  {
   "cell_type": "code",
   "execution_count": 1,
   "metadata": {},
   "outputs": [
    {
     "name": "stdout",
     "output_type": "stream",
     "text": [
      "29.0\n"
     ]
    }
   ],
   "source": [
    "#Перепишите код ниже, определив функцию avg_orders(user_db), которая возвращает среднее число заказов по данным в базе.\n",
    "#Затем выведите на экран результат вызова этой функции для user_db\n",
    "\n",
    "user_db = [{'orders': 12}, {'orders': 30}, {'orders': 45}]\n",
    "\n",
    "\n",
    "# перепишите эту часть\n",
    "order_sum = sum([user['orders'] for user in user_db])\n",
    "orders_per_user = order_sum/len(user_db)\n",
    "print(orders_per_user)"
   ]
  },
  {
   "cell_type": "code",
   "execution_count": 22,
   "metadata": {},
   "outputs": [],
   "source": [
    "def avg_orders(a):\n",
    "    b=0\n",
    "    count=0\n",
    "    for values in a:\n",
    "        b += values['orders']\n",
    "        count += 1\n",
    "    return b/count"
   ]
  },
  {
   "cell_type": "code",
   "execution_count": 23,
   "metadata": {},
   "outputs": [
    {
     "data": {
      "text/plain": [
       "29.0"
      ]
     },
     "execution_count": 23,
     "metadata": {},
     "output_type": "execute_result"
    }
   ],
   "source": [
    "avg_orders(user_db)"
   ]
  },
  {
   "cell_type": "code",
   "execution_count": null,
   "metadata": {},
   "outputs": [],
   "source": [
    "#Определите функцию get_euro_rate, которая возвращает случайное число от 65 до 85. \n",
    "#Перепишите to_euro из примера выше, чтобы вместо постоянного exchange_rate 70 она использовала get_euro_rate\n",
    "\n",
    "#Для выполнения задания вам потребуется функция random() из модуля random, которая возвращает случайное число от 0 до 1\n",
    "\n"
   ]
  },
  {
   "cell_type": "code",
   "execution_count": 34,
   "metadata": {},
   "outputs": [
    {
     "name": "stdout",
     "output_type": "stream",
     "text": [
      "83\n"
     ]
    }
   ],
   "source": [
    "import random as r\n",
    "print(r.randint(65, 85))\n",
    "# => 0.8594880558993951"
   ]
  },
  {
   "cell_type": "code",
   "execution_count": 35,
   "metadata": {},
   "outputs": [
    {
     "name": "stdout",
     "output_type": "stream",
     "text": [
      "85\n"
     ]
    }
   ],
   "source": [
    "import random as r\n",
    "print(r.randint(65, 85))\n",
    "# добавьте функцию get_euro_rate\n",
    "def get_euro_rate():\n",
    "    return r.randint(65,85)\n",
    "\n",
    "# используйте get_euro_rate в следующей функции\n",
    "def to_euro(price):  \n",
    "    exchange_rate =  get_euro_rate() \n",
    "    rounded = round(price/exchange_rate, 2)  \n",
    "    return '€' + str(rounded)"
   ]
  },
  {
   "cell_type": "code",
   "execution_count": 36,
   "metadata": {},
   "outputs": [
    {
     "data": {
      "text/plain": [
       "'€0.72'"
      ]
     },
     "execution_count": 36,
     "metadata": {},
     "output_type": "execute_result"
    }
   ],
   "source": [
    "to_euro(50)"
   ]
  },
  {
   "cell_type": "code",
   "execution_count": 37,
   "metadata": {},
   "outputs": [
    {
     "name": "stdout",
     "output_type": "stream",
     "text": [
      "10\n"
     ]
    }
   ],
   "source": [
    "all_the = sum\n",
    "magic = range\n",
    "print(all_the(magic(5)))"
   ]
  },
  {
   "cell_type": "code",
   "execution_count": 38,
   "metadata": {},
   "outputs": [
    {
     "data": {
      "text/plain": [
       "10"
      ]
     },
     "execution_count": 38,
     "metadata": {},
     "output_type": "execute_result"
    }
   ],
   "source": [
    "a = sum(range(5))\n",
    "a"
   ]
  },
  {
   "cell_type": "code",
   "execution_count": 39,
   "metadata": {},
   "outputs": [
    {
     "name": "stdout",
     "output_type": "stream",
     "text": [
      "range(0, 5)\n"
     ]
    }
   ],
   "source": [
    "print(range(5))"
   ]
  },
  {
   "cell_type": "code",
   "execution_count": 42,
   "metadata": {},
   "outputs": [
    {
     "data": {
      "text/plain": [
       "73"
      ]
     },
     "execution_count": 42,
     "metadata": {},
     "output_type": "execute_result"
    }
   ],
   "source": [
    "list(map(abs, [10,  -1, 42, -73]))[3]"
   ]
  },
  {
   "cell_type": "code",
   "execution_count": 43,
   "metadata": {},
   "outputs": [
    {
     "data": {
      "text/plain": [
       "['Mr. Boris', 'Mr. Ivan', 'Mr. Bob']"
      ]
     },
     "execution_count": 43,
     "metadata": {},
     "output_type": "execute_result"
    }
   ],
   "source": [
    "# исходная версия была такой  \n",
    "def polite_name(name):  \n",
    "    return 'Mr. ' + name   \n",
    "  \n",
    "guests = [\"Boris\", \"Ivan\", \"Bob\"]  \n",
    "guest_iterator = map(polite_name, guests)   \n",
    "  \n",
    "# Теперь перепишем с лямбда функцией  \n",
    "guests = [\"Boris\", \"Ivan\", \"Bob\"]  \n",
    "list(map(lambda name: \"Mr. \" + name, guests))  "
   ]
  },
  {
   "cell_type": "code",
   "execution_count": 44,
   "metadata": {},
   "outputs": [
    {
     "data": {
      "text/plain": [
       "['Mr. Boris', 'Mr. Ivan', 'Mr. Bob']"
      ]
     },
     "execution_count": 44,
     "metadata": {},
     "output_type": "execute_result"
    }
   ],
   "source": [
    "guests = [\"Boris\", \"Ivan\", \"Bob\"]  \n",
    "list(map(lambda name: \"Mr. \" + name, guests))  "
   ]
  },
  {
   "cell_type": "code",
   "execution_count": 46,
   "metadata": {},
   "outputs": [],
   "source": [
    "values = [4, 8, 15, 16, 23, 42]\n",
    "mean = 18\n",
    "result = list(map(lambda value: value-mean, values))"
   ]
  },
  {
   "cell_type": "code",
   "execution_count": 47,
   "metadata": {},
   "outputs": [
    {
     "name": "stdout",
     "output_type": "stream",
     "text": [
      "[-14, -10, -3, -2, 5, 24]\n"
     ]
    }
   ],
   "source": [
    "print(result)"
   ]
  },
  {
   "cell_type": "code",
   "execution_count": 48,
   "metadata": {},
   "outputs": [
    {
     "name": "stdout",
     "output_type": "stream",
     "text": [
      "0.5\n"
     ]
    }
   ],
   "source": [
    "std = 42 \n",
    "\n",
    "def normalize(value):\n",
    "    result = value/std\n",
    "    return result \n",
    "    \n",
    "print(normalize(21)) "
   ]
  },
  {
   "cell_type": "code",
   "execution_count": 49,
   "metadata": {},
   "outputs": [
    {
     "name": "stdout",
     "output_type": "stream",
     "text": [
      "8\n"
     ]
    }
   ],
   "source": [
    "rabbits = 0\n",
    "\n",
    "def count_rabbits(spotted):\n",
    "    global rabbits\n",
    "    rabbits += spotted\n",
    "\n",
    "    \n",
    "count_rabbits(3)\n",
    "count_rabbits(5)\n",
    "print(rabbits)"
   ]
  },
  {
   "cell_type": "code",
   "execution_count": 1,
   "metadata": {},
   "outputs": [
    {
     "ename": "SyntaxError",
     "evalue": "invalid syntax (<ipython-input-1-c38c1d44bb07>, line 3)",
     "output_type": "error",
     "traceback": [
      "\u001b[1;36m  File \u001b[1;32m\"<ipython-input-1-c38c1d44bb07>\"\u001b[1;36m, line \u001b[1;32m3\u001b[0m\n\u001b[1;33m    => [10, 20]\u001b[0m\n\u001b[1;37m    ^\u001b[0m\n\u001b[1;31mSyntaxError\u001b[0m\u001b[1;31m:\u001b[0m invalid syntax\n"
     ]
    }
   ],
   "source": [
    "normalize([10, 20])\n",
    "\n",
    "=> [10, 20]\n",
    "\n",
    "normalize([10, 20], std=2)\n",
    "\n",
    "=> [5, 10]\n",
    "\n",
    "normalize([10, 20], mean=15)\n",
    "\n",
    "=> [-5, 5]"
   ]
  },
  {
   "cell_type": "code",
   "execution_count": 34,
   "metadata": {},
   "outputs": [],
   "source": [
    "def normalize(name, std=1, mean=0):\n",
    "    if std > 1:\n",
    "        a = []\n",
    "        a.append(int(name[0]/std))\n",
    "        a.append(int(name[1]/std))\n",
    "        return a\n",
    "    elif mean > 0:\n",
    "        a = []\n",
    "        a.append(int(name[0]-mean))\n",
    "        a.append(int(name[1]-mean))\n",
    "        return a\n",
    "    else:\n",
    "        return name"
   ]
  },
  {
   "cell_type": "code",
   "execution_count": 35,
   "metadata": {},
   "outputs": [
    {
     "name": "stdout",
     "output_type": "stream",
     "text": [
      "20\n"
     ]
    }
   ],
   "source": [
    "a = ([10, 20])\n",
    "type(a)\n",
    "print(a[1])"
   ]
  },
  {
   "cell_type": "code",
   "execution_count": 36,
   "metadata": {},
   "outputs": [
    {
     "data": {
      "text/plain": [
       "[5, 10]"
      ]
     },
     "execution_count": 36,
     "metadata": {},
     "output_type": "execute_result"
    }
   ],
   "source": [
    "normalize([10, 20], std=2)"
   ]
  },
  {
   "cell_type": "code",
   "execution_count": 37,
   "metadata": {},
   "outputs": [
    {
     "data": {
      "text/plain": [
       "[-5, 5]"
      ]
     },
     "execution_count": 37,
     "metadata": {},
     "output_type": "execute_result"
    }
   ],
   "source": [
    "normalize([10, 20], mean=15)"
   ]
  },
  {
   "cell_type": "code",
   "execution_count": 38,
   "metadata": {},
   "outputs": [
    {
     "name": "stdout",
     "output_type": "stream",
     "text": [
      "[10, 20]\n",
      "[5, 10]\n",
      "[-5, 5]\n"
     ]
    }
   ],
   "source": [
    "def normalize(name, std=1, mean=0):\n",
    "    if std > 1:\n",
    "        a = []\n",
    "        a.append(int(name[0]/std))\n",
    "        a.append(int(name[1]/std))\n",
    "        return a\n",
    "    elif mean > 0:\n",
    "        a = []\n",
    "        a.append(int(name[0]-mean))\n",
    "        a.append(int(name[1]-mean))\n",
    "        return a\n",
    "    else:\n",
    "        return name\n",
    "\n",
    "print(normalize([10, 20]))\n",
    "print(normalize([10, 20], std=2))\n",
    "print(normalize([10, 20], mean=15))"
   ]
  },
  {
   "cell_type": "code",
   "execution_count": 39,
   "metadata": {},
   "outputs": [
    {
     "name": "stdout",
     "output_type": "stream",
     "text": [
      "verbose mode\n"
     ]
    }
   ],
   "source": [
    "def show_keys(**kwargs):\n",
    "    print(' '.join(kwargs.keys()))\n",
    "\n",
    "show_keys(verbose=True, mode='constant')"
   ]
  },
  {
   "cell_type": "code",
   "execution_count": 63,
   "metadata": {},
   "outputs": [],
   "source": [
    "#Определите функцию count_letters(sentence, average), которая считает количество букв в строке без учёта пробелов. \n",
    "#У функции должен быть необязательный булевый аргумент average, который по умолчанию равен False. \n",
    "#Если он равен True, то функция должна возвращать количество букв в среднем на слово.\n",
    "\n",
    "#count_letters(\"Beep boop\") # => 8\n",
    "#count_letters(\"Beep boop\", average=True) # => 4\n",
    "#count_letters(\"I will build my own theme park\") # => 24\n",
    "#count_letters(\"I will build my own theme park\", average=True) # => 3.429\n",
    "\n",
    "def count_letters(sentence, average = False):\n",
    "    if average == True:\n",
    "        i = 0\n",
    "        new_sentence = ''\n",
    "        counter = 1\n",
    "        for i in range(len(sentence)):\n",
    "            if sentence[i] != ' ':\n",
    "                new_sentence += sentence[i]\n",
    "            else:\n",
    "                counter += 1\n",
    "        return (len(new_sentence)/counter)\n",
    "    else:\n",
    "        new_sentence = ''\n",
    "        i = 0\n",
    "        for i in range(len(sentence)):\n",
    "            if sentence[i] != ' ':\n",
    "                new_sentence += sentence[i]\n",
    "        return len(new_sentence)\n",
    "                \n",
    "        "
   ]
  },
  {
   "cell_type": "code",
   "execution_count": 64,
   "metadata": {},
   "outputs": [
    {
     "data": {
      "text/plain": [
       "8"
      ]
     },
     "execution_count": 64,
     "metadata": {},
     "output_type": "execute_result"
    }
   ],
   "source": [
    "count_letters(\"Beep boop\")"
   ]
  },
  {
   "cell_type": "code",
   "execution_count": 65,
   "metadata": {},
   "outputs": [
    {
     "name": "stdout",
     "output_type": "stream",
     "text": [
      "30\n"
     ]
    }
   ],
   "source": [
    "print(len(\"I will build my own theme park\"))"
   ]
  },
  {
   "cell_type": "code",
   "execution_count": 66,
   "metadata": {},
   "outputs": [
    {
     "data": {
      "text/plain": [
       "4.0"
      ]
     },
     "execution_count": 66,
     "metadata": {},
     "output_type": "execute_result"
    }
   ],
   "source": [
    "count_letters(\"Beep boop\", average=True)"
   ]
  },
  {
   "cell_type": "code",
   "execution_count": 67,
   "metadata": {},
   "outputs": [
    {
     "data": {
      "text/plain": [
       "24"
      ]
     },
     "execution_count": 67,
     "metadata": {},
     "output_type": "execute_result"
    }
   ],
   "source": [
    "count_letters(\"I will build my own theme park\")"
   ]
  },
  {
   "cell_type": "code",
   "execution_count": 68,
   "metadata": {},
   "outputs": [
    {
     "data": {
      "text/plain": [
       "3.4285714285714284"
      ]
     },
     "execution_count": 68,
     "metadata": {},
     "output_type": "execute_result"
    }
   ],
   "source": [
    "count_letters(\"I will build my own theme park\", average=True)"
   ]
  },
  {
   "cell_type": "code",
   "execution_count": 69,
   "metadata": {},
   "outputs": [
    {
     "data": {
      "text/plain": [
       "'a'"
      ]
     },
     "execution_count": 69,
     "metadata": {},
     "output_type": "execute_result"
    }
   ],
   "source": [
    "words = [\"sofa\", \"suitcase\", \"valise\", \"picture\", \"basket\", \"carton\", \"doggie\"]\n",
    "list(map(lambda w: sorted(w)[0], words))[5]"
   ]
  },
  {
   "cell_type": "code",
   "execution_count": 77,
   "metadata": {},
   "outputs": [],
   "source": [
    "#five = always(5)\n",
    "#five() # должно вернуть 5\n",
    "\n",
    "def always(n):\n",
    "    def func():\n",
    "        return n\n",
    "    return func\n",
    "\n"
   ]
  },
  {
   "cell_type": "code",
   "execution_count": 78,
   "metadata": {},
   "outputs": [],
   "source": [
    "five = always(5)"
   ]
  },
  {
   "cell_type": "code",
   "execution_count": 79,
   "metadata": {},
   "outputs": [
    {
     "data": {
      "text/plain": [
       "5"
      ]
     },
     "execution_count": 79,
     "metadata": {},
     "output_type": "execute_result"
    }
   ],
   "source": [
    "five()"
   ]
  },
  {
   "cell_type": "code",
   "execution_count": null,
   "metadata": {},
   "outputs": [],
   "source": []
  }
 ],
 "metadata": {
  "kernelspec": {
   "display_name": "Python 3",
   "language": "python",
   "name": "python3"
  },
  "language_info": {
   "codemirror_mode": {
    "name": "ipython",
    "version": 3
   },
   "file_extension": ".py",
   "mimetype": "text/x-python",
   "name": "python",
   "nbconvert_exporter": "python",
   "pygments_lexer": "ipython3",
   "version": "3.7.4"
  }
 },
 "nbformat": 4,
 "nbformat_minor": 2
}
