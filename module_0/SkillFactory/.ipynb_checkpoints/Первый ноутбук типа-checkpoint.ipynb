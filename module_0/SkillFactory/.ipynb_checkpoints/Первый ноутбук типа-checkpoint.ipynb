{
 "cells": [
  {
   "cell_type": "code",
   "execution_count": 1,
   "metadata": {},
   "outputs": [
    {
     "data": {
      "text/plain": [
       "4"
      ]
     },
     "execution_count": 1,
     "metadata": {},
     "output_type": "execute_result"
    }
   ],
   "source": [
    "2+2"
   ]
  },
  {
   "cell_type": "code",
   "execution_count": 2,
   "metadata": {},
   "outputs": [],
   "source": [
    "import math"
   ]
  },
  {
   "cell_type": "code",
   "execution_count": 3,
   "metadata": {},
   "outputs": [
    {
     "data": {
      "text/plain": [
       "17.414074767267998"
      ]
     },
     "execution_count": 3,
     "metadata": {},
     "output_type": "execute_result"
    }
   ],
   "source": [
    "math.sqrt(4+5*60-17+65/4)"
   ]
  },
  {
   "cell_type": "code",
   "execution_count": 5,
   "metadata": {},
   "outputs": [
    {
     "data": {
      "text/plain": [
       "8.0"
      ]
     },
     "execution_count": 5,
     "metadata": {},
     "output_type": "execute_result"
    }
   ],
   "source": [
    "math.pow(2,3)"
   ]
  },
  {
   "cell_type": "code",
   "execution_count": 6,
   "metadata": {},
   "outputs": [
    {
     "data": {
      "text/plain": [
       "1916.7312813742387"
      ]
     },
     "execution_count": 6,
     "metadata": {},
     "output_type": "execute_result"
    }
   ],
   "source": [
    "6.996 + 45 * math.pow(13/2,2) + 2 * math.sqrt(18)"
   ]
  },
  {
   "cell_type": "code",
   "execution_count": 12,
   "metadata": {},
   "outputs": [
    {
     "data": {
      "text/plain": [
       "-0.3909200032552083"
      ]
     },
     "execution_count": 12,
     "metadata": {},
     "output_type": "execute_result"
    }
   ],
   "source": [
    "(1267 - 20 * (5**3/2)**2)/(math.pow(8,5)*math.sqrt(36))"
   ]
  },
  {
   "cell_type": "code",
   "execution_count": 13,
   "metadata": {},
   "outputs": [
    {
     "data": {
      "text/plain": [
       "-0.0"
      ]
     },
     "execution_count": 13,
     "metadata": {},
     "output_type": "execute_result"
    }
   ],
   "source": [
    "(9//2**3**2**2)/(-2**-3)"
   ]
  },
  {
   "cell_type": "code",
   "execution_count": 14,
   "metadata": {},
   "outputs": [
    {
     "data": {
      "text/plain": [
       "-4251528.0"
      ]
     },
     "execution_count": 14,
     "metadata": {},
     "output_type": "execute_result"
    }
   ],
   "source": [
    "3**12/-2**(-3)"
   ]
  },
  {
   "cell_type": "code",
   "execution_count": 2,
   "metadata": {},
   "outputs": [],
   "source": [
    "sparta = ['Иванов', 'Петров', 'Сидоров', 'Зайцев', 'Дятлов', \n",
    "          'Козлов', 'Лисичкин', 'Огурцов', 'Капустин', 'Арбузов']"
   ]
  },
  {
   "cell_type": "code",
   "execution_count": 3,
   "metadata": {},
   "outputs": [
    {
     "data": {
      "text/plain": [
       "['Капустин', 'Козлов', 'Сидоров']"
      ]
     },
     "execution_count": 3,
     "metadata": {},
     "output_type": "execute_result"
    }
   ],
   "source": [
    "sparta[-2:1:-3]"
   ]
  },
  {
   "cell_type": "code",
   "execution_count": 4,
   "metadata": {},
   "outputs": [
    {
     "name": "stdout",
     "output_type": "stream",
     "text": [
      "399\n"
     ]
    }
   ],
   "source": [
    "my_list = [1, 10, 45, 31, 12, 54, 111, 398, 97, 63]\n",
    "result = max(my_list) + min(my_list) + my_list.count('batman')\n",
    "print(result)"
   ]
  },
  {
   "cell_type": "code",
   "execution_count": 5,
   "metadata": {},
   "outputs": [
    {
     "name": "stdout",
     "output_type": "stream",
     "text": [
      "590\n"
     ]
    }
   ],
   "source": [
    "my_list = [1, 10, 45, 31, 12, 54, 111, 398, 97, 63]\n",
    "my_list.sort(reverse = True)\n",
    "new_list = my_list[::2]\n",
    "result = 0\n",
    "for number in new_list:\n",
    "    result += number\n",
    "print(result)"
   ]
  },
  {
   "cell_type": "code",
   "execution_count": null,
   "metadata": {},
   "outputs": [],
   "source": []
  },
  {
   "cell_type": "code",
   "execution_count": null,
   "metadata": {},
   "outputs": [],
   "source": []
  },
  {
   "cell_type": "code",
   "execution_count": 27,
   "metadata": {},
   "outputs": [
    {
     "data": {
      "text/plain": [
       "5041"
      ]
     },
     "execution_count": 27,
     "metadata": {},
     "output_type": "execute_result"
    }
   ],
   "source": [
    "raw_list = [2, 8, 10, 23, 64, 49, 11, 52, 71, 14]\n",
    "my_list=[]\n",
    "i = 0\n",
    "x_min = min(raw_list)\n",
    "x_max = max(raw_list)\n",
    "\n",
    "for i in range(len(raw_list)):\n",
    "    if raw_list[i]%2==0:\n",
    "        my_list.append(raw_list[i]*x_min)\n",
    "    else:\n",
    "        my_list.append(raw_list[i]*x_max)\n",
    "        \n",
    "result = max(my_list)\n",
    "result"
   ]
  },
  {
   "cell_type": "code",
   "execution_count": 16,
   "metadata": {},
   "outputs": [],
   "source": [
    "raw_list = [2, 8, 10, 23, 64, 49, 11, 52, 71, 14]\n",
    "\n",
    "i = 0\n",
    "x_min = min(raw_list)\n",
    "x_max = max(raw_list)"
   ]
  },
  {
   "cell_type": "code",
   "execution_count": 2,
   "metadata": {},
   "outputs": [],
   "source": [
    "powers = [x**y for x in range(1, 10) for y in [2,10]]"
   ]
  },
  {
   "cell_type": "code",
   "execution_count": 3,
   "metadata": {},
   "outputs": [
    {
     "data": {
      "text/plain": [
       "[1,\n",
       " 1,\n",
       " 4,\n",
       " 1024,\n",
       " 9,\n",
       " 59049,\n",
       " 16,\n",
       " 1048576,\n",
       " 25,\n",
       " 9765625,\n",
       " 36,\n",
       " 60466176,\n",
       " 49,\n",
       " 282475249,\n",
       " 64,\n",
       " 1073741824,\n",
       " 81,\n",
       " 3486784401]"
      ]
     },
     "execution_count": 3,
     "metadata": {},
     "output_type": "execute_result"
    }
   ],
   "source": [
    "powers"
   ]
  },
  {
   "cell_type": "code",
   "execution_count": 4,
   "metadata": {},
   "outputs": [],
   "source": [
    "numbers = [x for x in range(3,100,3)] "
   ]
  },
  {
   "cell_type": "code",
   "execution_count": 5,
   "metadata": {},
   "outputs": [
    {
     "data": {
      "text/plain": [
       "[3,\n",
       " 6,\n",
       " 9,\n",
       " 12,\n",
       " 15,\n",
       " 18,\n",
       " 21,\n",
       " 24,\n",
       " 27,\n",
       " 30,\n",
       " 33,\n",
       " 36,\n",
       " 39,\n",
       " 42,\n",
       " 45,\n",
       " 48,\n",
       " 51,\n",
       " 54,\n",
       " 57,\n",
       " 60,\n",
       " 63,\n",
       " 66,\n",
       " 69,\n",
       " 72,\n",
       " 75,\n",
       " 78,\n",
       " 81,\n",
       " 84,\n",
       " 87,\n",
       " 90,\n",
       " 93,\n",
       " 96,\n",
       " 99]"
      ]
     },
     "execution_count": 5,
     "metadata": {},
     "output_type": "execute_result"
    }
   ],
   "source": [
    "numbers"
   ]
  },
  {
   "cell_type": "code",
   "execution_count": 6,
   "metadata": {},
   "outputs": [],
   "source": [
    "numbers = [x*y for x in range(1, 10) for y in [3, 5, 7]]"
   ]
  },
  {
   "cell_type": "code",
   "execution_count": 7,
   "metadata": {},
   "outputs": [
    {
     "data": {
      "text/plain": [
       "[3,\n",
       " 5,\n",
       " 7,\n",
       " 6,\n",
       " 10,\n",
       " 14,\n",
       " 9,\n",
       " 15,\n",
       " 21,\n",
       " 12,\n",
       " 20,\n",
       " 28,\n",
       " 15,\n",
       " 25,\n",
       " 35,\n",
       " 18,\n",
       " 30,\n",
       " 42,\n",
       " 21,\n",
       " 35,\n",
       " 49,\n",
       " 24,\n",
       " 40,\n",
       " 56,\n",
       " 27,\n",
       " 45,\n",
       " 63]"
      ]
     },
     "execution_count": 7,
     "metadata": {},
     "output_type": "execute_result"
    }
   ],
   "source": [
    "numbers"
   ]
  },
  {
   "cell_type": "code",
   "execution_count": 8,
   "metadata": {},
   "outputs": [],
   "source": [
    "numbers = [x for x in range(3,100) if [x%y for y in range(2,x)].count(0) == 0]"
   ]
  },
  {
   "cell_type": "code",
   "execution_count": 9,
   "metadata": {},
   "outputs": [
    {
     "data": {
      "text/plain": [
       "[3,\n",
       " 5,\n",
       " 7,\n",
       " 11,\n",
       " 13,\n",
       " 17,\n",
       " 19,\n",
       " 23,\n",
       " 29,\n",
       " 31,\n",
       " 37,\n",
       " 41,\n",
       " 43,\n",
       " 47,\n",
       " 53,\n",
       " 59,\n",
       " 61,\n",
       " 67,\n",
       " 71,\n",
       " 73,\n",
       " 79,\n",
       " 83,\n",
       " 89,\n",
       " 97]"
      ]
     },
     "execution_count": 9,
     "metadata": {},
     "output_type": "execute_result"
    }
   ],
   "source": [
    "numbers"
   ]
  },
  {
   "cell_type": "code",
   "execution_count": 10,
   "metadata": {},
   "outputs": [
    {
     "data": {
      "text/plain": [
       "5"
      ]
     },
     "execution_count": 10,
     "metadata": {},
     "output_type": "execute_result"
    }
   ],
   "source": [
    "5%10"
   ]
  },
  {
   "cell_type": "code",
   "execution_count": 11,
   "metadata": {},
   "outputs": [
    {
     "data": {
      "text/plain": [
       "2"
      ]
     },
     "execution_count": 11,
     "metadata": {},
     "output_type": "execute_result"
    }
   ],
   "source": [
    "2%4"
   ]
  },
  {
   "cell_type": "code",
   "execution_count": 12,
   "metadata": {},
   "outputs": [
    {
     "data": {
      "text/plain": [
       "2"
      ]
     },
     "execution_count": 12,
     "metadata": {},
     "output_type": "execute_result"
    }
   ],
   "source": [
    "2%8"
   ]
  },
  {
   "cell_type": "code",
   "execution_count": 13,
   "metadata": {},
   "outputs": [
    {
     "data": {
      "text/plain": [
       "0"
      ]
     },
     "execution_count": 13,
     "metadata": {},
     "output_type": "execute_result"
    }
   ],
   "source": [
    "8%2"
   ]
  },
  {
   "cell_type": "code",
   "execution_count": 14,
   "metadata": {},
   "outputs": [
    {
     "data": {
      "text/plain": [
       "4"
      ]
     },
     "execution_count": 14,
     "metadata": {},
     "output_type": "execute_result"
    }
   ],
   "source": [
    "9%5"
   ]
  },
  {
   "cell_type": "code",
   "execution_count": 15,
   "metadata": {},
   "outputs": [
    {
     "ename": "SyntaxError",
     "evalue": "invalid syntax (<ipython-input-15-34c0465accf5>, line 1)",
     "output_type": "error",
     "traceback": [
      "\u001b[1;36m  File \u001b[1;32m\"<ipython-input-15-34c0465accf5>\"\u001b[1;36m, line \u001b[1;32m1\u001b[0m\n\u001b[1;33m    my_list = [x if x in 'синхрофазотрон'].sort()\u001b[0m\n\u001b[1;37m                                         ^\u001b[0m\n\u001b[1;31mSyntaxError\u001b[0m\u001b[1;31m:\u001b[0m invalid syntax\n"
     ]
    }
   ],
   "source": [
    "my_list = [x if x in 'синхрофазотрон'].sort()"
   ]
  },
  {
   "cell_type": "code",
   "execution_count": 20,
   "metadata": {},
   "outputs": [],
   "source": [
    "my_list = sorted([x for x in 'синхрофазотрон'])"
   ]
  },
  {
   "cell_type": "code",
   "execution_count": 21,
   "metadata": {},
   "outputs": [
    {
     "data": {
      "text/plain": [
       "['а', 'з', 'и', 'н', 'н', 'о', 'о', 'о', 'р', 'р', 'с', 'т', 'ф', 'х']"
      ]
     },
     "execution_count": 21,
     "metadata": {},
     "output_type": "execute_result"
    }
   ],
   "source": [
    "my_list"
   ]
  },
  {
   "cell_type": "code",
   "execution_count": 23,
   "metadata": {},
   "outputs": [],
   "source": [
    "my_list = [x ** 0.5 for x in range(1, 50) if x%7 == 0]"
   ]
  },
  {
   "cell_type": "code",
   "execution_count": 24,
   "metadata": {},
   "outputs": [
    {
     "data": {
      "text/plain": [
       "[2.6457513110645907,\n",
       " 3.7416573867739413,\n",
       " 4.58257569495584,\n",
       " 5.291502622129181,\n",
       " 5.916079783099616,\n",
       " 6.48074069840786,\n",
       " 7.0]"
      ]
     },
     "execution_count": 24,
     "metadata": {},
     "output_type": "execute_result"
    }
   ],
   "source": [
    "my_list"
   ]
  },
  {
   "cell_type": "code",
   "execution_count": 25,
   "metadata": {},
   "outputs": [],
   "source": [
    "my_list = []\n",
    "for x in range(90, 100):\n",
    "    first_digit = x//10\n",
    "    last_digit = x%10\n",
    "    my_list.append(first_digit + last_digit)"
   ]
  },
  {
   "cell_type": "code",
   "execution_count": 26,
   "metadata": {},
   "outputs": [
    {
     "data": {
      "text/plain": [
       "[9, 10, 11, 12, 13, 14, 15, 16, 17, 18]"
      ]
     },
     "execution_count": 26,
     "metadata": {},
     "output_type": "execute_result"
    }
   ],
   "source": [
    "my_list"
   ]
  },
  {
   "cell_type": "code",
   "execution_count": 27,
   "metadata": {},
   "outputs": [],
   "source": [
    "my = [x//10 + x%10 for x in range(90,100)]"
   ]
  },
  {
   "cell_type": "code",
   "execution_count": 28,
   "metadata": {},
   "outputs": [
    {
     "data": {
      "text/plain": [
       "[9, 10, 11, 12, 13, 14, 15, 16, 17, 18]"
      ]
     },
     "execution_count": 28,
     "metadata": {},
     "output_type": "execute_result"
    }
   ],
   "source": [
    "my"
   ]
  },
  {
   "cell_type": "code",
   "execution_count": 35,
   "metadata": {},
   "outputs": [
    {
     "name": "stdout",
     "output_type": "stream",
     "text": [
      "A\n",
      "B\n",
      "C\n",
      "C\n",
      "A\n"
     ]
    }
   ],
   "source": [
    "country = 'Италия'\n",
    "\n",
    "draw_dict = {\n",
    "    'Россия': 'A',\n",
    "    'Португалия': 'B',\n",
    "    'Франция': 'C',\n",
    "    'Дания': 'C',\n",
    "    'Египет': 'A'\n",
    "}\n",
    "\n",
    "for country, v in draw_dict.items():\n",
    "    if country in draw_dict:\n",
    "        print(v)\n",
    "    else:\n",
    "        print('unknown')"
   ]
  },
  {
   "cell_type": "code",
   "execution_count": 1,
   "metadata": {},
   "outputs": [],
   "source": [
    "draw_dict = {\n",
    "    'Россия': 'A',\n",
    "    'Португалия': 'B',\n",
    "    'Франция': 'C',\n",
    "    'Дания': 'C',\n",
    "    'Египет': 'A'\n",
    "}\n",
    "\n",
    "draw_new = {}\n",
    "\n",
    "for country, group in draw_dict.items():\n",
    "    if group == 'A':\n",
    "        draw_new.update({country:group})"
   ]
  },
  {
   "cell_type": "code",
   "execution_count": 2,
   "metadata": {},
   "outputs": [
    {
     "name": "stdout",
     "output_type": "stream",
     "text": [
      "{'Россия': 'A', 'Египет': 'A'}\n"
     ]
    }
   ],
   "source": [
    "print(draw_new)"
   ]
  },
  {
   "cell_type": "code",
   "execution_count": 4,
   "metadata": {},
   "outputs": [],
   "source": [
    "csv_file = [\n",
    "    ['100412', 'Ботинки для горных лыж ATOMIC Hawx Prime 100', 9],\n",
    "    ['100728', 'Скейтборд Jdbug RT03', 32],\n",
    "    ['100732', 'Роллерсерф Razor RipStik Bright', 11],\n",
    "    ['100803', 'Ботинки для сноуборда DC Tucknee', 20],\n",
    "    ['100898', 'Шагомер Omron HJA-306', 2],\n",
    "    ['100934', 'Пульсометр Beurer PM62', 17],\n",
    "]\n",
    "\n",
    "csv_file_filterd = []\n",
    "for record in csv_file:\n",
    "    if record[2] > 10:\n",
    "        csv_file_filterd.append(record)"
   ]
  },
  {
   "cell_type": "code",
   "execution_count": 5,
   "metadata": {},
   "outputs": [
    {
     "data": {
      "text/plain": [
       "[['100728', 'Скейтборд Jdbug RT03', 32],\n",
       " ['100732', 'Роллерсерф Razor RipStik Bright', 11],\n",
       " ['100803', 'Ботинки для сноуборда DC Tucknee', 20],\n",
       " ['100934', 'Пульсометр Beurer PM62', 17]]"
      ]
     },
     "execution_count": 5,
     "metadata": {},
     "output_type": "execute_result"
    }
   ],
   "source": [
    "csv_file_filterd"
   ]
  },
  {
   "cell_type": "code",
   "execution_count": 9,
   "metadata": {},
   "outputs": [],
   "source": [
    "csv_dict = [\n",
    "    {'id': '100412', 'position': 'Ботинки для горных лыж ATOMIC Hawx Prime 100', 'count': 9},\n",
    "    {'id': '100728', 'position': 'Скейтборд Jdbug RT03', 'count': 32},\n",
    "    {'id': '100732', 'position': 'Роллерсерф Razor RipStik Bright', 'count': 11},\n",
    "    {'id': '100803', 'position': 'Ботинки для сноуборда DC Tucknee', 'count': 20},\n",
    "    {'id': '100898', 'position': 'Шагомер Omron HJA-306', 'count': 2},\n",
    "    {'id': '100934', 'position': 'Пульсометр Beurer PM62', 'count': 17},\n",
    "]\n",
    "\n",
    "csv_dict_boots = {}\n",
    "\n",
    "for raw in csv_dict:\n",
    "    for key, values in raw.items():\n",
    "        if \"Ботинки\" in raw.values():\n",
    "            csv_dict_boots.update(raw)"
   ]
  },
  {
   "cell_type": "code",
   "execution_count": 10,
   "metadata": {},
   "outputs": [
    {
     "data": {
      "text/plain": [
       "{}"
      ]
     },
     "execution_count": 10,
     "metadata": {},
     "output_type": "execute_result"
    }
   ],
   "source": [
    "csv_dict_boots"
   ]
  },
  {
   "cell_type": "code",
   "execution_count": 12,
   "metadata": {},
   "outputs": [],
   "source": [
    "csv_dict = [\n",
    "    {'id': '100412', 'position': 'Ботинки для горных лыж ATOMIC Hawx Prime 100', 'count': 9},\n",
    "    {'id': '100728', 'position': 'Скейтборд Jdbug RT03', 'count': 32},\n",
    "    {'id': '100732', 'position': 'Роллерсерф Razor RipStik Bright', 'count': 11},\n",
    "    {'id': '100803', 'position': 'Ботинки для сноуборда DC Tucknee', 'count': 20},\n",
    "    {'id': '100898', 'position': 'Шагомер Omron HJA-306', 'count': 2},\n",
    "    {'id': '100934', 'position': 'Пульсометр Beurer PM62', 'count': 17},\n",
    "]\n",
    "\n",
    "csv_dict_boot = []\n",
    "for raw in csv_dict:\n",
    "    if 'Ботинки' in raw['position']:\n",
    "        csv_dict_boot.append(raw)"
   ]
  },
  {
   "cell_type": "code",
   "execution_count": 13,
   "metadata": {},
   "outputs": [
    {
     "data": {
      "text/plain": [
       "[{'id': '100412',\n",
       "  'position': 'Ботинки для горных лыж ATOMIC Hawx Prime 100',\n",
       "  'count': 9},\n",
       " {'id': '100803', 'position': 'Ботинки для сноуборда DC Tucknee', 'count': 20}]"
      ]
     },
     "execution_count": 13,
     "metadata": {},
     "output_type": "execute_result"
    }
   ],
   "source": [
    "csv_dict_boot"
   ]
  },
  {
   "cell_type": "code",
   "execution_count": 12,
   "metadata": {},
   "outputs": [
    {
     "name": "stdout",
     "output_type": "stream",
     "text": [
      "98\n"
     ]
    }
   ],
   "source": [
    "results = [\n",
    "\t{'cost': 98, 'source': 'vk'},\n",
    "\t{'cost': 153, 'source': 'yandex'},\n",
    "\t{'cost': 110, 'source': 'facebook'},\n",
    "]\n",
    "min_cost = results[0]['cost']\n",
    "for i in results:\n",
    "    if i['cost'] < min_cost:\n",
    "        min_cost = i['cost']\n",
    "print(min_cost)\n",
    "\n"
   ]
  },
  {
   "cell_type": "code",
   "execution_count": 13,
   "metadata": {},
   "outputs": [
    {
     "name": "stdout",
     "output_type": "stream",
     "text": [
      "1 98.0\n",
      "2 97.02\n",
      "3 96.04979999999999\n",
      "4 92.20780799999999\n",
      "5 89.44157375999998\n"
     ]
    }
   ],
   "source": [
    "defect_stats = [\n",
    "    {'step number': 1, 'damage': 0.98},\n",
    "    {'step number': 2, 'damage': 0.99},\n",
    "    {'step number': 3, 'damage': 0.99},\n",
    "    {'step number': 4, 'damage': 0.96},\n",
    "    {'step number': 5, 'damage': 0.97},\n",
    "    {'step number': 6, 'damage': 0.97},\n",
    "]\n",
    "size = 100\n",
    "for i in defect_stats:\n",
    "    size = size*i['damage']\n",
    "    print(i['step number'], size)\n",
    "    if size < 90:\n",
    "        break"
   ]
  },
  {
   "cell_type": "code",
   "execution_count": 14,
   "metadata": {},
   "outputs": [],
   "source": [
    "bodycount = {\n",
    "\t'Проклятие Черной жемчужины': {\n",
    "\t\t'человек': 17\n",
    "\t}, \n",
    "\n",
    "\t'Сундук мертвеца': {\n",
    "\t\t'человек': 56,\n",
    "\t\t'раков-отшельников': 1\n",
    "\t},\n",
    "\n",
    "\t'На краю света': {\n",
    "\t\t'человек': 88\n",
    "\t},\n",
    "\n",
    "\t'На странных берегах': {\n",
    "\t\t'человек': 56,\n",
    "\t\t'русалок': 2,\n",
    "\t\t'ядовитых жаб': 3,\n",
    "\t\t'пиратов зомби': 2\n",
    "\t}\n",
    "}"
   ]
  },
  {
   "cell_type": "code",
   "execution_count": 17,
   "metadata": {},
   "outputs": [
    {
     "data": {
      "text/plain": [
       "dict_keys(['Проклятие Черной жемчужины', 'Сундук мертвеца', 'На краю света', 'На странных берегах'])"
      ]
     },
     "execution_count": 17,
     "metadata": {},
     "output_type": "execute_result"
    }
   ],
   "source": [
    "bodycount.keys()"
   ]
  },
  {
   "cell_type": "code",
   "execution_count": 18,
   "metadata": {},
   "outputs": [
    {
     "data": {
      "text/plain": [
       "17"
      ]
     },
     "execution_count": 18,
     "metadata": {},
     "output_type": "execute_result"
    }
   ],
   "source": [
    "bodycount['Проклятие Черной жемчужины']['человек']"
   ]
  },
  {
   "cell_type": "code",
   "execution_count": 20,
   "metadata": {},
   "outputs": [
    {
     "data": {
      "text/plain": [
       "dict_values([{'человек': 17}, {'человек': 56, 'раков-отшельников': 1}, {'человек': 88}, {'человек': 56, 'русалок': 2, 'ядовитых жаб': 3, 'пиратов зомби': 2}])"
      ]
     },
     "execution_count": 20,
     "metadata": {},
     "output_type": "execute_result"
    }
   ],
   "source": [
    "bodycount.values()"
   ]
  },
  {
   "cell_type": "code",
   "execution_count": 23,
   "metadata": {},
   "outputs": [
    {
     "data": {
      "text/plain": [
       "225"
      ]
     },
     "execution_count": 23,
     "metadata": {},
     "output_type": "execute_result"
    }
   ],
   "source": [
    "sum_val = 0\n",
    "for i in bodycount.values():\n",
    "    sum_val += sum(i.values())\n",
    "sum_val"
   ]
  },
  {
   "cell_type": "code",
   "execution_count": 40,
   "metadata": {},
   "outputs": [],
   "source": [
    "currency = {\n",
    "\t'AMD': {\n",
    "\t\t'Name': 'Армянских драмов',\n",
    "\t\t'Nominal': 1,\n",
    "\t\t'Value': 13.121\n",
    "\t},\n",
    "\n",
    "\t'AUD': {\n",
    "\t\t'Name': 'Австралийский доллар',\n",
    "\t\t'Nominal': 1,\n",
    "\t\t'Value': 45.5309\n",
    "\t},\n",
    "\n",
    "\t'INR': {\n",
    "\t\t'Name': 'Индийских рупий',\n",
    "\t\t'Nominal': 100,\n",
    "\t\t'Value': 92.9658\n",
    "\t},\n",
    "\n",
    "\t'MDL': {\n",
    "\t\t'Name': 'Молдавских леев',\n",
    "\t\t'Nominal': 10,\n",
    "\t\t'Value': 36.9305\n",
    "\t},\n",
    "}"
   ]
  },
  {
   "cell_type": "code",
   "execution_count": 41,
   "metadata": {},
   "outputs": [
    {
     "name": "stdout",
     "output_type": "stream",
     "text": [
      "1 13.121\n",
      "1 45.5309\n",
      "100 92.9658\n",
      "10 36.9305\n"
     ]
    }
   ],
   "source": [
    "\n",
    "for i in currency.values():\n",
    "    \n",
    "    print(i['Nominal'], i['Value'])"
   ]
  },
  {
   "cell_type": "code",
   "execution_count": 32,
   "metadata": {},
   "outputs": [
    {
     "name": "stdout",
     "output_type": "stream",
     "text": [
      "dict_keys(['AMD', 'AUD', 'INR', 'MDL'])\n"
     ]
    }
   ],
   "source": [
    "print(currency.keys())"
   ]
  },
  {
   "cell_type": "code",
   "execution_count": 33,
   "metadata": {},
   "outputs": [
    {
     "ename": "SyntaxError",
     "evalue": "invalid syntax (<ipython-input-33-f06c4cb73cf5>, line 4)",
     "output_type": "error",
     "traceback": [
      "\u001b[1;36m  File \u001b[1;32m\"<ipython-input-33-f06c4cb73cf5>\"\u001b[1;36m, line \u001b[1;32m4\u001b[0m\n\u001b[1;33m    if (i['Value']/i['Nominal']) >\u001b[0m\n\u001b[1;37m                                  ^\u001b[0m\n\u001b[1;31mSyntaxError\u001b[0m\u001b[1;31m:\u001b[0m invalid syntax\n"
     ]
    }
   ],
   "source": [
    "min_value = 0\n",
    "\n",
    "for i in currency.values():\n",
    "    if (i['Value']/i['Nominal']) >\n",
    "    pass"
   ]
  },
  {
   "cell_type": "code",
   "execution_count": 34,
   "metadata": {},
   "outputs": [
    {
     "ename": "TypeError",
     "evalue": "values() takes no arguments (1 given)",
     "output_type": "error",
     "traceback": [
      "\u001b[1;31m---------------------------------------------------------------------------\u001b[0m",
      "\u001b[1;31mTypeError\u001b[0m                                 Traceback (most recent call last)",
      "\u001b[1;32m<ipython-input-34-31012599897a>\u001b[0m in \u001b[0;36m<module>\u001b[1;34m\u001b[0m\n\u001b[1;32m----> 1\u001b[1;33m \u001b[0mm\u001b[0m \u001b[1;33m=\u001b[0m \u001b[0mcurrency\u001b[0m\u001b[1;33m.\u001b[0m\u001b[0mvalues\u001b[0m\u001b[1;33m(\u001b[0m\u001b[1;36m1\u001b[0m\u001b[1;33m)\u001b[0m\u001b[1;33m\u001b[0m\u001b[1;33m\u001b[0m\u001b[0m\n\u001b[0m",
      "\u001b[1;31mTypeError\u001b[0m: values() takes no arguments (1 given)"
     ]
    }
   ],
   "source": [
    "m = currency.values(1)"
   ]
  },
  {
   "cell_type": "code",
   "execution_count": 35,
   "metadata": {},
   "outputs": [
    {
     "name": "stdout",
     "output_type": "stream",
     "text": [
      "AMD\n"
     ]
    }
   ],
   "source": [
    "cost=10000\n",
    "name=0\n",
    "for i in currency:\n",
    "    if (currency[i][\"Value\"]/currency[i][\"Nominal\"])<cost:\n",
    "        cost=(currency[i][\"Value\"]/currency[i][\"Nominal\"])\n",
    "        name=i\n",
    "print(name)"
   ]
  },
  {
   "cell_type": "code",
   "execution_count": 42,
   "metadata": {},
   "outputs": [
    {
     "name": "stdout",
     "output_type": "stream",
     "text": [
      "INR\n"
     ]
    }
   ],
   "source": [
    "cost = 10000\n",
    "for key, values in currency.items():\n",
    "    if values['Value']/values['Nominal'] < cost:\n",
    "        cost =  values['Value']/values['Nominal']\n",
    "        name=key\n",
    "print(name)"
   ]
  },
  {
   "cell_type": "code",
   "execution_count": 43,
   "metadata": {},
   "outputs": [],
   "source": [
    "arrivals = {\n",
    "\t'Париж': {'время': '15:25', 'статус': 'ожидается', 'рейс': ['Аэрофлот']},\n",
    "\t'Пекин': {'время': '15:35', 'статус': 'опаздывает', 'рейс': ['China Southern Airlines', 'Россия']},\n",
    "\t'Лиссабон': {'время': '15:40', 'статус': 'ожидается', 'рейс': ['Nordwind', 'Аэрофлот']},\n",
    "}"
   ]
  },
  {
   "cell_type": "code",
   "execution_count": 45,
   "metadata": {},
   "outputs": [
    {
     "name": "stdout",
     "output_type": "stream",
     "text": [
      "ожидается\n"
     ]
    }
   ],
   "source": [
    "print(arrivals['Лиссабон']['статус'])"
   ]
  },
  {
   "cell_type": "code",
   "execution_count": 46,
   "metadata": {},
   "outputs": [
    {
     "data": {
      "text/plain": [
       "'China Southern AirlinesРоссия'"
      ]
     },
     "execution_count": 46,
     "metadata": {},
     "output_type": "execute_result"
    }
   ],
   "source": [
    "arrivals['Пекин']['рейс'][0] + arrivals['Пекин']['рейс'][1]"
   ]
  },
  {
   "cell_type": "code",
   "execution_count": 1,
   "metadata": {},
   "outputs": [],
   "source": [
    "import json\n",
    "with open('data.json', 'rb') as infile:\n",
    "    data = json.load(infile)"
   ]
  },
  {
   "cell_type": "code",
   "execution_count": 2,
   "metadata": {},
   "outputs": [
    {
     "name": "stdout",
     "output_type": "stream",
     "text": [
      "{'events_data': [{'id': 47946124, 'client_id': 62526, 'user_id': 110777, 'category': 'page', 'action': 'enter', 'options': {'name': 'landing'}}, {'id': 47947076, 'client_id': 61944, 'user_id': 108565, 'category': 'page', 'action': 'enter', 'options': {'name': 'landing'}}, {'id': 47962056, 'client_id': 27115, 'user_id': 49440, 'category': 'page', 'action': 'enter', 'options': {'name': 'page'}}, {'id': 47962120, 'client_id': 27115, 'user_id': 49440, 'category': 'datepicker', 'action': 'apply', 'options': {'endDate': '2019-03-31 23:59:59', 'startDate': '2019-03-25 00:00:00'}}, {'id': 47962218, 'client_id': 27115, 'user_id': 49440, 'category': 'table', 'action': 'sort', 'options': {'dir': 'ASC', 'name': 'deal_date'}}, {'id': 47962238, 'client_id': 27115, 'user_id': 49440, 'category': 'table', 'action': 'sort', 'options': {'dir': 'DESC', 'name': 'deal_date'}}, {'id': 47962532, 'client_id': 27115, 'user_id': 49440, 'category': 'table', 'action': 'sort', 'options': {'dir': 'ASC', 'name': 'deal_date'}}, {'id': 47962534, 'client_id': 27115, 'user_id': 49440, 'category': 'table', 'action': 'sort', 'options': {'dir': 'DESC', 'name': 'deal_date'}}, {'id': 47962696, 'client_id': 27115, 'user_id': 49440, 'category': 'datepicker', 'action': 'apply', 'options': {'endDate': '2019-03-10 23:59:59', 'startDate': '2019-03-04 00:00:00'}}, {'id': 47962748, 'client_id': 27115, 'user_id': 49440, 'category': 'datepicker', 'action': 'apply', 'options': {'endDate': '2019-02-24 23:59:59', 'startDate': '2019-02-18 00:00:00'}}, {'id': 47962830, 'client_id': 27115, 'user_id': 49440, 'category': 'datepicker', 'action': 'apply', 'options': {'endDate': '2019-03-31 23:59:59', 'startDate': '2019-03-25 00:00:00'}}, {'id': 47962860, 'client_id': 27115, 'user_id': 49440, 'category': 'datepicker', 'action': 'apply', 'options': {'endDate': '2019-03-31 23:59:59', 'startDate': '2019-03-28 00:00:00'}}, {'id': 47962952, 'client_id': 27115, 'user_id': 49440, 'category': 'datepicker', 'action': 'apply', 'options': {'endDate': '2019-03-31 23:59:59', 'startDate': '2019-03-29 00:00:00'}}, {'id': 47964366, 'client_id': 62017, 'user_id': 108835, 'category': 'page', 'action': 'enter', 'options': {'name': 'landing'}}, {'id': 47989384, 'client_id': 63120, 'user_id': 113069, 'category': 'page', 'action': 'enter', 'options': {'name': 'landing'}}, {'id': 48010418, 'client_id': 59883, 'user_id': 108493, 'category': 'page', 'action': 'enter', 'options': {'name': 'landing'}}, {'id': 48012170, 'client_id': 2913, 'user_id': 37412, 'category': 'page', 'action': 'enter', 'options': {'name': 'landing'}}, {'id': 48014430, 'client_id': 62940, 'user_id': 112351, 'category': 'page', 'action': 'enter', 'options': {'name': 'landing'}}, {'id': 48022684, 'client_id': 63149, 'user_id': 113143, 'category': 'page', 'action': 'enter', 'options': {'name': 'landing'}}, {'id': 48026886, 'client_id': 45391, 'user_id': 76047, 'category': 'page', 'action': 'enter', 'options': {'name': 'landing'}}, {'id': 48034878, 'client_id': 18923, 'user_id': 36488, 'category': 'page', 'action': 'enter', 'options': {'name': 'landing'}}, {'id': 48042052, 'client_id': 63019, 'user_id': 113169, 'category': 'page', 'action': 'enter', 'options': {'name': 'landing'}}, {'id': 48043326, 'client_id': 18923, 'user_id': 36488, 'category': 'page', 'action': 'enter', 'options': {'name': 'landing'}}, {'id': 48043640, 'client_id': 18923, 'user_id': 36488, 'category': 'page', 'action': 'enter', 'options': {'name': 'landing'}}, {'id': 48051248, 'client_id': 15759, 'user_id': 92681, 'category': 'page', 'action': 'enter', 'options': {'name': 'landing'}}, {'id': 48061250, 'client_id': 62007, 'user_id': 92681, 'category': 'page', 'action': 'enter', 'options': {'name': 'page'}}, {'id': 48066902, 'client_id': 62941, 'user_id': 112357, 'category': 'page', 'action': 'enter', 'options': {'name': 'landing'}}, {'id': 48081876, 'client_id': 51009, 'user_id': 87778, 'category': 'page', 'action': 'enter', 'options': {'name': 'landing'}}, {'id': 48106514, 'client_id': 62236, 'user_id': 109579, 'category': 'page', 'action': 'enter', 'options': {'name': 'landing'}}, {'id': 48110768, 'client_id': 44682, 'user_id': 74909, 'category': 'page', 'action': 'enter', 'options': {'name': 'landing'}}, {'id': 48114652, 'client_id': 39709, 'user_id': 67955, 'category': 'page', 'action': 'enter', 'options': {'name': 'landing'}}, {'id': 48118216, 'client_id': 60459, 'user_id': 32532, 'category': 'page', 'action': 'enter', 'options': {'name': 'page'}}, {'id': 48118370, 'client_id': 62144, 'user_id': 109283, 'category': 'page', 'action': 'enter', 'options': {'name': 'landing'}}, {'id': 48118516, 'client_id': 60459, 'user_id': 32532, 'category': 'report', 'action': 'change_mode', 'options': {'mode': 'deals'}}, {'id': 48118564, 'client_id': 60459, 'user_id': 32532, 'category': 'report', 'action': 'change_mode', 'options': {'mode': 'summary'}}, {'id': 48118590, 'client_id': 60459, 'user_id': 32532, 'category': 'report', 'action': 'change_mode', 'options': {'mode': 'deals'}}, {'id': 48118920, 'client_id': 60459, 'user_id': 32532, 'category': 'report', 'action': 'change_mode', 'options': {'mode': 'summary'}}, {'id': 48120374, 'client_id': 60459, 'user_id': 32532, 'category': 'page', 'action': 'enter', 'options': {'name': 'page'}}, {'id': 48120386, 'client_id': 60459, 'user_id': 32532, 'category': 'report', 'action': 'change_mode', 'options': {'mode': 'deals'}}, {'id': 48120602, 'client_id': 52492, 'user_id': 91178, 'category': 'page', 'action': 'enter', 'options': {'name': 'page'}}, {'id': 48120604, 'client_id': 52492, 'user_id': 105477, 'category': 'page', 'action': 'enter', 'options': {'name': 'page'}}, {'id': 48120770, 'client_id': 60459, 'user_id': 32532, 'category': 'page', 'action': 'enter', 'options': {'name': 'page'}}, {'id': 48120876, 'client_id': 60459, 'user_id': 32532, 'category': 'table', 'action': 'sort', 'options': {'dir': 'ASC', 'name': 'visitor_id'}}, {'id': 48120896, 'client_id': 60459, 'user_id': 32532, 'category': 'table', 'action': 'sort', 'options': {'dir': 'DESC', 'name': 'visitor_id'}}, {'id': 48121006, 'client_id': 60459, 'user_id': 32532, 'category': 'table', 'action': 'sort', 'options': {'dir': 'ASC', 'name': 'visitor_id'}}, {'id': 48121008, 'client_id': 60459, 'user_id': 32532, 'category': 'table', 'action': 'sort', 'options': {'dir': 'DESC', 'name': 'visitor_id'}}, {'id': 48125372, 'client_id': 52492, 'user_id': 91178, 'category': 'page', 'action': 'enter', 'options': {'name': 'page'}}, {'id': 48130434, 'client_id': 18923, 'user_id': 36488, 'category': 'page', 'action': 'enter', 'options': {'name': 'landing'}}, {'id': 48135712, 'client_id': 25301, 'user_id': 54229, 'category': 'page', 'action': 'enter', 'options': {'name': 'landing'}}, {'id': 48136376, 'client_id': 18923, 'user_id': 36488, 'category': 'page', 'action': 'enter', 'options': {'name': 'landing'}}, {'id': 48136890, 'client_id': 33645, 'user_id': 61378, 'category': 'page', 'action': 'enter', 'options': {'name': 'landing'}}, {'id': 48145332, 'client_id': 62089, 'user_id': 109095, 'category': 'page', 'action': 'enter', 'options': {'name': 'landing'}}, {'id': 48155244, 'client_id': 26705, 'user_id': 48880, 'category': 'page', 'action': 'enter', 'options': {'name': 'landing'}}, {'id': 48160942, 'client_id': 1103, 'user_id': 109501, 'category': 'page', 'action': 'enter', 'options': {'name': 'page'}}, {'id': 48166190, 'client_id': 62439, 'user_id': 110397, 'category': 'page', 'action': 'enter', 'options': {'name': 'landing'}}, {'id': 48167428, 'client_id': 44196, 'user_id': 74136, 'category': 'page', 'action': 'enter', 'options': {'name': 'landing'}}, {'id': 48171114, 'client_id': 62602, 'user_id': 111069, 'category': 'page', 'action': 'enter', 'options': {'name': 'page'}}, {'id': 48173426, 'client_id': 62602, 'user_id': 111069, 'category': 'page', 'action': 'enter', 'options': {'name': 'page'}}, {'id': 48173444, 'client_id': 62602, 'user_id': 111069, 'category': 'report', 'action': 'link_click', 'options': {'url': 'javascript:void(0);', 'name': 'deal_count', 'value': '1'}}, {'id': 48173446, 'client_id': 62602, 'user_id': 111069, 'category': 'page', 'action': 'enter', 'options': {'name': 'page'}}, {'id': 48173640, 'client_id': 62602, 'user_id': 111069, 'category': 'page', 'action': 'enter', 'options': {'name': 'page'}}, {'id': 48173686, 'client_id': 62602, 'user_id': 111069, 'category': 'page', 'action': 'enter', 'options': {'name': 'page'}}, {'id': 48173698, 'client_id': 62602, 'user_id': 111069, 'category': 'page', 'action': 'enter', 'options': {'name': 'page'}}, {'id': 48174302, 'client_id': 62602, 'user_id': 111069, 'category': 'page', 'action': 'enter', 'options': {'name': 'page'}}, {'id': 48174312, 'client_id': 62602, 'user_id': 111069, 'category': 'report', 'action': 'link_click', 'options': {'url': 'javascript:void(0);', 'name': 'deal_count', 'value': '1'}}, {'id': 48174314, 'client_id': 62602, 'user_id': 111069, 'category': 'page', 'action': 'enter', 'options': {'name': 'page'}}, {'id': 48174338, 'client_id': 62602, 'user_id': 111069, 'category': 'page', 'action': 'enter', 'options': {'name': 'page'}}, {'id': 48179988, 'client_id': 50149, 'user_id': 86073, 'category': 'page', 'action': 'enter', 'options': {'name': 'landing'}}, {'id': 57301281, 'client_id': 57009, 'user_id': 107244, 'category': 'page', 'action': 'enter', 'options': {'name': 'landing'}}, {'id': 57326589, 'client_id': 57207, 'user_id': 107968, 'category': 'page', 'action': 'enter', 'options': {'name': 'landing'}}, {'id': 57328781, 'client_id': 32792, 'user_id': 57997, 'category': 'page', 'action': 'enter', 'options': {'name': 'landing'}}, {'id': 57335607, 'client_id': 27323, 'user_id': 92681, 'category': 'page', 'action': 'enter', 'options': {'name': 'landing'}}, {'id': 57355249, 'client_id': 24500, 'user_id': 45371, 'category': 'page', 'action': 'enter', 'options': {'name': 'landing'}}, {'id': 57357969, 'client_id': 24500, 'user_id': 45371, 'category': 'page', 'action': 'enter', 'options': {'name': 'page'}}, {'id': 57364085, 'client_id': 58330, 'user_id': 122756, 'category': 'page', 'action': 'enter', 'options': {'name': 'landing'}}, {'id': 57368897, 'client_id': 61245, 'user_id': 122796, 'category': 'page', 'action': 'enter', 'options': {'name': 'landing'}}, {'id': 57380235, 'client_id': 19799, 'user_id': 108493, 'category': 'page', 'action': 'enter', 'options': {'name': 'landing'}}, {'id': 57397813, 'client_id': 56544, 'user_id': 105404, 'category': 'page', 'action': 'enter', 'options': {'name': 'page'}}, {'id': 57397881, 'client_id': 56544, 'user_id': 105404, 'category': 'datepicker', 'action': 'apply', 'options': {'endDate': '2019-03-31 23:59:59', 'startDate': '2019-03-31 00:00:00'}}, {'id': 57397923, 'client_id': 56544, 'user_id': 105404, 'category': 'datepicker', 'action': 'apply', 'options': {'endDate': '2019-03-30 23:59:59', 'startDate': '2019-03-30 00:00:00'}}, {'id': 57397987, 'client_id': 56544, 'user_id': 105404, 'category': 'datepicker', 'action': 'apply', 'options': {'endDate': '2019-03-29 23:59:59', 'startDate': '2019-03-29 00:00:00'}}, {'id': 57398079, 'client_id': 56544, 'user_id': 105404, 'category': 'datepicker', 'action': 'apply', 'options': {'endDate': '2019-03-28 23:59:59', 'startDate': '2019-03-28 00:00:00'}}, {'id': 57398119, 'client_id': 56544, 'user_id': 105404, 'category': 'datepicker', 'action': 'apply', 'options': {'endDate': '2019-03-27 23:59:59', 'startDate': '2019-03-27 00:00:00'}}, {'id': 57398165, 'client_id': 56544, 'user_id': 105404, 'category': 'datepicker', 'action': 'apply', 'options': {'endDate': '2019-03-26 23:59:59', 'startDate': '2019-03-26 00:00:00'}}, {'id': 57398203, 'client_id': 56544, 'user_id': 105404, 'category': 'datepicker', 'action': 'apply', 'options': {'endDate': '2019-03-25 23:59:59', 'startDate': '2019-03-25 00:00:00'}}, {'id': 57414209, 'client_id': 23207, 'user_id': 43300, 'category': 'page', 'action': 'enter', 'options': {'name': 'landing'}}, {'id': 57414633, 'client_id': 23207, 'user_id': 43300, 'category': 'page', 'action': 'enter', 'options': {'name': 'landing'}}, {'id': 57414663, 'client_id': 23207, 'user_id': 85282, 'category': 'page', 'action': 'enter', 'options': {'name': 'landing'}}, {'id': 57414851, 'client_id': 23207, 'user_id': 43300, 'category': 'page', 'action': 'enter', 'options': {'name': 'landing'}}, {'id': 57420219, 'client_id': 48128, 'user_id': 121686, 'category': 'page', 'action': 'enter', 'options': {'name': 'landing'}}, {'id': 57424709, 'client_id': 58113, 'user_id': 120952, 'category': 'page', 'action': 'enter', 'options': {'name': 'page'}}, {'id': 57424757, 'client_id': 58113, 'user_id': 120952, 'category': 'report', 'action': 'change_mode', 'options': {'mode': 'deals'}}, {'id': 57425399, 'client_id': 58113, 'user_id': 120952, 'category': 'table', 'action': 'sort', 'options': {'dir': 'ASC', 'name': 'ac'}}, {'id': 57425421, 'client_id': 58113, 'user_id': 120952, 'category': 'table', 'action': 'sort', 'options': {'dir': 'DESC', 'name': 'ac'}}, {'id': 57426007, 'client_id': 58113, 'user_id': 120952, 'category': 'datepicker', 'action': 'apply', 'options': {'endDate': '2019-03-24 23:59:59', 'startDate': '2019-03-18 00:00:00'}}, {'id': 57426303, 'client_id': 58113, 'user_id': 120952, 'category': 'datepicker', 'action': 'apply', 'options': {'endDate': '2019-03-17 23:59:59', 'startDate': '2019-03-11 00:00:00'}}, {'id': 57431787, 'client_id': 58113, 'user_id': 120952, 'category': 'page', 'action': 'enter', 'options': {'name': 'page'}}, {'id': 57444593, 'client_id': 57613, 'user_id': 110958, 'category': 'page', 'action': 'enter', 'options': {'name': 'landing'}}, {'id': 57453741, 'client_id': 61244, 'user_id': 120170, 'category': 'page', 'action': 'enter', 'options': {'name': 'landing'}}, {'id': 57467371, 'client_id': 53666, 'user_id': 122224, 'category': 'page', 'action': 'enter', 'options': {'name': 'landing'}}, {'id': 57473917, 'client_id': 53018, 'user_id': 92402, 'category': 'page', 'action': 'enter', 'options': {'name': 'landing'}}, {'id': 57475785, 'client_id': 53666, 'user_id': 122224, 'category': 'page', 'action': 'enter', 'options': {'name': 'landing'}}, {'id': 57492477, 'client_id': 41737, 'user_id': 122874, 'category': 'page', 'action': 'enter', 'options': {'name': 'landing'}}, {'id': 57493427, 'client_id': 61078, 'user_id': 119662, 'category': 'page', 'action': 'enter', 'options': {'name': 'landing'}}, {'id': 57515935, 'client_id': 20820, 'user_id': 116898, 'category': 'page', 'action': 'enter', 'options': {'name': 'landing'}}, {'id': 57517657, 'client_id': 41737, 'user_id': 122874, 'category': 'page', 'action': 'enter', 'options': {'name': 'landing'}}, {'id': 57540495, 'client_id': 49700, 'user_id': 84946, 'category': 'page', 'action': 'enter', 'options': {'name': 'landing'}}]}\n"
     ]
    }
   ],
   "source": [
    "print(data)"
   ]
  },
  {
   "cell_type": "code",
   "execution_count": 3,
   "metadata": {},
   "outputs": [
    {
     "data": {
      "text/plain": [
       "dict_keys(['events_data'])"
      ]
     },
     "execution_count": 3,
     "metadata": {},
     "output_type": "execute_result"
    }
   ],
   "source": [
    "data.keys()"
   ]
  },
  {
   "cell_type": "code",
   "execution_count": 4,
   "metadata": {},
   "outputs": [
    {
     "data": {
      "text/plain": [
       "[{'id': 47946124,\n",
       "  'client_id': 62526,\n",
       "  'user_id': 110777,\n",
       "  'category': 'page',\n",
       "  'action': 'enter',\n",
       "  'options': {'name': 'landing'}},\n",
       " {'id': 47947076,\n",
       "  'client_id': 61944,\n",
       "  'user_id': 108565,\n",
       "  'category': 'page',\n",
       "  'action': 'enter',\n",
       "  'options': {'name': 'landing'}},\n",
       " {'id': 47962056,\n",
       "  'client_id': 27115,\n",
       "  'user_id': 49440,\n",
       "  'category': 'page',\n",
       "  'action': 'enter',\n",
       "  'options': {'name': 'page'}},\n",
       " {'id': 47962120,\n",
       "  'client_id': 27115,\n",
       "  'user_id': 49440,\n",
       "  'category': 'datepicker',\n",
       "  'action': 'apply',\n",
       "  'options': {'endDate': '2019-03-31 23:59:59',\n",
       "   'startDate': '2019-03-25 00:00:00'}},\n",
       " {'id': 47962218,\n",
       "  'client_id': 27115,\n",
       "  'user_id': 49440,\n",
       "  'category': 'table',\n",
       "  'action': 'sort',\n",
       "  'options': {'dir': 'ASC', 'name': 'deal_date'}},\n",
       " {'id': 47962238,\n",
       "  'client_id': 27115,\n",
       "  'user_id': 49440,\n",
       "  'category': 'table',\n",
       "  'action': 'sort',\n",
       "  'options': {'dir': 'DESC', 'name': 'deal_date'}},\n",
       " {'id': 47962532,\n",
       "  'client_id': 27115,\n",
       "  'user_id': 49440,\n",
       "  'category': 'table',\n",
       "  'action': 'sort',\n",
       "  'options': {'dir': 'ASC', 'name': 'deal_date'}},\n",
       " {'id': 47962534,\n",
       "  'client_id': 27115,\n",
       "  'user_id': 49440,\n",
       "  'category': 'table',\n",
       "  'action': 'sort',\n",
       "  'options': {'dir': 'DESC', 'name': 'deal_date'}},\n",
       " {'id': 47962696,\n",
       "  'client_id': 27115,\n",
       "  'user_id': 49440,\n",
       "  'category': 'datepicker',\n",
       "  'action': 'apply',\n",
       "  'options': {'endDate': '2019-03-10 23:59:59',\n",
       "   'startDate': '2019-03-04 00:00:00'}},\n",
       " {'id': 47962748,\n",
       "  'client_id': 27115,\n",
       "  'user_id': 49440,\n",
       "  'category': 'datepicker',\n",
       "  'action': 'apply',\n",
       "  'options': {'endDate': '2019-02-24 23:59:59',\n",
       "   'startDate': '2019-02-18 00:00:00'}},\n",
       " {'id': 47962830,\n",
       "  'client_id': 27115,\n",
       "  'user_id': 49440,\n",
       "  'category': 'datepicker',\n",
       "  'action': 'apply',\n",
       "  'options': {'endDate': '2019-03-31 23:59:59',\n",
       "   'startDate': '2019-03-25 00:00:00'}},\n",
       " {'id': 47962860,\n",
       "  'client_id': 27115,\n",
       "  'user_id': 49440,\n",
       "  'category': 'datepicker',\n",
       "  'action': 'apply',\n",
       "  'options': {'endDate': '2019-03-31 23:59:59',\n",
       "   'startDate': '2019-03-28 00:00:00'}},\n",
       " {'id': 47962952,\n",
       "  'client_id': 27115,\n",
       "  'user_id': 49440,\n",
       "  'category': 'datepicker',\n",
       "  'action': 'apply',\n",
       "  'options': {'endDate': '2019-03-31 23:59:59',\n",
       "   'startDate': '2019-03-29 00:00:00'}},\n",
       " {'id': 47964366,\n",
       "  'client_id': 62017,\n",
       "  'user_id': 108835,\n",
       "  'category': 'page',\n",
       "  'action': 'enter',\n",
       "  'options': {'name': 'landing'}},\n",
       " {'id': 47989384,\n",
       "  'client_id': 63120,\n",
       "  'user_id': 113069,\n",
       "  'category': 'page',\n",
       "  'action': 'enter',\n",
       "  'options': {'name': 'landing'}},\n",
       " {'id': 48010418,\n",
       "  'client_id': 59883,\n",
       "  'user_id': 108493,\n",
       "  'category': 'page',\n",
       "  'action': 'enter',\n",
       "  'options': {'name': 'landing'}},\n",
       " {'id': 48012170,\n",
       "  'client_id': 2913,\n",
       "  'user_id': 37412,\n",
       "  'category': 'page',\n",
       "  'action': 'enter',\n",
       "  'options': {'name': 'landing'}},\n",
       " {'id': 48014430,\n",
       "  'client_id': 62940,\n",
       "  'user_id': 112351,\n",
       "  'category': 'page',\n",
       "  'action': 'enter',\n",
       "  'options': {'name': 'landing'}},\n",
       " {'id': 48022684,\n",
       "  'client_id': 63149,\n",
       "  'user_id': 113143,\n",
       "  'category': 'page',\n",
       "  'action': 'enter',\n",
       "  'options': {'name': 'landing'}},\n",
       " {'id': 48026886,\n",
       "  'client_id': 45391,\n",
       "  'user_id': 76047,\n",
       "  'category': 'page',\n",
       "  'action': 'enter',\n",
       "  'options': {'name': 'landing'}},\n",
       " {'id': 48034878,\n",
       "  'client_id': 18923,\n",
       "  'user_id': 36488,\n",
       "  'category': 'page',\n",
       "  'action': 'enter',\n",
       "  'options': {'name': 'landing'}},\n",
       " {'id': 48042052,\n",
       "  'client_id': 63019,\n",
       "  'user_id': 113169,\n",
       "  'category': 'page',\n",
       "  'action': 'enter',\n",
       "  'options': {'name': 'landing'}},\n",
       " {'id': 48043326,\n",
       "  'client_id': 18923,\n",
       "  'user_id': 36488,\n",
       "  'category': 'page',\n",
       "  'action': 'enter',\n",
       "  'options': {'name': 'landing'}},\n",
       " {'id': 48043640,\n",
       "  'client_id': 18923,\n",
       "  'user_id': 36488,\n",
       "  'category': 'page',\n",
       "  'action': 'enter',\n",
       "  'options': {'name': 'landing'}},\n",
       " {'id': 48051248,\n",
       "  'client_id': 15759,\n",
       "  'user_id': 92681,\n",
       "  'category': 'page',\n",
       "  'action': 'enter',\n",
       "  'options': {'name': 'landing'}},\n",
       " {'id': 48061250,\n",
       "  'client_id': 62007,\n",
       "  'user_id': 92681,\n",
       "  'category': 'page',\n",
       "  'action': 'enter',\n",
       "  'options': {'name': 'page'}},\n",
       " {'id': 48066902,\n",
       "  'client_id': 62941,\n",
       "  'user_id': 112357,\n",
       "  'category': 'page',\n",
       "  'action': 'enter',\n",
       "  'options': {'name': 'landing'}},\n",
       " {'id': 48081876,\n",
       "  'client_id': 51009,\n",
       "  'user_id': 87778,\n",
       "  'category': 'page',\n",
       "  'action': 'enter',\n",
       "  'options': {'name': 'landing'}},\n",
       " {'id': 48106514,\n",
       "  'client_id': 62236,\n",
       "  'user_id': 109579,\n",
       "  'category': 'page',\n",
       "  'action': 'enter',\n",
       "  'options': {'name': 'landing'}},\n",
       " {'id': 48110768,\n",
       "  'client_id': 44682,\n",
       "  'user_id': 74909,\n",
       "  'category': 'page',\n",
       "  'action': 'enter',\n",
       "  'options': {'name': 'landing'}},\n",
       " {'id': 48114652,\n",
       "  'client_id': 39709,\n",
       "  'user_id': 67955,\n",
       "  'category': 'page',\n",
       "  'action': 'enter',\n",
       "  'options': {'name': 'landing'}},\n",
       " {'id': 48118216,\n",
       "  'client_id': 60459,\n",
       "  'user_id': 32532,\n",
       "  'category': 'page',\n",
       "  'action': 'enter',\n",
       "  'options': {'name': 'page'}},\n",
       " {'id': 48118370,\n",
       "  'client_id': 62144,\n",
       "  'user_id': 109283,\n",
       "  'category': 'page',\n",
       "  'action': 'enter',\n",
       "  'options': {'name': 'landing'}},\n",
       " {'id': 48118516,\n",
       "  'client_id': 60459,\n",
       "  'user_id': 32532,\n",
       "  'category': 'report',\n",
       "  'action': 'change_mode',\n",
       "  'options': {'mode': 'deals'}},\n",
       " {'id': 48118564,\n",
       "  'client_id': 60459,\n",
       "  'user_id': 32532,\n",
       "  'category': 'report',\n",
       "  'action': 'change_mode',\n",
       "  'options': {'mode': 'summary'}},\n",
       " {'id': 48118590,\n",
       "  'client_id': 60459,\n",
       "  'user_id': 32532,\n",
       "  'category': 'report',\n",
       "  'action': 'change_mode',\n",
       "  'options': {'mode': 'deals'}},\n",
       " {'id': 48118920,\n",
       "  'client_id': 60459,\n",
       "  'user_id': 32532,\n",
       "  'category': 'report',\n",
       "  'action': 'change_mode',\n",
       "  'options': {'mode': 'summary'}},\n",
       " {'id': 48120374,\n",
       "  'client_id': 60459,\n",
       "  'user_id': 32532,\n",
       "  'category': 'page',\n",
       "  'action': 'enter',\n",
       "  'options': {'name': 'page'}},\n",
       " {'id': 48120386,\n",
       "  'client_id': 60459,\n",
       "  'user_id': 32532,\n",
       "  'category': 'report',\n",
       "  'action': 'change_mode',\n",
       "  'options': {'mode': 'deals'}},\n",
       " {'id': 48120602,\n",
       "  'client_id': 52492,\n",
       "  'user_id': 91178,\n",
       "  'category': 'page',\n",
       "  'action': 'enter',\n",
       "  'options': {'name': 'page'}},\n",
       " {'id': 48120604,\n",
       "  'client_id': 52492,\n",
       "  'user_id': 105477,\n",
       "  'category': 'page',\n",
       "  'action': 'enter',\n",
       "  'options': {'name': 'page'}},\n",
       " {'id': 48120770,\n",
       "  'client_id': 60459,\n",
       "  'user_id': 32532,\n",
       "  'category': 'page',\n",
       "  'action': 'enter',\n",
       "  'options': {'name': 'page'}},\n",
       " {'id': 48120876,\n",
       "  'client_id': 60459,\n",
       "  'user_id': 32532,\n",
       "  'category': 'table',\n",
       "  'action': 'sort',\n",
       "  'options': {'dir': 'ASC', 'name': 'visitor_id'}},\n",
       " {'id': 48120896,\n",
       "  'client_id': 60459,\n",
       "  'user_id': 32532,\n",
       "  'category': 'table',\n",
       "  'action': 'sort',\n",
       "  'options': {'dir': 'DESC', 'name': 'visitor_id'}},\n",
       " {'id': 48121006,\n",
       "  'client_id': 60459,\n",
       "  'user_id': 32532,\n",
       "  'category': 'table',\n",
       "  'action': 'sort',\n",
       "  'options': {'dir': 'ASC', 'name': 'visitor_id'}},\n",
       " {'id': 48121008,\n",
       "  'client_id': 60459,\n",
       "  'user_id': 32532,\n",
       "  'category': 'table',\n",
       "  'action': 'sort',\n",
       "  'options': {'dir': 'DESC', 'name': 'visitor_id'}},\n",
       " {'id': 48125372,\n",
       "  'client_id': 52492,\n",
       "  'user_id': 91178,\n",
       "  'category': 'page',\n",
       "  'action': 'enter',\n",
       "  'options': {'name': 'page'}},\n",
       " {'id': 48130434,\n",
       "  'client_id': 18923,\n",
       "  'user_id': 36488,\n",
       "  'category': 'page',\n",
       "  'action': 'enter',\n",
       "  'options': {'name': 'landing'}},\n",
       " {'id': 48135712,\n",
       "  'client_id': 25301,\n",
       "  'user_id': 54229,\n",
       "  'category': 'page',\n",
       "  'action': 'enter',\n",
       "  'options': {'name': 'landing'}},\n",
       " {'id': 48136376,\n",
       "  'client_id': 18923,\n",
       "  'user_id': 36488,\n",
       "  'category': 'page',\n",
       "  'action': 'enter',\n",
       "  'options': {'name': 'landing'}},\n",
       " {'id': 48136890,\n",
       "  'client_id': 33645,\n",
       "  'user_id': 61378,\n",
       "  'category': 'page',\n",
       "  'action': 'enter',\n",
       "  'options': {'name': 'landing'}},\n",
       " {'id': 48145332,\n",
       "  'client_id': 62089,\n",
       "  'user_id': 109095,\n",
       "  'category': 'page',\n",
       "  'action': 'enter',\n",
       "  'options': {'name': 'landing'}},\n",
       " {'id': 48155244,\n",
       "  'client_id': 26705,\n",
       "  'user_id': 48880,\n",
       "  'category': 'page',\n",
       "  'action': 'enter',\n",
       "  'options': {'name': 'landing'}},\n",
       " {'id': 48160942,\n",
       "  'client_id': 1103,\n",
       "  'user_id': 109501,\n",
       "  'category': 'page',\n",
       "  'action': 'enter',\n",
       "  'options': {'name': 'page'}},\n",
       " {'id': 48166190,\n",
       "  'client_id': 62439,\n",
       "  'user_id': 110397,\n",
       "  'category': 'page',\n",
       "  'action': 'enter',\n",
       "  'options': {'name': 'landing'}},\n",
       " {'id': 48167428,\n",
       "  'client_id': 44196,\n",
       "  'user_id': 74136,\n",
       "  'category': 'page',\n",
       "  'action': 'enter',\n",
       "  'options': {'name': 'landing'}},\n",
       " {'id': 48171114,\n",
       "  'client_id': 62602,\n",
       "  'user_id': 111069,\n",
       "  'category': 'page',\n",
       "  'action': 'enter',\n",
       "  'options': {'name': 'page'}},\n",
       " {'id': 48173426,\n",
       "  'client_id': 62602,\n",
       "  'user_id': 111069,\n",
       "  'category': 'page',\n",
       "  'action': 'enter',\n",
       "  'options': {'name': 'page'}},\n",
       " {'id': 48173444,\n",
       "  'client_id': 62602,\n",
       "  'user_id': 111069,\n",
       "  'category': 'report',\n",
       "  'action': 'link_click',\n",
       "  'options': {'url': 'javascript:void(0);',\n",
       "   'name': 'deal_count',\n",
       "   'value': '1'}},\n",
       " {'id': 48173446,\n",
       "  'client_id': 62602,\n",
       "  'user_id': 111069,\n",
       "  'category': 'page',\n",
       "  'action': 'enter',\n",
       "  'options': {'name': 'page'}},\n",
       " {'id': 48173640,\n",
       "  'client_id': 62602,\n",
       "  'user_id': 111069,\n",
       "  'category': 'page',\n",
       "  'action': 'enter',\n",
       "  'options': {'name': 'page'}},\n",
       " {'id': 48173686,\n",
       "  'client_id': 62602,\n",
       "  'user_id': 111069,\n",
       "  'category': 'page',\n",
       "  'action': 'enter',\n",
       "  'options': {'name': 'page'}},\n",
       " {'id': 48173698,\n",
       "  'client_id': 62602,\n",
       "  'user_id': 111069,\n",
       "  'category': 'page',\n",
       "  'action': 'enter',\n",
       "  'options': {'name': 'page'}},\n",
       " {'id': 48174302,\n",
       "  'client_id': 62602,\n",
       "  'user_id': 111069,\n",
       "  'category': 'page',\n",
       "  'action': 'enter',\n",
       "  'options': {'name': 'page'}},\n",
       " {'id': 48174312,\n",
       "  'client_id': 62602,\n",
       "  'user_id': 111069,\n",
       "  'category': 'report',\n",
       "  'action': 'link_click',\n",
       "  'options': {'url': 'javascript:void(0);',\n",
       "   'name': 'deal_count',\n",
       "   'value': '1'}},\n",
       " {'id': 48174314,\n",
       "  'client_id': 62602,\n",
       "  'user_id': 111069,\n",
       "  'category': 'page',\n",
       "  'action': 'enter',\n",
       "  'options': {'name': 'page'}},\n",
       " {'id': 48174338,\n",
       "  'client_id': 62602,\n",
       "  'user_id': 111069,\n",
       "  'category': 'page',\n",
       "  'action': 'enter',\n",
       "  'options': {'name': 'page'}},\n",
       " {'id': 48179988,\n",
       "  'client_id': 50149,\n",
       "  'user_id': 86073,\n",
       "  'category': 'page',\n",
       "  'action': 'enter',\n",
       "  'options': {'name': 'landing'}},\n",
       " {'id': 57301281,\n",
       "  'client_id': 57009,\n",
       "  'user_id': 107244,\n",
       "  'category': 'page',\n",
       "  'action': 'enter',\n",
       "  'options': {'name': 'landing'}},\n",
       " {'id': 57326589,\n",
       "  'client_id': 57207,\n",
       "  'user_id': 107968,\n",
       "  'category': 'page',\n",
       "  'action': 'enter',\n",
       "  'options': {'name': 'landing'}},\n",
       " {'id': 57328781,\n",
       "  'client_id': 32792,\n",
       "  'user_id': 57997,\n",
       "  'category': 'page',\n",
       "  'action': 'enter',\n",
       "  'options': {'name': 'landing'}},\n",
       " {'id': 57335607,\n",
       "  'client_id': 27323,\n",
       "  'user_id': 92681,\n",
       "  'category': 'page',\n",
       "  'action': 'enter',\n",
       "  'options': {'name': 'landing'}},\n",
       " {'id': 57355249,\n",
       "  'client_id': 24500,\n",
       "  'user_id': 45371,\n",
       "  'category': 'page',\n",
       "  'action': 'enter',\n",
       "  'options': {'name': 'landing'}},\n",
       " {'id': 57357969,\n",
       "  'client_id': 24500,\n",
       "  'user_id': 45371,\n",
       "  'category': 'page',\n",
       "  'action': 'enter',\n",
       "  'options': {'name': 'page'}},\n",
       " {'id': 57364085,\n",
       "  'client_id': 58330,\n",
       "  'user_id': 122756,\n",
       "  'category': 'page',\n",
       "  'action': 'enter',\n",
       "  'options': {'name': 'landing'}},\n",
       " {'id': 57368897,\n",
       "  'client_id': 61245,\n",
       "  'user_id': 122796,\n",
       "  'category': 'page',\n",
       "  'action': 'enter',\n",
       "  'options': {'name': 'landing'}},\n",
       " {'id': 57380235,\n",
       "  'client_id': 19799,\n",
       "  'user_id': 108493,\n",
       "  'category': 'page',\n",
       "  'action': 'enter',\n",
       "  'options': {'name': 'landing'}},\n",
       " {'id': 57397813,\n",
       "  'client_id': 56544,\n",
       "  'user_id': 105404,\n",
       "  'category': 'page',\n",
       "  'action': 'enter',\n",
       "  'options': {'name': 'page'}},\n",
       " {'id': 57397881,\n",
       "  'client_id': 56544,\n",
       "  'user_id': 105404,\n",
       "  'category': 'datepicker',\n",
       "  'action': 'apply',\n",
       "  'options': {'endDate': '2019-03-31 23:59:59',\n",
       "   'startDate': '2019-03-31 00:00:00'}},\n",
       " {'id': 57397923,\n",
       "  'client_id': 56544,\n",
       "  'user_id': 105404,\n",
       "  'category': 'datepicker',\n",
       "  'action': 'apply',\n",
       "  'options': {'endDate': '2019-03-30 23:59:59',\n",
       "   'startDate': '2019-03-30 00:00:00'}},\n",
       " {'id': 57397987,\n",
       "  'client_id': 56544,\n",
       "  'user_id': 105404,\n",
       "  'category': 'datepicker',\n",
       "  'action': 'apply',\n",
       "  'options': {'endDate': '2019-03-29 23:59:59',\n",
       "   'startDate': '2019-03-29 00:00:00'}},\n",
       " {'id': 57398079,\n",
       "  'client_id': 56544,\n",
       "  'user_id': 105404,\n",
       "  'category': 'datepicker',\n",
       "  'action': 'apply',\n",
       "  'options': {'endDate': '2019-03-28 23:59:59',\n",
       "   'startDate': '2019-03-28 00:00:00'}},\n",
       " {'id': 57398119,\n",
       "  'client_id': 56544,\n",
       "  'user_id': 105404,\n",
       "  'category': 'datepicker',\n",
       "  'action': 'apply',\n",
       "  'options': {'endDate': '2019-03-27 23:59:59',\n",
       "   'startDate': '2019-03-27 00:00:00'}},\n",
       " {'id': 57398165,\n",
       "  'client_id': 56544,\n",
       "  'user_id': 105404,\n",
       "  'category': 'datepicker',\n",
       "  'action': 'apply',\n",
       "  'options': {'endDate': '2019-03-26 23:59:59',\n",
       "   'startDate': '2019-03-26 00:00:00'}},\n",
       " {'id': 57398203,\n",
       "  'client_id': 56544,\n",
       "  'user_id': 105404,\n",
       "  'category': 'datepicker',\n",
       "  'action': 'apply',\n",
       "  'options': {'endDate': '2019-03-25 23:59:59',\n",
       "   'startDate': '2019-03-25 00:00:00'}},\n",
       " {'id': 57414209,\n",
       "  'client_id': 23207,\n",
       "  'user_id': 43300,\n",
       "  'category': 'page',\n",
       "  'action': 'enter',\n",
       "  'options': {'name': 'landing'}},\n",
       " {'id': 57414633,\n",
       "  'client_id': 23207,\n",
       "  'user_id': 43300,\n",
       "  'category': 'page',\n",
       "  'action': 'enter',\n",
       "  'options': {'name': 'landing'}},\n",
       " {'id': 57414663,\n",
       "  'client_id': 23207,\n",
       "  'user_id': 85282,\n",
       "  'category': 'page',\n",
       "  'action': 'enter',\n",
       "  'options': {'name': 'landing'}},\n",
       " {'id': 57414851,\n",
       "  'client_id': 23207,\n",
       "  'user_id': 43300,\n",
       "  'category': 'page',\n",
       "  'action': 'enter',\n",
       "  'options': {'name': 'landing'}},\n",
       " {'id': 57420219,\n",
       "  'client_id': 48128,\n",
       "  'user_id': 121686,\n",
       "  'category': 'page',\n",
       "  'action': 'enter',\n",
       "  'options': {'name': 'landing'}},\n",
       " {'id': 57424709,\n",
       "  'client_id': 58113,\n",
       "  'user_id': 120952,\n",
       "  'category': 'page',\n",
       "  'action': 'enter',\n",
       "  'options': {'name': 'page'}},\n",
       " {'id': 57424757,\n",
       "  'client_id': 58113,\n",
       "  'user_id': 120952,\n",
       "  'category': 'report',\n",
       "  'action': 'change_mode',\n",
       "  'options': {'mode': 'deals'}},\n",
       " {'id': 57425399,\n",
       "  'client_id': 58113,\n",
       "  'user_id': 120952,\n",
       "  'category': 'table',\n",
       "  'action': 'sort',\n",
       "  'options': {'dir': 'ASC', 'name': 'ac'}},\n",
       " {'id': 57425421,\n",
       "  'client_id': 58113,\n",
       "  'user_id': 120952,\n",
       "  'category': 'table',\n",
       "  'action': 'sort',\n",
       "  'options': {'dir': 'DESC', 'name': 'ac'}},\n",
       " {'id': 57426007,\n",
       "  'client_id': 58113,\n",
       "  'user_id': 120952,\n",
       "  'category': 'datepicker',\n",
       "  'action': 'apply',\n",
       "  'options': {'endDate': '2019-03-24 23:59:59',\n",
       "   'startDate': '2019-03-18 00:00:00'}},\n",
       " {'id': 57426303,\n",
       "  'client_id': 58113,\n",
       "  'user_id': 120952,\n",
       "  'category': 'datepicker',\n",
       "  'action': 'apply',\n",
       "  'options': {'endDate': '2019-03-17 23:59:59',\n",
       "   'startDate': '2019-03-11 00:00:00'}},\n",
       " {'id': 57431787,\n",
       "  'client_id': 58113,\n",
       "  'user_id': 120952,\n",
       "  'category': 'page',\n",
       "  'action': 'enter',\n",
       "  'options': {'name': 'page'}},\n",
       " {'id': 57444593,\n",
       "  'client_id': 57613,\n",
       "  'user_id': 110958,\n",
       "  'category': 'page',\n",
       "  'action': 'enter',\n",
       "  'options': {'name': 'landing'}},\n",
       " {'id': 57453741,\n",
       "  'client_id': 61244,\n",
       "  'user_id': 120170,\n",
       "  'category': 'page',\n",
       "  'action': 'enter',\n",
       "  'options': {'name': 'landing'}},\n",
       " {'id': 57467371,\n",
       "  'client_id': 53666,\n",
       "  'user_id': 122224,\n",
       "  'category': 'page',\n",
       "  'action': 'enter',\n",
       "  'options': {'name': 'landing'}},\n",
       " {'id': 57473917,\n",
       "  'client_id': 53018,\n",
       "  'user_id': 92402,\n",
       "  'category': 'page',\n",
       "  'action': 'enter',\n",
       "  'options': {'name': 'landing'}},\n",
       " {'id': 57475785,\n",
       "  'client_id': 53666,\n",
       "  'user_id': 122224,\n",
       "  'category': 'page',\n",
       "  'action': 'enter',\n",
       "  'options': {'name': 'landing'}},\n",
       " {'id': 57492477,\n",
       "  'client_id': 41737,\n",
       "  'user_id': 122874,\n",
       "  'category': 'page',\n",
       "  'action': 'enter',\n",
       "  'options': {'name': 'landing'}},\n",
       " {'id': 57493427,\n",
       "  'client_id': 61078,\n",
       "  'user_id': 119662,\n",
       "  'category': 'page',\n",
       "  'action': 'enter',\n",
       "  'options': {'name': 'landing'}},\n",
       " {'id': 57515935,\n",
       "  'client_id': 20820,\n",
       "  'user_id': 116898,\n",
       "  'category': 'page',\n",
       "  'action': 'enter',\n",
       "  'options': {'name': 'landing'}},\n",
       " {'id': 57517657,\n",
       "  'client_id': 41737,\n",
       "  'user_id': 122874,\n",
       "  'category': 'page',\n",
       "  'action': 'enter',\n",
       "  'options': {'name': 'landing'}},\n",
       " {'id': 57540495,\n",
       "  'client_id': 49700,\n",
       "  'user_id': 84946,\n",
       "  'category': 'page',\n",
       "  'action': 'enter',\n",
       "  'options': {'name': 'landing'}}]"
      ]
     },
     "execution_count": 4,
     "metadata": {},
     "output_type": "execute_result"
    }
   ],
   "source": [
    "data['events_data']"
   ]
  },
  {
   "cell_type": "code",
   "execution_count": 5,
   "metadata": {},
   "outputs": [],
   "source": [
    "data_list = data['events_data']"
   ]
  },
  {
   "cell_type": "code",
   "execution_count": 6,
   "metadata": {},
   "outputs": [
    {
     "name": "stdout",
     "output_type": "stream",
     "text": [
      "107\n"
     ]
    }
   ],
   "source": [
    "print(len(data_list))"
   ]
  },
  {
   "cell_type": "code",
   "execution_count": 7,
   "metadata": {},
   "outputs": [
    {
     "name": "stdout",
     "output_type": "stream",
     "text": [
      "['page', 'page', 'page', 'datepicker', 'table', 'table', 'table', 'table', 'datepicker', 'datepicker', 'datepicker', 'datepicker', 'datepicker', 'page', 'page', 'page', 'page', 'page', 'page', 'page', 'page', 'page', 'page', 'page', 'page', 'page', 'page', 'page', 'page', 'page', 'page', 'page', 'page', 'report', 'report', 'report', 'report', 'page', 'report', 'page', 'page', 'page', 'table', 'table', 'table', 'table', 'page', 'page', 'page', 'page', 'page', 'page', 'page', 'page', 'page', 'page', 'page', 'page', 'report', 'page', 'page', 'page', 'page', 'page', 'report', 'page', 'page', 'page', 'page', 'page', 'page', 'page', 'page', 'page', 'page', 'page', 'page', 'page', 'datepicker', 'datepicker', 'datepicker', 'datepicker', 'datepicker', 'datepicker', 'datepicker', 'page', 'page', 'page', 'page', 'page', 'page', 'report', 'table', 'table', 'datepicker', 'datepicker', 'page', 'page', 'page', 'page', 'page', 'page', 'page', 'page', 'page', 'page', 'page']\n"
     ]
    }
   ],
   "source": [
    "categories = []\n",
    "for item in data_list:\n",
    "    category = item['category']\n",
    "    categories.append(category)\n",
    "print (categories)"
   ]
  },
  {
   "cell_type": "code",
   "execution_count": 8,
   "metadata": {},
   "outputs": [
    {
     "name": "stdout",
     "output_type": "stream",
     "text": [
      "Counter({'page': 74, 'datepicker': 15, 'table': 10, 'report': 8})\n"
     ]
    }
   ],
   "source": [
    "import collections\n",
    "c = collections.Counter()\n",
    "for category in categories:\n",
    "    c[category] += 1\n",
    "print (c)"
   ]
  },
  {
   "cell_type": "code",
   "execution_count": 10,
   "metadata": {},
   "outputs": [
    {
     "name": "stdout",
     "output_type": "stream",
     "text": [
      "[27115, 27115, 27115, 27115, 60459, 60459, 60459, 60459, 58113, 58113]\n"
     ]
    }
   ],
   "source": [
    "table_clients = []\n",
    "for item in data_list:\n",
    "    client_id = item['client_id']\n",
    "    category = item['category']\n",
    "    if category == 'table':\n",
    "        table_clients.append(client_id)\n",
    "print(table_clients)"
   ]
  },
  {
   "cell_type": "code",
   "execution_count": 11,
   "metadata": {},
   "outputs": [
    {
     "name": "stdout",
     "output_type": "stream",
     "text": [
      "Counter({27115: 4, 60459: 4, 58113: 2})\n"
     ]
    }
   ],
   "source": [
    "c = collections.Counter()\n",
    "for table_client in table_clients:\n",
    "    c[table_client] += 1\n",
    "print (c)"
   ]
  },
  {
   "cell_type": "code",
   "execution_count": 12,
   "metadata": {},
   "outputs": [
    {
     "name": "stdout",
     "output_type": "stream",
     "text": [
      "3\n"
     ]
    }
   ],
   "source": [
    "print (len(c.keys()))"
   ]
  },
  {
   "cell_type": "code",
   "execution_count": 13,
   "metadata": {},
   "outputs": [
    {
     "name": "stdout",
     "output_type": "stream",
     "text": [
      "4\n"
     ]
    }
   ],
   "source": [
    "print(c[27115])"
   ]
  },
  {
   "cell_type": "code",
   "execution_count": 18,
   "metadata": {},
   "outputs": [
    {
     "name": "stdout",
     "output_type": "stream",
     "text": [
      "51\n"
     ]
    }
   ],
   "source": [
    "clients = []\n",
    "for client_id in data_list:\n",
    "    clients.append(client_id['client_id'])\n",
    "print(len(set(clients)))\n",
    "    "
   ]
  },
  {
   "cell_type": "code",
   "execution_count": 19,
   "metadata": {},
   "outputs": [
    {
     "name": "stdout",
     "output_type": "stream",
     "text": [
      "Counter({60459: 12, 27115: 11, 62602: 11, 56544: 8, 58113: 7, 18923: 5, 23207: 4, 52492: 3, 24500: 2, 53666: 2, 41737: 2, 62526: 1, 61944: 1, 62017: 1, 63120: 1, 59883: 1, 2913: 1, 62940: 1, 63149: 1, 45391: 1, 63019: 1, 15759: 1, 62007: 1, 62941: 1, 51009: 1, 62236: 1, 44682: 1, 39709: 1, 62144: 1, 25301: 1, 33645: 1, 62089: 1, 26705: 1, 1103: 1, 62439: 1, 44196: 1, 50149: 1, 57009: 1, 57207: 1, 32792: 1, 27323: 1, 58330: 1, 61245: 1, 19799: 1, 48128: 1, 57613: 1, 61244: 1, 53018: 1, 61078: 1, 20820: 1, 49700: 1})\n"
     ]
    }
   ],
   "source": [
    "b = collections.Counter()\n",
    "for client in clients:\n",
    "    b[client] += 1\n",
    "print(b)"
   ]
  },
  {
   "cell_type": "code",
   "execution_count": 37,
   "metadata": {},
   "outputs": [
    {
     "name": "stdout",
     "output_type": "stream",
     "text": [
      "12\n",
      "[49700, 49700, 49700, 49700, 49700, 49700, 49700, 49700, 49700, 49700, 49700, 49700]\n"
     ]
    }
   ],
   "source": [
    "i = 0\n",
    "new = []\n",
    "for client in data_list:\n",
    "    client_id_1 = client['client_id']\n",
    "    if client_id_1 == 60459:\n",
    "        new.append(client_id)\n",
    "        i += 1\n",
    "print(i)\n",
    "print(new)\n"
   ]
  },
  {
   "cell_type": "code",
   "execution_count": 42,
   "metadata": {},
   "outputs": [
    {
     "name": "stdout",
     "output_type": "stream",
     "text": [
      "9\n"
     ]
    }
   ],
   "source": [
    "n = []\n",
    "j = 0\n",
    "for item in data_list:\n",
    "    client_2 = item['client_id']\n",
    "    categ = item['category']\n",
    "    #n.append(client_2)\n",
    "    if client_2 == 62602 and categ == 'page':\n",
    "        j += 1\n",
    "print(j)\n",
    "        \n",
    "        \n"
   ]
  },
  {
   "cell_type": "code",
   "execution_count": 41,
   "metadata": {},
   "outputs": [
    {
     "name": "stdout",
     "output_type": "stream",
     "text": [
      "3\n"
     ]
    }
   ],
   "source": [
    "n1 = []\n",
    "for item in data_list:\n",
    "    cl = item['client_id']\n",
    "    ca = item['category']\n",
    "    if ca == 'report':\n",
    "        n1.append(cl)\n",
    "print(len(set(n1)))"
   ]
  },
  {
   "cell_type": "code",
   "execution_count": 44,
   "metadata": {},
   "outputs": [
    {
     "name": "stdout",
     "output_type": "stream",
     "text": [
      "[60459, 60459, 60459, 60459, 60459, 62602, 62602, 58113]\n"
     ]
    }
   ],
   "source": [
    "n2 = []\n",
    "\n",
    "for item in data_list:\n",
    "    cl = item['client_id']\n",
    "    category=item['category']\n",
    "    if category == 'report':\n",
    "        n2.append(cl)\n",
    "print(n2)"
   ]
  },
  {
   "cell_type": "code",
   "execution_count": null,
   "metadata": {},
   "outputs": [],
   "source": [
    "proverb = 'Программисты - это устройства, преобразующие кофеин в код.'"
   ]
  }
 ],
 "metadata": {
  "kernelspec": {
   "display_name": "Python 3",
   "language": "python",
   "name": "python3"
  },
  "language_info": {
   "codemirror_mode": {
    "name": "ipython",
    "version": 3
   },
   "file_extension": ".py",
   "mimetype": "text/x-python",
   "name": "python",
   "nbconvert_exporter": "python",
   "pygments_lexer": "ipython3",
   "version": "3.7.4"
  }
 },
 "nbformat": 4,
 "nbformat_minor": 2
}
