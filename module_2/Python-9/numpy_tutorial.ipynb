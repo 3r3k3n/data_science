{
 "cells": [
  {
   "cell_type": "code",
   "execution_count": 1,
   "metadata": {},
   "outputs": [],
   "source": [
    "import numpy as np"
   ]
  },
  {
   "cell_type": "code",
   "execution_count": 2,
   "metadata": {},
   "outputs": [
    {
     "name": "stdout",
     "output_type": "stream",
     "text": [
      "[[1 2 3 4]\n",
      " [5 6 7 8]\n",
      " [9 1 5 7]]\n"
     ]
    }
   ],
   "source": [
    "m = np.matrix('1 2 3 4; 5 6 7 8; 9 1 5 7')\n",
    "print(m)"
   ]
  },
  {
   "cell_type": "code",
   "execution_count": 3,
   "metadata": {},
   "outputs": [
    {
     "data": {
      "text/plain": [
       "numpy.matrix"
      ]
     },
     "execution_count": 3,
     "metadata": {},
     "output_type": "execute_result"
    }
   ],
   "source": [
    "type(m)"
   ]
  },
  {
   "cell_type": "code",
   "execution_count": 4,
   "metadata": {},
   "outputs": [
    {
     "data": {
      "text/plain": [
       "numpy.ndarray"
      ]
     },
     "execution_count": 4,
     "metadata": {},
     "output_type": "execute_result"
    }
   ],
   "source": [
    "m = np.array(m)\n",
    "type(m)"
   ]
  },
  {
   "cell_type": "code",
   "execution_count": 5,
   "metadata": {},
   "outputs": [
    {
     "data": {
      "text/plain": [
       "array([[1, 2, 3, 4],\n",
       "       [5, 6, 7, 8],\n",
       "       [9, 1, 5, 7]])"
      ]
     },
     "execution_count": 5,
     "metadata": {},
     "output_type": "execute_result"
    }
   ],
   "source": [
    "m"
   ]
  },
  {
   "cell_type": "code",
   "execution_count": 6,
   "metadata": {},
   "outputs": [
    {
     "data": {
      "text/plain": [
       "(3, 4)"
      ]
     },
     "execution_count": 6,
     "metadata": {},
     "output_type": "execute_result"
    }
   ],
   "source": [
    "m.shape"
   ]
  },
  {
   "cell_type": "code",
   "execution_count": 7,
   "metadata": {},
   "outputs": [
    {
     "data": {
      "text/plain": [
       "9"
      ]
     },
     "execution_count": 7,
     "metadata": {},
     "output_type": "execute_result"
    }
   ],
   "source": [
    "m.max()"
   ]
  },
  {
   "cell_type": "code",
   "execution_count": 8,
   "metadata": {},
   "outputs": [
    {
     "data": {
      "text/plain": [
       "9"
      ]
     },
     "execution_count": 8,
     "metadata": {},
     "output_type": "execute_result"
    }
   ],
   "source": [
    "np.max(m)"
   ]
  },
  {
   "cell_type": "code",
   "execution_count": 9,
   "metadata": {},
   "outputs": [
    {
     "data": {
      "text/plain": [
       "9"
      ]
     },
     "execution_count": 9,
     "metadata": {},
     "output_type": "execute_result"
    }
   ],
   "source": [
    "m.max()"
   ]
  },
  {
   "cell_type": "code",
   "execution_count": 10,
   "metadata": {},
   "outputs": [
    {
     "data": {
      "text/plain": [
       "array([4, 8, 9])"
      ]
     },
     "execution_count": 10,
     "metadata": {},
     "output_type": "execute_result"
    }
   ],
   "source": [
    "m.max(axis=1)"
   ]
  },
  {
   "cell_type": "code",
   "execution_count": 11,
   "metadata": {},
   "outputs": [
    {
     "data": {
      "text/plain": [
       "array([9, 6, 7, 8])"
      ]
     },
     "execution_count": 11,
     "metadata": {},
     "output_type": "execute_result"
    }
   ],
   "source": [
    "m.max(axis=0)"
   ]
  },
  {
   "cell_type": "code",
   "execution_count": 12,
   "metadata": {},
   "outputs": [],
   "source": [
    "# argmax\tИндексы элементов с максимальным значением (по осям)\n",
    "# argmin\tИндексы элементов с минимальным значением (по осям)\n",
    "# max\tМаксимальные значения элементов (по осям)\n",
    "# min\tМинимальные значения элементов (по осям)\n",
    "# mean\tСредние значения элементов (по осям)\n",
    "# prod\tПроизведение всех элементов (по осям)\n",
    "# std\tСтандартное отклонение (по осям)\n",
    "# sum\tСумма всех элементов (по осям)\n",
    "# var\tДисперсия (по осям)"
   ]
  },
  {
   "cell_type": "code",
   "execution_count": 13,
   "metadata": {},
   "outputs": [
    {
     "data": {
      "text/plain": [
       "4.833333333333333"
      ]
     },
     "execution_count": 13,
     "metadata": {},
     "output_type": "execute_result"
    }
   ],
   "source": [
    "m.mean()"
   ]
  },
  {
   "cell_type": "code",
   "execution_count": 14,
   "metadata": {},
   "outputs": [
    {
     "data": {
      "text/plain": [
       "array([2.5, 6.5, 5.5])"
      ]
     },
     "execution_count": 14,
     "metadata": {},
     "output_type": "execute_result"
    }
   ],
   "source": [
    "m.mean(axis=1)"
   ]
  },
  {
   "cell_type": "code",
   "execution_count": 15,
   "metadata": {},
   "outputs": [
    {
     "data": {
      "text/plain": [
       "58"
      ]
     },
     "execution_count": 15,
     "metadata": {},
     "output_type": "execute_result"
    }
   ],
   "source": [
    "m.sum()"
   ]
  },
  {
   "cell_type": "code",
   "execution_count": 16,
   "metadata": {},
   "outputs": [
    {
     "data": {
      "text/plain": [
       "array([15,  9, 15, 19])"
      ]
     },
     "execution_count": 16,
     "metadata": {},
     "output_type": "execute_result"
    }
   ],
   "source": [
    "m.sum(axis=0)"
   ]
  },
  {
   "cell_type": "code",
   "execution_count": 17,
   "metadata": {},
   "outputs": [
    {
     "data": {
      "text/plain": [
       "array([[1, 2, 3, 4],\n",
       "       [5, 6, 7, 8]])"
      ]
     },
     "execution_count": 17,
     "metadata": {},
     "output_type": "execute_result"
    }
   ],
   "source": [
    "m[:2]"
   ]
  },
  {
   "cell_type": "code",
   "execution_count": 18,
   "metadata": {},
   "outputs": [
    {
     "data": {
      "text/plain": [
       "array([9, 1, 5, 7])"
      ]
     },
     "execution_count": 18,
     "metadata": {},
     "output_type": "execute_result"
    }
   ],
   "source": [
    "m[2]"
   ]
  },
  {
   "cell_type": "code",
   "execution_count": 19,
   "metadata": {},
   "outputs": [
    {
     "data": {
      "text/plain": [
       "array([], shape=(0, 4), dtype=int32)"
      ]
     },
     "execution_count": 19,
     "metadata": {},
     "output_type": "execute_result"
    }
   ],
   "source": [
    "m[0:0]"
   ]
  },
  {
   "cell_type": "code",
   "execution_count": 20,
   "metadata": {},
   "outputs": [
    {
     "data": {
      "text/plain": [
       "1"
      ]
     },
     "execution_count": 20,
     "metadata": {},
     "output_type": "execute_result"
    }
   ],
   "source": [
    "m[0, 0]"
   ]
  },
  {
   "cell_type": "code",
   "execution_count": 21,
   "metadata": {},
   "outputs": [
    {
     "data": {
      "text/plain": [
       "array([[5, 7]])"
      ]
     },
     "execution_count": 21,
     "metadata": {},
     "output_type": "execute_result"
    }
   ],
   "source": [
    "m[-1:, -2:]"
   ]
  },
  {
   "cell_type": "code",
   "execution_count": 22,
   "metadata": {},
   "outputs": [
    {
     "data": {
      "text/plain": [
       "array([5, 6, 7, 8])"
      ]
     },
     "execution_count": 22,
     "metadata": {},
     "output_type": "execute_result"
    }
   ],
   "source": [
    "m[1, :]"
   ]
  },
  {
   "cell_type": "code",
   "execution_count": 23,
   "metadata": {},
   "outputs": [
    {
     "data": {
      "text/plain": [
       "array([[1, 2, 3, 4],\n",
       "       [5, 6, 7, 8],\n",
       "       [9, 1, 5, 7]])"
      ]
     },
     "execution_count": 23,
     "metadata": {},
     "output_type": "execute_result"
    }
   ],
   "source": [
    "m[:3]"
   ]
  },
  {
   "cell_type": "code",
   "execution_count": 24,
   "metadata": {},
   "outputs": [
    {
     "data": {
      "text/plain": [
       "array([4, 8, 7])"
      ]
     },
     "execution_count": 24,
     "metadata": {},
     "output_type": "execute_result"
    }
   ],
   "source": [
    "m[:,3]"
   ]
  },
  {
   "cell_type": "code",
   "execution_count": 25,
   "metadata": {},
   "outputs": [
    {
     "data": {
      "text/plain": [
       "array([[1, 2, 3, 4],\n",
       "       [5, 6, 7, 8],\n",
       "       [9, 1, 5, 7]])"
      ]
     },
     "execution_count": 25,
     "metadata": {},
     "output_type": "execute_result"
    }
   ],
   "source": [
    "m"
   ]
  },
  {
   "cell_type": "code",
   "execution_count": 26,
   "metadata": {},
   "outputs": [
    {
     "data": {
      "text/plain": [
       "3"
      ]
     },
     "execution_count": 26,
     "metadata": {},
     "output_type": "execute_result"
    }
   ],
   "source": [
    "len(m)"
   ]
  },
  {
   "cell_type": "code",
   "execution_count": 27,
   "metadata": {},
   "outputs": [
    {
     "data": {
      "text/plain": [
       "True"
      ]
     },
     "execution_count": 27,
     "metadata": {},
     "output_type": "execute_result"
    }
   ],
   "source": [
    "9 in m"
   ]
  },
  {
   "cell_type": "code",
   "execution_count": 28,
   "metadata": {},
   "outputs": [
    {
     "data": {
      "text/plain": [
       "False"
      ]
     },
     "execution_count": 28,
     "metadata": {},
     "output_type": "execute_result"
    }
   ],
   "source": [
    "0 in m"
   ]
  },
  {
   "cell_type": "code",
   "execution_count": 29,
   "metadata": {},
   "outputs": [],
   "source": [
    "a = np.array(range(10), float)"
   ]
  },
  {
   "cell_type": "code",
   "execution_count": 30,
   "metadata": {},
   "outputs": [
    {
     "data": {
      "text/plain": [
       "array([0., 1., 2., 3., 4., 5., 6., 7., 8., 9.])"
      ]
     },
     "execution_count": 30,
     "metadata": {},
     "output_type": "execute_result"
    }
   ],
   "source": [
    "a"
   ]
  },
  {
   "cell_type": "code",
   "execution_count": 31,
   "metadata": {},
   "outputs": [
    {
     "data": {
      "text/plain": [
       "array([[0., 1.],\n",
       "       [2., 3.],\n",
       "       [4., 5.],\n",
       "       [6., 7.],\n",
       "       [8., 9.]])"
      ]
     },
     "execution_count": 31,
     "metadata": {},
     "output_type": "execute_result"
    }
   ],
   "source": [
    "a.reshape(5,2)"
   ]
  },
  {
   "cell_type": "code",
   "execution_count": 32,
   "metadata": {},
   "outputs": [
    {
     "data": {
      "text/plain": [
       "(10,)"
      ]
     },
     "execution_count": 32,
     "metadata": {},
     "output_type": "execute_result"
    }
   ],
   "source": [
    "a.shape"
   ]
  },
  {
   "cell_type": "code",
   "execution_count": 33,
   "metadata": {},
   "outputs": [
    {
     "data": {
      "text/plain": [
       "array([0., 1., 2., 3., 4., 5., 6., 7., 8., 9.])"
      ]
     },
     "execution_count": 33,
     "metadata": {},
     "output_type": "execute_result"
    }
   ],
   "source": [
    "a"
   ]
  },
  {
   "cell_type": "code",
   "execution_count": 34,
   "metadata": {},
   "outputs": [],
   "source": [
    "a = a.reshape(5,2)"
   ]
  },
  {
   "cell_type": "code",
   "execution_count": 35,
   "metadata": {},
   "outputs": [
    {
     "data": {
      "text/plain": [
       "array([[0., 1.],\n",
       "       [2., 3.],\n",
       "       [4., 5.],\n",
       "       [6., 7.],\n",
       "       [8., 9.]])"
      ]
     },
     "execution_count": 35,
     "metadata": {},
     "output_type": "execute_result"
    }
   ],
   "source": [
    "a"
   ]
  },
  {
   "cell_type": "code",
   "execution_count": 36,
   "metadata": {},
   "outputs": [],
   "source": [
    "a = np.array([1, 2, 3], float)\n",
    "b = a\n",
    "c =  a.copy()\n",
    "a[0] = 0"
   ]
  },
  {
   "cell_type": "code",
   "execution_count": 37,
   "metadata": {},
   "outputs": [
    {
     "data": {
      "text/plain": [
       "array([0., 2., 3.])"
      ]
     },
     "execution_count": 37,
     "metadata": {},
     "output_type": "execute_result"
    }
   ],
   "source": [
    "a"
   ]
  },
  {
   "cell_type": "code",
   "execution_count": 38,
   "metadata": {},
   "outputs": [
    {
     "data": {
      "text/plain": [
       "array([0., 2., 3.])"
      ]
     },
     "execution_count": 38,
     "metadata": {},
     "output_type": "execute_result"
    }
   ],
   "source": [
    "b"
   ]
  },
  {
   "cell_type": "code",
   "execution_count": 39,
   "metadata": {},
   "outputs": [
    {
     "data": {
      "text/plain": [
       "array([1., 2., 3.])"
      ]
     },
     "execution_count": 39,
     "metadata": {},
     "output_type": "execute_result"
    }
   ],
   "source": [
    "c"
   ]
  },
  {
   "cell_type": "code",
   "execution_count": 40,
   "metadata": {},
   "outputs": [
    {
     "data": {
      "text/plain": [
       "[1.0, 2.0, 3.0]"
      ]
     },
     "execution_count": 40,
     "metadata": {},
     "output_type": "execute_result"
    }
   ],
   "source": [
    "a = np.array([1, 2, 3], float)\n",
    "a.tolist()"
   ]
  },
  {
   "cell_type": "code",
   "execution_count": 41,
   "metadata": {},
   "outputs": [
    {
     "data": {
      "text/plain": [
       "b'\\x00\\x00\\x00\\x00\\x00\\x00\\xf0?\\x00\\x00\\x00\\x00\\x00\\x00\\x00@\\x00\\x00\\x00\\x00\\x00\\x00\\x08@'"
      ]
     },
     "execution_count": 41,
     "metadata": {},
     "output_type": "execute_result"
    }
   ],
   "source": [
    "a = np.array([1, 2, 3], float)\n",
    "s = a.tostring()\n",
    "s"
   ]
  },
  {
   "cell_type": "code",
   "execution_count": 42,
   "metadata": {},
   "outputs": [
    {
     "name": "stderr",
     "output_type": "stream",
     "text": [
      "C:\\Users\\User\\Anaconda3\\lib\\site-packages\\ipykernel_launcher.py:1: DeprecationWarning: The binary mode of fromstring is deprecated, as it behaves surprisingly on unicode inputs. Use frombuffer instead\n",
      "  \"\"\"Entry point for launching an IPython kernel.\n"
     ]
    },
    {
     "data": {
      "text/plain": [
       "array([1., 2., 3.])"
      ]
     },
     "execution_count": 42,
     "metadata": {},
     "output_type": "execute_result"
    }
   ],
   "source": [
    "np.fromstring(s)"
   ]
  },
  {
   "cell_type": "code",
   "execution_count": 43,
   "metadata": {},
   "outputs": [
    {
     "data": {
      "text/plain": [
       "array([0., 0., 0.])"
      ]
     },
     "execution_count": 43,
     "metadata": {},
     "output_type": "execute_result"
    }
   ],
   "source": [
    "a.fill(0)\n",
    "a"
   ]
  },
  {
   "cell_type": "code",
   "execution_count": 44,
   "metadata": {},
   "outputs": [
    {
     "data": {
      "text/plain": [
       "array([[0., 1., 2.],\n",
       "       [3., 4., 5.]])"
      ]
     },
     "execution_count": 44,
     "metadata": {},
     "output_type": "execute_result"
    }
   ],
   "source": [
    "a = np.array(range(6), float).reshape((2, 3))\n",
    "a"
   ]
  },
  {
   "cell_type": "code",
   "execution_count": 45,
   "metadata": {},
   "outputs": [
    {
     "data": {
      "text/plain": [
       "array([[0., 3.],\n",
       "       [1., 4.],\n",
       "       [2., 5.]])"
      ]
     },
     "execution_count": 45,
     "metadata": {},
     "output_type": "execute_result"
    }
   ],
   "source": [
    "a.transpose()"
   ]
  },
  {
   "cell_type": "code",
   "execution_count": 46,
   "metadata": {},
   "outputs": [
    {
     "name": "stdout",
     "output_type": "stream",
     "text": [
      "[[1. 2. 3.]\n",
      " [4. 5. 6.]]\n"
     ]
    },
    {
     "data": {
      "text/plain": [
       "array([1., 2., 3., 4., 5., 6.])"
      ]
     },
     "execution_count": 46,
     "metadata": {},
     "output_type": "execute_result"
    }
   ],
   "source": [
    "# Многомерный массив можно переконвертировать в одномерный при помощи метода flatten:\n",
    "a = np.array([[1, 2, 3], [4, 5, 6]], float)\n",
    "print(a)\n",
    "\n",
    "a.flatten()"
   ]
  },
  {
   "cell_type": "code",
   "execution_count": 47,
   "metadata": {},
   "outputs": [
    {
     "data": {
      "text/plain": [
       "array([1., 2., 3., 4., 5., 6., 7., 8., 9.])"
      ]
     },
     "execution_count": 47,
     "metadata": {},
     "output_type": "execute_result"
    }
   ],
   "source": [
    "# Два или больше массивов можно сконкатенировать при помощи метода concatenate:\n",
    "\n",
    "a = np.array([1,2], float)\n",
    "b = np.array([3,4,5,6], float)\n",
    "c = np.array([7,8,9], float)\n",
    "np.concatenate((a, b, c))"
   ]
  },
  {
   "cell_type": "code",
   "execution_count": 48,
   "metadata": {},
   "outputs": [
    {
     "data": {
      "text/plain": [
       "array([[1., 2.],\n",
       "       [3., 4.],\n",
       "       [5., 6.],\n",
       "       [7., 8.]])"
      ]
     },
     "execution_count": 48,
     "metadata": {},
     "output_type": "execute_result"
    }
   ],
   "source": [
    "# Если массив не одномерный, можно задать ось, по которой будет происходить соединение. \n",
    "# По умолчанию (не задавая значения оси), соединение будет происходить по первому измерению:\n",
    "\n",
    "a = np.array([[1, 2], [3, 4]], float)\n",
    "b = np.array([[5, 6], [7, 8]], float)\n",
    "np.concatenate((a,b))\n"
   ]
  },
  {
   "cell_type": "code",
   "execution_count": 49,
   "metadata": {},
   "outputs": [
    {
     "data": {
      "text/plain": [
       "array([[1., 2.],\n",
       "       [3., 4.],\n",
       "       [5., 6.],\n",
       "       [7., 8.]])"
      ]
     },
     "execution_count": 49,
     "metadata": {},
     "output_type": "execute_result"
    }
   ],
   "source": [
    "np.concatenate((a,b), axis=0)"
   ]
  },
  {
   "cell_type": "code",
   "execution_count": 50,
   "metadata": {},
   "outputs": [
    {
     "data": {
      "text/plain": [
       "array([[1., 2., 5., 6.],\n",
       "       [3., 4., 7., 8.]])"
      ]
     },
     "execution_count": 50,
     "metadata": {},
     "output_type": "execute_result"
    }
   ],
   "source": [
    "np.concatenate((a,b), axis=1)"
   ]
  },
  {
   "cell_type": "code",
   "execution_count": 51,
   "metadata": {},
   "outputs": [
    {
     "data": {
      "text/plain": [
       "array([1., 2., 3.])"
      ]
     },
     "execution_count": 51,
     "metadata": {},
     "output_type": "execute_result"
    }
   ],
   "source": [
    "# В заключении, размерность массива может быть увеличена при использовании константы newaxis в квадратных скобках:\n",
    "\n",
    "a = np.array([1, 2, 3], float)\n",
    "a"
   ]
  },
  {
   "cell_type": "code",
   "execution_count": 52,
   "metadata": {},
   "outputs": [
    {
     "data": {
      "text/plain": [
       "array([[1.],\n",
       "       [2.],\n",
       "       [3.]])"
      ]
     },
     "execution_count": 52,
     "metadata": {},
     "output_type": "execute_result"
    }
   ],
   "source": [
    "a[:,np.newaxis]"
   ]
  },
  {
   "cell_type": "code",
   "execution_count": 53,
   "metadata": {},
   "outputs": [
    {
     "data": {
      "text/plain": [
       "array([[1., 2., 3.]])"
      ]
     },
     "execution_count": 53,
     "metadata": {},
     "output_type": "execute_result"
    }
   ],
   "source": [
    "a[np.newaxis,:]"
   ]
  },
  {
   "cell_type": "markdown",
   "metadata": {},
   "source": [
    "# Другие пути создания массивов"
   ]
  },
  {
   "cell_type": "code",
   "execution_count": 54,
   "metadata": {},
   "outputs": [
    {
     "data": {
      "text/plain": [
       "array([0., 1., 2., 3., 4.])"
      ]
     },
     "execution_count": 54,
     "metadata": {},
     "output_type": "execute_result"
    }
   ],
   "source": [
    "# Функция arange аналогична функции range, но возвращает массив:\n",
    "\n",
    "np.arange(5, dtype=float)"
   ]
  },
  {
   "cell_type": "code",
   "execution_count": 55,
   "metadata": {},
   "outputs": [
    {
     "data": {
      "text/plain": [
       "array([1, 3, 5])"
      ]
     },
     "execution_count": 55,
     "metadata": {},
     "output_type": "execute_result"
    }
   ],
   "source": [
    "np.arange(1, 6, 2, dtype=int)"
   ]
  },
  {
   "cell_type": "code",
   "execution_count": 56,
   "metadata": {},
   "outputs": [
    {
     "data": {
      "text/plain": [
       "array([[1., 1., 1.],\n",
       "       [1., 1., 1.]])"
      ]
     },
     "execution_count": 56,
     "metadata": {},
     "output_type": "execute_result"
    }
   ],
   "source": [
    "# Функции zeros и ones создают новые массивы с установленной размерностью, заполненные этими значениями.\n",
    "\n",
    "np.ones((2,3), dtype=float)"
   ]
  },
  {
   "cell_type": "code",
   "execution_count": 57,
   "metadata": {},
   "outputs": [
    {
     "data": {
      "text/plain": [
       "array([0, 0, 0, 0, 0, 0, 0])"
      ]
     },
     "execution_count": 57,
     "metadata": {},
     "output_type": "execute_result"
    }
   ],
   "source": [
    "np.zeros(7, dtype=int)"
   ]
  },
  {
   "cell_type": "code",
   "execution_count": 58,
   "metadata": {},
   "outputs": [
    {
     "data": {
      "text/plain": [
       "array([[0., 0., 0.],\n",
       "       [0., 0., 0.]])"
      ]
     },
     "execution_count": 58,
     "metadata": {},
     "output_type": "execute_result"
    }
   ],
   "source": [
    "# Функции zeros_like и ones_like могут преобразовать уже созданный массив, заполнив его нулями и единицами соответственно:\n",
    "\n",
    "a = np.array([[1, 2, 3], [4, 5, 6]], float)\n",
    "np.zeros_like(a)"
   ]
  },
  {
   "cell_type": "code",
   "execution_count": 59,
   "metadata": {},
   "outputs": [
    {
     "data": {
      "text/plain": [
       "array([[1., 1., 1.],\n",
       "       [1., 1., 1.]])"
      ]
     },
     "execution_count": 59,
     "metadata": {},
     "output_type": "execute_result"
    }
   ],
   "source": [
    "np.ones_like(a)"
   ]
  },
  {
   "cell_type": "code",
   "execution_count": 60,
   "metadata": {},
   "outputs": [
    {
     "data": {
      "text/plain": [
       "array([[1., 0., 0., 0.],\n",
       "       [0., 1., 0., 0.],\n",
       "       [0., 0., 1., 0.],\n",
       "       [0., 0., 0., 1.]])"
      ]
     },
     "execution_count": 60,
     "metadata": {},
     "output_type": "execute_result"
    }
   ],
   "source": [
    "np.identity(4, dtype=float)"
   ]
  },
  {
   "cell_type": "code",
   "execution_count": 61,
   "metadata": {},
   "outputs": [
    {
     "data": {
      "text/plain": [
       "array([[0., 1., 0., 0.],\n",
       "       [0., 0., 1., 0.],\n",
       "       [0., 0., 0., 1.],\n",
       "       [0., 0., 0., 0.]])"
      ]
     },
     "execution_count": 61,
     "metadata": {},
     "output_type": "execute_result"
    }
   ],
   "source": [
    "np.eye(4, k=1, dtype=float)"
   ]
  },
  {
   "cell_type": "markdown",
   "metadata": {},
   "source": [
    "# Математические операции над массивами"
   ]
  },
  {
   "cell_type": "code",
   "execution_count": 62,
   "metadata": {},
   "outputs": [],
   "source": [
    "a = np.array([1,2,3], float)\n",
    "b = np.array([5,2,6], float)"
   ]
  },
  {
   "cell_type": "code",
   "execution_count": 63,
   "metadata": {},
   "outputs": [
    {
     "data": {
      "text/plain": [
       "array([6., 4., 9.])"
      ]
     },
     "execution_count": 63,
     "metadata": {},
     "output_type": "execute_result"
    }
   ],
   "source": [
    "a + b"
   ]
  },
  {
   "cell_type": "code",
   "execution_count": 64,
   "metadata": {},
   "outputs": [
    {
     "data": {
      "text/plain": [
       "array([-4.,  0., -3.])"
      ]
     },
     "execution_count": 64,
     "metadata": {},
     "output_type": "execute_result"
    }
   ],
   "source": [
    "a - b"
   ]
  },
  {
   "cell_type": "code",
   "execution_count": 65,
   "metadata": {},
   "outputs": [
    {
     "data": {
      "text/plain": [
       "array([1., 0., 3.])"
      ]
     },
     "execution_count": 65,
     "metadata": {},
     "output_type": "execute_result"
    }
   ],
   "source": [
    "a % b"
   ]
  },
  {
   "cell_type": "code",
   "execution_count": 66,
   "metadata": {},
   "outputs": [
    {
     "data": {
      "text/plain": [
       "array([[0., 5.],\n",
       "       [2., 7.],\n",
       "       [4., 9.]])"
      ]
     },
     "execution_count": 66,
     "metadata": {},
     "output_type": "execute_result"
    }
   ],
   "source": [
    "# если размерность массивов не совпадает, они будут преобразованы для выполнения математических операций. \n",
    "# Это зачастую означает, что меньший массив будет использован несколько раз для завершения операций.\n",
    "\n",
    "a = np.array([[1, 2], [3, 4], [5, 6]], float)\n",
    "b = np.array([-1, 3], float)\n",
    "\n",
    "a + b"
   ]
  },
  {
   "cell_type": "code",
   "execution_count": 67,
   "metadata": {},
   "outputs": [
    {
     "data": {
      "text/plain": [
       "array([[-1.,  3.],\n",
       "       [-1.,  3.]])"
      ]
     },
     "execution_count": 67,
     "metadata": {},
     "output_type": "execute_result"
    }
   ],
   "source": [
    "# однако, когда преобразование играет роль, мы можем использовать константу newaxis, чтобы изменить преобразование:\n",
    "\n",
    "a = np.zeros((2,2), float)\n",
    "b = np.array([-1., 3.], float)\n",
    "\n",
    "a + b"
   ]
  },
  {
   "cell_type": "code",
   "execution_count": 68,
   "metadata": {},
   "outputs": [
    {
     "data": {
      "text/plain": [
       "array([[-1.,  3.],\n",
       "       [-1.,  3.]])"
      ]
     },
     "execution_count": 68,
     "metadata": {},
     "output_type": "execute_result"
    }
   ],
   "source": [
    "a + b[np.newaxis,:]"
   ]
  },
  {
   "cell_type": "code",
   "execution_count": 69,
   "metadata": {},
   "outputs": [
    {
     "data": {
      "text/plain": [
       "array([[-1., -1.],\n",
       "       [ 3.,  3.]])"
      ]
     },
     "execution_count": 69,
     "metadata": {},
     "output_type": "execute_result"
    }
   ],
   "source": [
    "a + b[:, np.newaxis]"
   ]
  },
  {
   "cell_type": "code",
   "execution_count": 70,
   "metadata": {},
   "outputs": [
    {
     "data": {
      "text/plain": [
       "array([1., 2., 3.])"
      ]
     },
     "execution_count": 70,
     "metadata": {},
     "output_type": "execute_result"
    }
   ],
   "source": [
    "# функции: abs, sign, sqrt, log, log10, exp, sin, cos, tan, arcsin, \n",
    "# arccos, arctan, sinh, cosh, tanh, arcsinh, arccosh, и arctanh.\n",
    "\n",
    "a = np.array([1, 4, 9], float)\n",
    "np.sqrt(a)"
   ]
  },
  {
   "cell_type": "code",
   "execution_count": 71,
   "metadata": {},
   "outputs": [
    {
     "data": {
      "text/plain": [
       "array([1., 1., 1.])"
      ]
     },
     "execution_count": 71,
     "metadata": {},
     "output_type": "execute_result"
    }
   ],
   "source": [
    "# Функции floor, ceil и rint возвращают нижние, верхние или ближайшие (округлённое) значение:\n",
    "\n",
    "a = np.array([1.1, 1.5, 1.9], float)\n",
    "np.floor(a)"
   ]
  },
  {
   "cell_type": "code",
   "execution_count": 72,
   "metadata": {},
   "outputs": [
    {
     "data": {
      "text/plain": [
       "array([2., 2., 2.])"
      ]
     },
     "execution_count": 72,
     "metadata": {},
     "output_type": "execute_result"
    }
   ],
   "source": [
    "np.ceil(a)"
   ]
  },
  {
   "cell_type": "code",
   "execution_count": 73,
   "metadata": {},
   "outputs": [
    {
     "data": {
      "text/plain": [
       "array([1., 2., 2.])"
      ]
     },
     "execution_count": 73,
     "metadata": {},
     "output_type": "execute_result"
    }
   ],
   "source": [
    "np.rint(a)"
   ]
  },
  {
   "cell_type": "code",
   "execution_count": 74,
   "metadata": {},
   "outputs": [
    {
     "data": {
      "text/plain": [
       "3.141592653589793"
      ]
     },
     "execution_count": 74,
     "metadata": {},
     "output_type": "execute_result"
    }
   ],
   "source": [
    "np.pi"
   ]
  },
  {
   "cell_type": "code",
   "execution_count": 75,
   "metadata": {},
   "outputs": [
    {
     "data": {
      "text/plain": [
       "2.718281828459045"
      ]
     },
     "execution_count": 75,
     "metadata": {},
     "output_type": "execute_result"
    }
   ],
   "source": [
    "np.e"
   ]
  },
  {
   "cell_type": "markdown",
   "metadata": {},
   "source": [
    "# Перебор элементов массива"
   ]
  },
  {
   "cell_type": "code",
   "execution_count": 76,
   "metadata": {},
   "outputs": [
    {
     "name": "stdout",
     "output_type": "stream",
     "text": [
      "1\n",
      "4\n",
      "5\n"
     ]
    }
   ],
   "source": [
    "a = np.array([1, 4, 5], int)\n",
    "for x in a:\n",
    "    print(x)"
   ]
  },
  {
   "cell_type": "code",
   "execution_count": 77,
   "metadata": {},
   "outputs": [
    {
     "name": "stdout",
     "output_type": "stream",
     "text": [
      "[1. 2.]\n",
      "[3. 4.]\n",
      "[5. 6.]\n"
     ]
    }
   ],
   "source": [
    "a = np.array([[1, 2], [3, 4], [5, 6]], float)\n",
    "for x in a:\n",
    "    print(x)"
   ]
  },
  {
   "cell_type": "code",
   "execution_count": 78,
   "metadata": {},
   "outputs": [
    {
     "name": "stdout",
     "output_type": "stream",
     "text": [
      "2.0\n",
      "12.0\n",
      "30.0\n"
     ]
    }
   ],
   "source": [
    "for (x, y) in a:\n",
    "    print(x*y)"
   ]
  },
  {
   "cell_type": "markdown",
   "metadata": {},
   "source": [
    "# Базовые операции над массивами"
   ]
  },
  {
   "cell_type": "code",
   "execution_count": 79,
   "metadata": {},
   "outputs": [
    {
     "data": {
      "text/plain": [
       "9.0"
      ]
     },
     "execution_count": 79,
     "metadata": {},
     "output_type": "execute_result"
    }
   ],
   "source": [
    "a = np.array([2, 4, 3], float)\n",
    "a.sum()"
   ]
  },
  {
   "cell_type": "code",
   "execution_count": 80,
   "metadata": {},
   "outputs": [
    {
     "data": {
      "text/plain": [
       "24.0"
      ]
     },
     "execution_count": 80,
     "metadata": {},
     "output_type": "execute_result"
    }
   ],
   "source": [
    "a.prod()"
   ]
  },
  {
   "cell_type": "code",
   "execution_count": 81,
   "metadata": {},
   "outputs": [
    {
     "data": {
      "text/plain": [
       "9.0"
      ]
     },
     "execution_count": 81,
     "metadata": {},
     "output_type": "execute_result"
    }
   ],
   "source": [
    "np.sum(a)"
   ]
  },
  {
   "cell_type": "code",
   "execution_count": 82,
   "metadata": {},
   "outputs": [
    {
     "data": {
      "text/plain": [
       "24.0"
      ]
     },
     "execution_count": 82,
     "metadata": {},
     "output_type": "execute_result"
    }
   ],
   "source": [
    "np.prod(a)"
   ]
  },
  {
   "cell_type": "code",
   "execution_count": 83,
   "metadata": {},
   "outputs": [
    {
     "data": {
      "text/plain": [
       "3.0"
      ]
     },
     "execution_count": 83,
     "metadata": {},
     "output_type": "execute_result"
    }
   ],
   "source": [
    "a.mean()"
   ]
  },
  {
   "cell_type": "code",
   "execution_count": 84,
   "metadata": {},
   "outputs": [
    {
     "data": {
      "text/plain": [
       "0.6666666666666666"
      ]
     },
     "execution_count": 84,
     "metadata": {},
     "output_type": "execute_result"
    }
   ],
   "source": [
    "# вариация и девиация:\n",
    "a.var()"
   ]
  },
  {
   "cell_type": "code",
   "execution_count": 85,
   "metadata": {},
   "outputs": [
    {
     "data": {
      "text/plain": [
       "0.816496580927726"
      ]
     },
     "execution_count": 85,
     "metadata": {},
     "output_type": "execute_result"
    }
   ],
   "source": [
    "a.std()"
   ]
  },
  {
   "cell_type": "code",
   "execution_count": 86,
   "metadata": {},
   "outputs": [
    {
     "data": {
      "text/plain": [
       "0"
      ]
     },
     "execution_count": 86,
     "metadata": {},
     "output_type": "execute_result"
    }
   ],
   "source": [
    "# Функции argmin и argmax возвращают индекс минимального или максимального элемента:\n",
    "\n",
    "a.argmin()"
   ]
  },
  {
   "cell_type": "code",
   "execution_count": 87,
   "metadata": {},
   "outputs": [
    {
     "data": {
      "text/plain": [
       "1"
      ]
     },
     "execution_count": 87,
     "metadata": {},
     "output_type": "execute_result"
    }
   ],
   "source": [
    "a.argmax()"
   ]
  },
  {
   "cell_type": "code",
   "execution_count": 89,
   "metadata": {},
   "outputs": [
    {
     "data": {
      "text/plain": [
       "array([2., 3., 4.])"
      ]
     },
     "execution_count": 89,
     "metadata": {},
     "output_type": "execute_result"
    }
   ],
   "source": [
    "a.sort()\n",
    "a"
   ]
  },
  {
   "cell_type": "code",
   "execution_count": 91,
   "metadata": {},
   "outputs": [
    {
     "data": {
      "text/plain": [
       "array([5., 2., 5., 0., 0.])"
      ]
     },
     "execution_count": 91,
     "metadata": {},
     "output_type": "execute_result"
    }
   ],
   "source": [
    "# Значения в массиве могут быть «сокращены», чтобы принадлежать заданному диапазону. \n",
    "# Это тоже самое что применять min(max(x, minval), maxval) к каждому элементу x:\n",
    "a = np.array([6, 2, 5, -1, 0], float)\n",
    "a.clip(0, 5)"
   ]
  },
  {
   "cell_type": "code",
   "execution_count": 92,
   "metadata": {},
   "outputs": [
    {
     "data": {
      "text/plain": [
       "array([1., 4., 5., 7.])"
      ]
     },
     "execution_count": 92,
     "metadata": {},
     "output_type": "execute_result"
    }
   ],
   "source": [
    "a = np.array([1, 1, 4, 5, 5, 5, 7], float)\n",
    "np.unique(a)"
   ]
  },
  {
   "cell_type": "code",
   "execution_count": 93,
   "metadata": {},
   "outputs": [
    {
     "data": {
      "text/plain": [
       "array([1., 4.])"
      ]
     },
     "execution_count": 93,
     "metadata": {},
     "output_type": "execute_result"
    }
   ],
   "source": [
    "a = np.array([[1, 2], [3, 4]], float)\n",
    "a.diagonal()"
   ]
  },
  {
   "cell_type": "markdown",
   "metadata": {},
   "source": [
    "# Операторы сравнения и тестирование значений"
   ]
  },
  {
   "cell_type": "code",
   "execution_count": 94,
   "metadata": {},
   "outputs": [],
   "source": [
    "a = np.array([1, 3, 0], float)\n",
    "b = np.array([0, 3, 2], float)"
   ]
  },
  {
   "cell_type": "code",
   "execution_count": 95,
   "metadata": {},
   "outputs": [
    {
     "data": {
      "text/plain": [
       "array([ True, False, False])"
      ]
     },
     "execution_count": 95,
     "metadata": {},
     "output_type": "execute_result"
    }
   ],
   "source": [
    "a > b"
   ]
  },
  {
   "cell_type": "code",
   "execution_count": 96,
   "metadata": {},
   "outputs": [
    {
     "data": {
      "text/plain": [
       "array([False,  True, False])"
      ]
     },
     "execution_count": 96,
     "metadata": {},
     "output_type": "execute_result"
    }
   ],
   "source": [
    "a == b"
   ]
  },
  {
   "cell_type": "code",
   "execution_count": 97,
   "metadata": {},
   "outputs": [
    {
     "data": {
      "text/plain": [
       "array([False,  True,  True])"
      ]
     },
     "execution_count": 97,
     "metadata": {},
     "output_type": "execute_result"
    }
   ],
   "source": [
    "a <= b"
   ]
  },
  {
   "cell_type": "code",
   "execution_count": 98,
   "metadata": {},
   "outputs": [
    {
     "data": {
      "text/plain": [
       "array([ True, False, False])"
      ]
     },
     "execution_count": 98,
     "metadata": {},
     "output_type": "execute_result"
    }
   ],
   "source": [
    "c = a > b\n",
    "c"
   ]
  },
  {
   "cell_type": "code",
   "execution_count": 99,
   "metadata": {},
   "outputs": [
    {
     "data": {
      "text/plain": [
       "True"
      ]
     },
     "execution_count": 99,
     "metadata": {},
     "output_type": "execute_result"
    }
   ],
   "source": [
    "# Операторы any и all могут быть использованы для определения истинны ли хотя бы один или все элементы соответственно:\n",
    "c = np.array([ True, False, False], bool)\n",
    "any(c)"
   ]
  },
  {
   "cell_type": "code",
   "execution_count": 100,
   "metadata": {},
   "outputs": [
    {
     "data": {
      "text/plain": [
       "False"
      ]
     },
     "execution_count": 100,
     "metadata": {},
     "output_type": "execute_result"
    }
   ],
   "source": [
    "all(c)"
   ]
  },
  {
   "cell_type": "markdown",
   "metadata": {},
   "source": [
    "# Комбинированные булевы выражения могут быть применены к массивам по принципу элемент — элемент используя специальные функции logical_and, logical_or и logical_not:"
   ]
  },
  {
   "cell_type": "code",
   "execution_count": 101,
   "metadata": {},
   "outputs": [
    {
     "data": {
      "text/plain": [
       "array([ True, False, False])"
      ]
     },
     "execution_count": 101,
     "metadata": {},
     "output_type": "execute_result"
    }
   ],
   "source": [
    "a = np.array([1, 3, 0], float)\n",
    "np.logical_and(a > 0, a < 3)"
   ]
  },
  {
   "cell_type": "code",
   "execution_count": 104,
   "metadata": {},
   "outputs": [
    {
     "data": {
      "text/plain": [
       "array([False,  True,  True])"
      ]
     },
     "execution_count": 104,
     "metadata": {},
     "output_type": "execute_result"
    }
   ],
   "source": [
    "b = np.array([True, False, False], bool)\n",
    "np.logical_not(b)"
   ]
  },
  {
   "cell_type": "code",
   "execution_count": 105,
   "metadata": {},
   "outputs": [
    {
     "data": {
      "text/plain": [
       "array([ True,  True, False])"
      ]
     },
     "execution_count": 105,
     "metadata": {},
     "output_type": "execute_result"
    }
   ],
   "source": [
    "c = np.array([False, True, False], bool)\n",
    "np.logical_or(b, c)"
   ]
  },
  {
   "cell_type": "code",
   "execution_count": 106,
   "metadata": {},
   "outputs": [
    {
     "name": "stderr",
     "output_type": "stream",
     "text": [
      "C:\\Users\\User\\Anaconda3\\lib\\site-packages\\ipykernel_launcher.py:5: RuntimeWarning: divide by zero encountered in true_divide\n",
      "  \"\"\"\n"
     ]
    },
    {
     "data": {
      "text/plain": [
       "array([1.        , 0.33333333, 0.        ])"
      ]
     },
     "execution_count": 106,
     "metadata": {},
     "output_type": "execute_result"
    }
   ],
   "source": [
    "# Функция where создает новый массив из двух других массивов одинаковых длин используя булев фильтр \n",
    "#для выбора межу двумя элементами. Базовый синтаксис: where(boolarray, truearray, falsearray):\n",
    "\n",
    "a = np.array([1, 3, 0], float)\n",
    "np.where(a != 0, 1 / a, a)"
   ]
  },
  {
   "cell_type": "code",
   "execution_count": 107,
   "metadata": {},
   "outputs": [
    {
     "data": {
      "text/plain": [
       "array([3, 3, 2])"
      ]
     },
     "execution_count": 107,
     "metadata": {},
     "output_type": "execute_result"
    }
   ],
   "source": [
    "np.where(a > 0, 3, 2)"
   ]
  },
  {
   "cell_type": "code",
   "execution_count": 108,
   "metadata": {},
   "outputs": [
    {
     "data": {
      "text/plain": [
       "(array([0, 1], dtype=int64), array([1, 0], dtype=int64))"
      ]
     },
     "execution_count": 108,
     "metadata": {},
     "output_type": "execute_result"
    }
   ],
   "source": [
    "a = np.array([[0, 1], [3, 0]], float)\n",
    "a.nonzero()"
   ]
  },
  {
   "cell_type": "code",
   "execution_count": 109,
   "metadata": {},
   "outputs": [
    {
     "data": {
      "text/plain": [
       "array([ 1., nan, inf])"
      ]
     },
     "execution_count": 109,
     "metadata": {},
     "output_type": "execute_result"
    }
   ],
   "source": [
    "a = np.array([1, np.NaN, np.Inf], float)\n",
    "a"
   ]
  },
  {
   "cell_type": "code",
   "execution_count": 110,
   "metadata": {},
   "outputs": [
    {
     "data": {
      "text/plain": [
       "array([False,  True, False])"
      ]
     },
     "execution_count": 110,
     "metadata": {},
     "output_type": "execute_result"
    }
   ],
   "source": [
    "np.isnan(a)"
   ]
  },
  {
   "cell_type": "code",
   "execution_count": 111,
   "metadata": {},
   "outputs": [
    {
     "data": {
      "text/plain": [
       "array([ True, False, False])"
      ]
     },
     "execution_count": 111,
     "metadata": {},
     "output_type": "execute_result"
    }
   ],
   "source": [
    "np.isfinite(a)"
   ]
  },
  {
   "cell_type": "markdown",
   "metadata": {},
   "source": [
    "# Выбор элементов массива и манипуляция с ними"
   ]
  },
  {
   "cell_type": "code",
   "execution_count": 112,
   "metadata": {},
   "outputs": [],
   "source": [
    "a = np.array([[6, 4], [5, 9]], float)"
   ]
  },
  {
   "cell_type": "code",
   "execution_count": 113,
   "metadata": {},
   "outputs": [
    {
     "data": {
      "text/plain": [
       "array([[ True, False],\n",
       "       [False,  True]])"
      ]
     },
     "execution_count": 113,
     "metadata": {},
     "output_type": "execute_result"
    }
   ],
   "source": [
    "a >= 6"
   ]
  },
  {
   "cell_type": "code",
   "execution_count": 114,
   "metadata": {},
   "outputs": [
    {
     "data": {
      "text/plain": [
       "array([6., 9.])"
      ]
     },
     "execution_count": 114,
     "metadata": {},
     "output_type": "execute_result"
    }
   ],
   "source": [
    "a[a >= 6]"
   ]
  },
  {
   "cell_type": "code",
   "execution_count": 115,
   "metadata": {},
   "outputs": [
    {
     "data": {
      "text/plain": [
       "array([6., 9.])"
      ]
     },
     "execution_count": 115,
     "metadata": {},
     "output_type": "execute_result"
    }
   ],
   "source": [
    "a = np.array([[6, 4], [5, 9]], float)\n",
    "sel = (a >= 6)\n",
    "a[sel]"
   ]
  },
  {
   "cell_type": "code",
   "execution_count": 117,
   "metadata": {},
   "outputs": [
    {
     "data": {
      "text/plain": [
       "array([6., 4., 5.])"
      ]
     },
     "execution_count": 117,
     "metadata": {},
     "output_type": "execute_result"
    }
   ],
   "source": [
    "a[np.logical_and(a > 3, a < 9)]"
   ]
  },
  {
   "cell_type": "code",
   "execution_count": 118,
   "metadata": {},
   "outputs": [
    {
     "data": {
      "text/plain": [
       "array([2., 2., 4., 8., 6., 4.])"
      ]
     },
     "execution_count": 118,
     "metadata": {},
     "output_type": "execute_result"
    }
   ],
   "source": [
    "a = np.array([2, 4, 6, 8], float)\n",
    "b = np.array([0, 0, 1, 3, 2, 1], int) # INDEXIS\n",
    "a[b]"
   ]
  },
  {
   "cell_type": "code",
   "execution_count": 119,
   "metadata": {},
   "outputs": [
    {
     "data": {
      "text/plain": [
       "array([2., 2., 4., 8., 6., 4.])"
      ]
     },
     "execution_count": 119,
     "metadata": {},
     "output_type": "execute_result"
    }
   ],
   "source": [
    "a = np.array([2, 4, 6, 8], float)\n",
    "a[[0, 0, 1, 3, 2, 1]]"
   ]
  },
  {
   "cell_type": "code",
   "execution_count": 120,
   "metadata": {},
   "outputs": [
    {
     "data": {
      "text/plain": [
       "array([ 1.,  4., 16., 16.,  4.])"
      ]
     },
     "execution_count": 120,
     "metadata": {},
     "output_type": "execute_result"
    }
   ],
   "source": [
    "# Для многомерных массивов, нам необходимо передать несколько одномерных целочисленных массивов в оператор\n",
    "# доступа индексу (Прим. переводчика: в нашем случае индексы это массивы) для каждой оси. \n",
    "# Потом каждый из массивов проходит такую последовательность: первый элемент соответствует индексу строки, \n",
    "# который является первым элементом массива b, второй элемент соответствует индексу столбца, \n",
    "# который является первым элементом массива c и так далее. (Прим. переводчика: первый массив [2, 2] и\n",
    "# второй [1, 4], имеем на выходе элементы с индексами [2, 1] и [2, 4]) Пример:\n",
    "\n",
    "a = np.array([[1, 4], [9, 16]], float)\n",
    "b = np.array([0, 0, 1, 1, 0], int) \n",
    "c = np.array([0, 1, 1, 1, 1], int)\n",
    "a[b,c] # 0 row 0 colum; "
   ]
  },
  {
   "cell_type": "code",
   "execution_count": 121,
   "metadata": {},
   "outputs": [
    {
     "data": {
      "text/plain": [
       "array([2., 2., 4., 8., 6., 4.])"
      ]
     },
     "execution_count": 121,
     "metadata": {},
     "output_type": "execute_result"
    }
   ],
   "source": [
    "# Специальная функция take доступна для выполнения выборки с целочисленными массивами. \n",
    "# Это работает также как и использования оператора взятия по индексу:\n",
    "\n",
    "a = np.array([2, 4, 6, 8], float)\n",
    "b = np.array([0, 0, 1, 3, 2, 1], int)\n",
    "a.take(b)"
   ]
  },
  {
   "cell_type": "code",
   "execution_count": 122,
   "metadata": {},
   "outputs": [
    {
     "data": {
      "text/plain": [
       "array([[0., 1.],\n",
       "       [0., 1.],\n",
       "       [2., 3.]])"
      ]
     },
     "execution_count": 122,
     "metadata": {},
     "output_type": "execute_result"
    }
   ],
   "source": [
    "a = np.array([[0, 1], [2, 3]], float)\n",
    "b = np.array([0, 0, 1], int)\n",
    "a.take(b, axis=0)"
   ]
  },
  {
   "cell_type": "code",
   "execution_count": 123,
   "metadata": {},
   "outputs": [
    {
     "data": {
      "text/plain": [
       "array([[0., 0., 1.],\n",
       "       [2., 2., 3.]])"
      ]
     },
     "execution_count": 123,
     "metadata": {},
     "output_type": "execute_result"
    }
   ],
   "source": [
    "a.take(b, axis=1)"
   ]
  },
  {
   "cell_type": "code",
   "execution_count": 124,
   "metadata": {},
   "outputs": [
    {
     "data": {
      "text/plain": [
       "array([9., 1., 2., 8., 4., 5.])"
      ]
     },
     "execution_count": 124,
     "metadata": {},
     "output_type": "execute_result"
    }
   ],
   "source": [
    "a = np.array([0, 1, 2, 3, 4, 5], float)\n",
    "b = np.array([9, 8, 7], float)\n",
    "a.put([0, 3], b)\n",
    "a"
   ]
  },
  {
   "cell_type": "code",
   "execution_count": 125,
   "metadata": {},
   "outputs": [
    {
     "data": {
      "text/plain": [
       "array([9., 1., 2., 8., 4., 7.])"
      ]
     },
     "execution_count": 125,
     "metadata": {},
     "output_type": "execute_result"
    }
   ],
   "source": [
    "a.put([0, 3, 5], b)\n",
    "a"
   ]
  },
  {
   "cell_type": "markdown",
   "metadata": {},
   "source": [
    "# Векторная и матричная математика"
   ]
  },
  {
   "cell_type": "code",
   "execution_count": 127,
   "metadata": {},
   "outputs": [
    {
     "data": {
      "text/plain": [
       "7.0"
      ]
     },
     "execution_count": 127,
     "metadata": {},
     "output_type": "execute_result"
    }
   ],
   "source": [
    "# NumPy обеспечивает много функций для работы с векторами и матрицами. \n",
    "# Функция dot возвращает скалярное произведение векторов:\n",
    "\n",
    "a = np.array([1, 2, 3], float)\n",
    "b = np.array([0, 2, 1], float)\n",
    "np.dot(a, b)"
   ]
  },
  {
   "cell_type": "code",
   "execution_count": 128,
   "metadata": {},
   "outputs": [
    {
     "data": {
      "text/plain": [
       "array([[0., 1.],\n",
       "       [2., 3.]])"
      ]
     },
     "execution_count": 128,
     "metadata": {},
     "output_type": "execute_result"
    }
   ],
   "source": [
    "# Функция dot также может умножать матрицы:\n",
    "\n",
    "a = np.array([[0, 1], [2, 3]], float)\n",
    "b = np.array([2, 3], float)\n",
    "c = np.array([[1, 1], [4, 0]], float)\n",
    "a"
   ]
  },
  {
   "cell_type": "code",
   "execution_count": 129,
   "metadata": {},
   "outputs": [
    {
     "data": {
      "text/plain": [
       "array([ 6., 11.])"
      ]
     },
     "execution_count": 129,
     "metadata": {},
     "output_type": "execute_result"
    }
   ],
   "source": [
    "np.dot(b, a)  "
   ]
  },
  {
   "cell_type": "code",
   "execution_count": 130,
   "metadata": {},
   "outputs": [
    {
     "data": {
      "text/plain": [
       "array([ 3., 13.])"
      ]
     },
     "execution_count": 130,
     "metadata": {},
     "output_type": "execute_result"
    }
   ],
   "source": [
    "np.dot(a, b)"
   ]
  },
  {
   "cell_type": "code",
   "execution_count": 131,
   "metadata": {},
   "outputs": [
    {
     "data": {
      "text/plain": [
       "array([[ 4.,  0.],\n",
       "       [14.,  2.]])"
      ]
     },
     "execution_count": 131,
     "metadata": {},
     "output_type": "execute_result"
    }
   ],
   "source": [
    "np.dot(a, c)"
   ]
  },
  {
   "cell_type": "code",
   "execution_count": 132,
   "metadata": {},
   "outputs": [
    {
     "data": {
      "text/plain": [
       "array([[9, 5, 4],\n",
       "       [5, 0, 6],\n",
       "       [6, 0, 9]])"
      ]
     },
     "execution_count": 132,
     "metadata": {},
     "output_type": "execute_result"
    }
   ],
   "source": [
    "np.empty(5) # одномерный массив из пяти элементов, память для которого выделена, но не инициализирована\n",
    "np.zeros((10, 7)) # массив размером 10x7, заполненный нулями \n",
    "np.ones((3,3,3)) # массив размером 3х3х3, заполненный единицами \n",
    "np.eye(3) # единичная матрица (элементы главной диагонали равны 1, остальные — 0) размера 3х3\n",
    "np.full((3, 5), 3.14)  # массив 3x5 заполненный числом 3.14\n",
    "np.arange(0, 21, 7)  # одномерный массив, заполненный числами в диапазоне от 0 до 20 с шагом 7\n",
    "np.linspace(0, 1, 5)  # массив из пяти чисел, равномерно распределённых в интервале между 0 и 1 включительно\n",
    "np.random.randint(0, 10, (3, 3))  # массив размера 3х3, заполненный случайными числами из диапазона от 0 до 9 (включительно)"
   ]
  },
  {
   "cell_type": "code",
   "execution_count": 136,
   "metadata": {},
   "outputs": [
    {
     "data": {
      "text/plain": [
       "array([0.25, 0.5 , 0.75, 1.  ])"
      ]
     },
     "execution_count": 136,
     "metadata": {},
     "output_type": "execute_result"
    }
   ],
   "source": [
    "np.empty(4)"
   ]
  },
  {
   "cell_type": "code",
   "execution_count": 137,
   "metadata": {},
   "outputs": [
    {
     "data": {
      "text/plain": [
       "array([[  1. ,  57. ,  71. , 127. , 141. , 197. , 211. , 267. , 281. ],\n",
       "       [  0.5,  28.5,  35.5,  63.5,  70.5,  98.5, 105.5, 133.5, 140.5],\n",
       "       [-99. , -43. , -29. ,  27. ,  41. ,  97. , 111. , 167. , 181. ]])"
      ]
     },
     "execution_count": 137,
     "metadata": {},
     "output_type": "execute_result"
    }
   ],
   "source": [
    "my_secret = [x for x in range(1, 301, 7) if x%10 == 7 or x%10 == 1]\n",
    "np.array([my_secret, [x/2 for x in my_secret], [x-100 for x in my_secret]])"
   ]
  },
  {
   "cell_type": "code",
   "execution_count": 138,
   "metadata": {},
   "outputs": [
    {
     "data": {
      "text/plain": [
       "array([1., 1., 1., 1., 1.])"
      ]
     },
     "execution_count": 138,
     "metadata": {},
     "output_type": "execute_result"
    }
   ],
   "source": [
    "np.ones(5)"
   ]
  },
  {
   "cell_type": "code",
   "execution_count": 140,
   "metadata": {},
   "outputs": [
    {
     "data": {
      "text/plain": [
       "array([[1., 1., 1., 1., 1.],\n",
       "       [1., 1., 1., 1., 1.],\n",
       "       [1., 1., 1., 1., 1.],\n",
       "       [1., 1., 1., 1., 1.],\n",
       "       [1., 1., 1., 1., 1.]])"
      ]
     },
     "execution_count": 140,
     "metadata": {},
     "output_type": "execute_result"
    }
   ],
   "source": [
    "np.ones((5,5))"
   ]
  },
  {
   "cell_type": "code",
   "execution_count": 141,
   "metadata": {},
   "outputs": [
    {
     "data": {
      "text/plain": [
       "array([[1., 0., 0., 0., 0.],\n",
       "       [0., 1., 0., 0., 0.],\n",
       "       [0., 0., 1., 0., 0.],\n",
       "       [0., 0., 0., 1., 0.],\n",
       "       [0., 0., 0., 0., 1.]])"
      ]
     },
     "execution_count": 141,
     "metadata": {},
     "output_type": "execute_result"
    }
   ],
   "source": [
    "np.eye(5)"
   ]
  },
  {
   "cell_type": "code",
   "execution_count": 142,
   "metadata": {},
   "outputs": [
    {
     "data": {
      "text/plain": [
       "array([[1, 1, 1, 1, 1],\n",
       "       [1, 1, 1, 1, 1],\n",
       "       [1, 1, 1, 1, 1],\n",
       "       [1, 1, 1, 1, 1],\n",
       "       [1, 1, 1, 1, 1]])"
      ]
     },
     "execution_count": 142,
     "metadata": {},
     "output_type": "execute_result"
    }
   ],
   "source": [
    "np.full((5,5), 1)"
   ]
  },
  {
   "cell_type": "code",
   "execution_count": 143,
   "metadata": {},
   "outputs": [
    {
     "data": {
      "text/plain": [
       "array([0, 1, 4])"
      ]
     },
     "execution_count": 143,
     "metadata": {},
     "output_type": "execute_result"
    }
   ],
   "source": [
    "np.random.randint(0, 5, 3)"
   ]
  },
  {
   "cell_type": "code",
   "execution_count": 144,
   "metadata": {},
   "outputs": [
    {
     "data": {
      "text/plain": [
       "array([[2, 4, 1],\n",
       "       [0, 1, 2],\n",
       "       [2, 0, 2]])"
      ]
     },
     "execution_count": 144,
     "metadata": {},
     "output_type": "execute_result"
    }
   ],
   "source": [
    "np.random.randint(0, 5, (3, 3))"
   ]
  },
  {
   "cell_type": "code",
   "execution_count": 145,
   "metadata": {},
   "outputs": [
    {
     "data": {
      "text/plain": [
       "array([1, 3, 5, 7, 9])"
      ]
     },
     "execution_count": 145,
     "metadata": {},
     "output_type": "execute_result"
    }
   ],
   "source": [
    "np.array([i for i in range(11) if i%2])"
   ]
  },
  {
   "cell_type": "code",
   "execution_count": 150,
   "metadata": {},
   "outputs": [
    {
     "data": {
      "text/plain": [
       "array([1, 4, 7])"
      ]
     },
     "execution_count": 150,
     "metadata": {},
     "output_type": "execute_result"
    }
   ],
   "source": [
    "my_array = np.array([x for x in range(10)])\n",
    "\n",
    "\n",
    "my_array[1:8:3]"
   ]
  },
  {
   "cell_type": "code",
   "execution_count": 147,
   "metadata": {},
   "outputs": [
    {
     "data": {
      "text/plain": [
       "5"
      ]
     },
     "execution_count": 147,
     "metadata": {},
     "output_type": "execute_result"
    }
   ],
   "source": [
    "my_array[5]"
   ]
  },
  {
   "cell_type": "code",
   "execution_count": 148,
   "metadata": {},
   "outputs": [
    {
     "data": {
      "text/plain": [
       "9"
      ]
     },
     "execution_count": 148,
     "metadata": {},
     "output_type": "execute_result"
    }
   ],
   "source": [
    "my_array[-1]"
   ]
  },
  {
   "cell_type": "code",
   "execution_count": 149,
   "metadata": {},
   "outputs": [
    {
     "data": {
      "text/plain": [
       "array([3, 4, 5])"
      ]
     },
     "execution_count": 149,
     "metadata": {},
     "output_type": "execute_result"
    }
   ],
   "source": [
    "my_array[3:6]"
   ]
  },
  {
   "cell_type": "markdown",
   "metadata": {},
   "source": [
    "# 9.2"
   ]
  },
  {
   "cell_type": "code",
   "execution_count": 152,
   "metadata": {},
   "outputs": [
    {
     "data": {
      "text/plain": [
       "12"
      ]
     },
     "execution_count": 152,
     "metadata": {},
     "output_type": "execute_result"
    }
   ],
   "source": [
    "my_array = np.array([[1,2,3,4], [10,11,12,13], [45,46,47,48]])\n",
    "my_array[1,2]"
   ]
  },
  {
   "cell_type": "code",
   "execution_count": 153,
   "metadata": {},
   "outputs": [
    {
     "data": {
      "text/plain": [
       "12"
      ]
     },
     "execution_count": 153,
     "metadata": {},
     "output_type": "execute_result"
    }
   ],
   "source": [
    "my_array[1][2]"
   ]
  },
  {
   "cell_type": "code",
   "execution_count": 154,
   "metadata": {},
   "outputs": [
    {
     "data": {
      "text/plain": [
       "array([10, 11, 12, 13])"
      ]
     },
     "execution_count": 154,
     "metadata": {},
     "output_type": "execute_result"
    }
   ],
   "source": [
    "my_array[1]"
   ]
  },
  {
   "cell_type": "code",
   "execution_count": 155,
   "metadata": {},
   "outputs": [
    {
     "data": {
      "text/plain": [
       "array([ 3, 12, 47])"
      ]
     },
     "execution_count": 155,
     "metadata": {},
     "output_type": "execute_result"
    }
   ],
   "source": [
    "my_array[:,2]"
   ]
  },
  {
   "cell_type": "code",
   "execution_count": 236,
   "metadata": {},
   "outputs": [],
   "source": [
    "first_line = [x*y for x in range(2, 100, 6) for y in range (7, 1, -2)]\n",
    "second_line = [x ** 0.5 for x in range(1000, 1101, 2)]\n",
    "third_line = [x**2 for x in range(51)]"
   ]
  },
  {
   "cell_type": "code",
   "execution_count": 237,
   "metadata": {},
   "outputs": [],
   "source": [
    "big_secret = np.array([first_line, second_line, third_line, second_line, first_line])"
   ]
  },
  {
   "cell_type": "code",
   "execution_count": 238,
   "metadata": {},
   "outputs": [
    {
     "data": {
      "text/plain": [
       "array([31.62, 31.65, 31.69, 31.72, 31.75, 31.78, 31.81, 31.84, 31.87,\n",
       "       31.91, 31.94, 31.97, 32.  , 32.03, 32.06, 32.09, 32.12, 32.16,\n",
       "       32.19, 32.22, 32.25, 32.28, 32.31, 32.34, 32.37, 32.4 , 32.43,\n",
       "       32.47, 32.5 , 32.53, 32.56, 32.59, 32.62, 32.65, 32.68, 32.71,\n",
       "       32.74, 32.77, 32.8 , 32.83, 32.86, 32.89, 32.92, 32.95, 32.98,\n",
       "       33.02, 33.05, 33.08, 33.11, 33.14, 33.17])"
      ]
     },
     "execution_count": 238,
     "metadata": {},
     "output_type": "execute_result"
    }
   ],
   "source": [
    "big_secret[1]"
   ]
  },
  {
   "cell_type": "code",
   "execution_count": 239,
   "metadata": {},
   "outputs": [
    {
     "data": {
      "text/plain": [
       "array([   0.,    1.,    4.,    9.,   16.,   25.,   36.,   49.,   64.,\n",
       "         81.,  100.,  121.,  144.,  169.,  196.,  225.,  256.,  289.,\n",
       "        324.,  361.,  400.,  441.,  484.,  529.,  576.,  625.,  676.,\n",
       "        729.,  784.,  841.,  900.,  961., 1024., 1089., 1156., 1225.,\n",
       "       1296., 1369., 1444., 1521., 1600., 1681., 1764., 1849., 1936.,\n",
       "       2025., 2116., 2209., 2304., 2401., 2500.])"
      ]
     },
     "execution_count": 239,
     "metadata": {},
     "output_type": "execute_result"
    }
   ],
   "source": [
    "big_secret[2]"
   ]
  },
  {
   "cell_type": "code",
   "execution_count": 240,
   "metadata": {},
   "outputs": [
    {
     "data": {
      "text/plain": [
       "array([ 14.,  10.,   6.,  56.,  40.,  24.,  98.,  70.,  42., 140., 100.,\n",
       "        60., 182., 130.,  78., 224., 160.,  96., 266., 190., 114., 308.,\n",
       "       220., 132., 350., 250., 150., 392., 280., 168., 434., 310., 186.,\n",
       "       476., 340., 204., 518., 370., 222., 560., 400., 240., 602., 430.,\n",
       "       258., 644., 460., 276., 686., 490., 294.])"
      ]
     },
     "execution_count": 240,
     "metadata": {},
     "output_type": "execute_result"
    }
   ],
   "source": [
    "big_secret[0]"
   ]
  },
  {
   "cell_type": "code",
   "execution_count": 241,
   "metadata": {},
   "outputs": [
    {
     "data": {
      "text/plain": [
       "array([31.62, 31.65, 31.69, 31.72, 31.75, 31.78, 31.81, 31.84, 31.87,\n",
       "       31.91, 31.94, 31.97, 32.  , 32.03, 32.06, 32.09, 32.12, 32.16,\n",
       "       32.19, 32.22, 32.25, 32.28, 32.31, 32.34, 32.37, 32.4 , 32.43,\n",
       "       32.47, 32.5 , 32.53, 32.56, 32.59, 32.62, 32.65, 32.68, 32.71,\n",
       "       32.74, 32.77, 32.8 , 32.83, 32.86, 32.89, 32.92, 32.95, 32.98,\n",
       "       33.02, 33.05, 33.08, 33.11, 33.14, 33.17])"
      ]
     },
     "execution_count": 241,
     "metadata": {},
     "output_type": "execute_result"
    }
   ],
   "source": [
    "big_secret[3]"
   ]
  },
  {
   "cell_type": "code",
   "execution_count": 242,
   "metadata": {},
   "outputs": [
    {
     "data": {
      "text/plain": [
       "array([ 14.,  10.,   6.,  56.,  40.,  24.,  98.,  70.,  42., 140., 100.,\n",
       "        60., 182., 130.,  78., 224., 160.,  96., 266., 190., 114., 308.,\n",
       "       220., 132., 350., 250., 150., 392., 280., 168., 434., 310., 186.,\n",
       "       476., 340., 204., 518., 370., 222., 560., 400., 240., 602., 430.,\n",
       "       258., 644., 460., 276., 686., 490., 294.])"
      ]
     },
     "execution_count": 242,
     "metadata": {},
     "output_type": "execute_result"
    }
   ],
   "source": [
    "big_secret[4]"
   ]
  },
  {
   "cell_type": "code",
   "execution_count": 243,
   "metadata": {},
   "outputs": [
    {
     "data": {
      "text/plain": [
       "(5, 51)"
      ]
     },
     "execution_count": 243,
     "metadata": {},
     "output_type": "execute_result"
    }
   ],
   "source": [
    "big_secret.shape"
   ]
  },
  {
   "cell_type": "code",
   "execution_count": 244,
   "metadata": {},
   "outputs": [
    {
     "data": {
      "text/plain": [
       "42925"
      ]
     },
     "execution_count": 244,
     "metadata": {},
     "output_type": "execute_result"
    }
   ],
   "source": [
    "np.sum(third_line)"
   ]
  },
  {
   "cell_type": "code",
   "execution_count": 245,
   "metadata": {},
   "outputs": [
    {
     "data": {
      "text/plain": [
       "71729.85284071535"
      ]
     },
     "execution_count": 245,
     "metadata": {},
     "output_type": "execute_result"
    }
   ],
   "source": [
    "big_secret[:51].sum()"
   ]
  },
  {
   "cell_type": "code",
   "execution_count": 246,
   "metadata": {},
   "outputs": [
    {
     "data": {
      "text/plain": [
       "3154.332495807108"
      ]
     },
     "execution_count": 246,
     "metadata": {},
     "output_type": "execute_result"
    }
   ],
   "source": [
    "big_secret[:,50].sum()"
   ]
  },
  {
   "cell_type": "code",
   "execution_count": 247,
   "metadata": {},
   "outputs": [],
   "source": [
    "# Выделите из каждой строки массива big_secret первые 5 элементов. \n",
    "# Чему равна сумма элементов главной диагонали получившейся матрицы? \n",
    "# Округлите ответ до двух цифр после запятой:\n",
    "\n",
    "new_array = big_secret[:,0:5]"
   ]
  },
  {
   "cell_type": "code",
   "execution_count": 248,
   "metadata": {},
   "outputs": [
    {
     "data": {
      "text/plain": [
       "array([[14.  , 10.  ,  6.  , 56.  , 40.  ],\n",
       "       [31.62, 31.65, 31.69, 31.72, 31.75],\n",
       "       [ 0.  ,  1.  ,  4.  ,  9.  , 16.  ],\n",
       "       [31.62, 31.65, 31.69, 31.72, 31.75],\n",
       "       [14.  , 10.  ,  6.  , 56.  , 40.  ]])"
      ]
     },
     "execution_count": 248,
     "metadata": {},
     "output_type": "execute_result"
    }
   ],
   "source": [
    "new_array"
   ]
  },
  {
   "cell_type": "code",
   "execution_count": 249,
   "metadata": {},
   "outputs": [
    {
     "data": {
      "text/plain": [
       "121.37188663699624"
      ]
     },
     "execution_count": 249,
     "metadata": {},
     "output_type": "execute_result"
    }
   ],
   "source": [
    "sum(new_array.diagonal())"
   ]
  },
  {
   "cell_type": "code",
   "execution_count": 250,
   "metadata": {},
   "outputs": [],
   "source": [
    "# Выделите из каждой строки массива big_secret последние 5 элементов. \n",
    "# Чему равно произведение элементов главной диагонали получившейся матрицы?\n",
    "\n",
    "new_array_2 = big_secret[:,-5:]"
   ]
  },
  {
   "cell_type": "code",
   "execution_count": 251,
   "metadata": {},
   "outputs": [
    {
     "data": {
      "text/plain": [
       "array([[ 460.  ,  276.  ,  686.  ,  490.  ,  294.  ],\n",
       "       [  33.05,   33.08,   33.11,   33.14,   33.17],\n",
       "       [2116.  , 2209.  , 2304.  , 2401.  , 2500.  ],\n",
       "       [  33.05,   33.08,   33.11,   33.14,   33.17],\n",
       "       [ 460.  ,  276.  ,  686.  ,  490.  ,  294.  ]])"
      ]
     },
     "execution_count": 251,
     "metadata": {},
     "output_type": "execute_result"
    }
   ],
   "source": [
    "new_array_2"
   ]
  },
  {
   "cell_type": "code",
   "execution_count": 252,
   "metadata": {},
   "outputs": [
    {
     "data": {
      "text/plain": [
       "array([ 460.  ,   33.08, 2304.  ,   33.14,  294.  ])"
      ]
     },
     "execution_count": 252,
     "metadata": {},
     "output_type": "execute_result"
    }
   ],
   "source": [
    "new_array_2 = new_array_2.diagonal()\n",
    "new_array_2"
   ]
  },
  {
   "cell_type": "code",
   "execution_count": 253,
   "metadata": {},
   "outputs": [],
   "source": [
    "# lambda new_array_2[i] * new_array_2[i+1]: for i in new_array_2"
   ]
  },
  {
   "cell_type": "code",
   "execution_count": 204,
   "metadata": {},
   "outputs": [],
   "source": [
    "n = 1\n",
    "for i in new_array_2:\n",
    "    n *= i"
   ]
  },
  {
   "cell_type": "code",
   "execution_count": 205,
   "metadata": {},
   "outputs": [
    {
     "data": {
      "text/plain": [
       "341505315559.2347"
      ]
     },
     "execution_count": 205,
     "metadata": {},
     "output_type": "execute_result"
    }
   ],
   "source": [
    "n"
   ]
  },
  {
   "cell_type": "markdown",
   "metadata": {},
   "source": [
    "# Особенность индексирования"
   ]
  },
  {
   "cell_type": "code",
   "execution_count": 207,
   "metadata": {},
   "outputs": [
    {
     "data": {
      "text/plain": [
       "array([[47, 11, 67, 55, 59,  1],\n",
       "       [43, 70, 92, 73, 44, 72],\n",
       "       [20, 10, 32, 51, 93, 26],\n",
       "       [36, 55, 82, 89, 78, 27]])"
      ]
     },
     "execution_count": 207,
     "metadata": {},
     "output_type": "execute_result"
    }
   ],
   "source": [
    "my_array = np.random.randint(1, 100, (4, 6))\n",
    "my_array"
   ]
  },
  {
   "cell_type": "code",
   "execution_count": 208,
   "metadata": {},
   "outputs": [],
   "source": [
    "my_slice = my_array[1:3, 2:4]"
   ]
  },
  {
   "cell_type": "code",
   "execution_count": 209,
   "metadata": {},
   "outputs": [
    {
     "data": {
      "text/plain": [
       "array([[92, 73],\n",
       "       [32, 51]])"
      ]
     },
     "execution_count": 209,
     "metadata": {},
     "output_type": "execute_result"
    }
   ],
   "source": [
    "my_slice"
   ]
  },
  {
   "cell_type": "code",
   "execution_count": 210,
   "metadata": {},
   "outputs": [],
   "source": [
    "my_slice[:] = 0"
   ]
  },
  {
   "cell_type": "code",
   "execution_count": 211,
   "metadata": {},
   "outputs": [
    {
     "data": {
      "text/plain": [
       "array([[47, 11, 67, 55, 59,  1],\n",
       "       [43, 70,  0,  0, 44, 72],\n",
       "       [20, 10,  0,  0, 93, 26],\n",
       "       [36, 55, 82, 89, 78, 27]])"
      ]
     },
     "execution_count": 211,
     "metadata": {},
     "output_type": "execute_result"
    }
   ],
   "source": [
    "my_array"
   ]
  },
  {
   "cell_type": "code",
   "execution_count": 229,
   "metadata": {},
   "outputs": [],
   "source": [
    "np.set_printoptions(precision=2, suppress=True)"
   ]
  },
  {
   "cell_type": "code",
   "execution_count": 254,
   "metadata": {},
   "outputs": [
    {
     "data": {
      "text/plain": [
       "array([[  14.  ,   10.  ,    6.  ,   56.  ,   40.  ,   24.  ,   98.  ,\n",
       "          70.  ,   42.  ,  140.  ,  100.  ,   60.  ,  182.  ,  130.  ,\n",
       "          78.  ,  224.  ,  160.  ,   96.  ,  266.  ,  190.  ,  114.  ,\n",
       "         308.  ,  220.  ,  132.  ,  350.  ,  250.  ,  150.  ,  392.  ,\n",
       "         280.  ,  168.  ,  434.  ,  310.  ,  186.  ,  476.  ,  340.  ,\n",
       "         204.  ,  518.  ,  370.  ,  222.  ,  560.  ,  400.  ,  240.  ,\n",
       "         602.  ,  430.  ,  258.  ,  644.  ,  460.  ,  276.  ,  686.  ,\n",
       "         490.  ,  294.  ],\n",
       "       [  31.62,   31.65,   31.69,   31.72,   31.75,   31.78,   31.81,\n",
       "          31.84,   31.87,   31.91,   31.94,   31.97,   32.  ,   32.03,\n",
       "          32.06,   32.09,   32.12,   32.16,   32.19,   32.22,   32.25,\n",
       "          32.28,   32.31,   32.34,   32.37,   32.4 ,   32.43,   32.47,\n",
       "          32.5 ,   32.53,   32.56,   32.59,   32.62,   32.65,   32.68,\n",
       "          32.71,   32.74,   32.77,   32.8 ,   32.83,   32.86,   32.89,\n",
       "          32.92,   32.95,   32.98,   33.02,   33.05,   33.08,   33.11,\n",
       "          33.14,   33.17],\n",
       "       [   0.  ,    1.  ,    4.  ,    9.  ,   16.  ,   25.  ,   36.  ,\n",
       "          49.  ,   64.  ,   81.  ,  100.  ,  121.  ,  144.  ,  169.  ,\n",
       "         196.  ,  225.  ,  256.  ,  289.  ,  324.  ,  361.  ,  400.  ,\n",
       "         441.  ,  484.  ,  529.  ,  576.  ,  625.  ,  676.  ,  729.  ,\n",
       "         784.  ,  841.  ,  900.  ,  961.  , 1024.  , 1089.  , 1156.  ,\n",
       "        1225.  , 1296.  , 1369.  , 1444.  , 1521.  , 1600.  , 1681.  ,\n",
       "        1764.  , 1849.  , 1936.  , 2025.  , 2116.  , 2209.  , 2304.  ,\n",
       "        2401.  , 2500.  ],\n",
       "       [  31.62,   31.65,   31.69,   31.72,   31.75,   31.78,   31.81,\n",
       "          31.84,   31.87,   31.91,   31.94,   31.97,   32.  ,   32.03,\n",
       "          32.06,   32.09,   32.12,   32.16,   32.19,   32.22,   32.25,\n",
       "          32.28,   32.31,   32.34,   32.37,   32.4 ,   32.43,   32.47,\n",
       "          32.5 ,   32.53,   32.56,   32.59,   32.62,   32.65,   32.68,\n",
       "          32.71,   32.74,   32.77,   32.8 ,   32.83,   32.86,   32.89,\n",
       "          32.92,   32.95,   32.98,   33.02,   33.05,   33.08,   33.11,\n",
       "          33.14,   33.17],\n",
       "       [  14.  ,   10.  ,    6.  ,   56.  ,   40.  ,   24.  ,   98.  ,\n",
       "          70.  ,   42.  ,  140.  ,  100.  ,   60.  ,  182.  ,  130.  ,\n",
       "          78.  ,  224.  ,  160.  ,   96.  ,  266.  ,  190.  ,  114.  ,\n",
       "         308.  ,  220.  ,  132.  ,  350.  ,  250.  ,  150.  ,  392.  ,\n",
       "         280.  ,  168.  ,  434.  ,  310.  ,  186.  ,  476.  ,  340.  ,\n",
       "         204.  ,  518.  ,  370.  ,  222.  ,  560.  ,  400.  ,  240.  ,\n",
       "         602.  ,  430.  ,  258.  ,  644.  ,  460.  ,  276.  ,  686.  ,\n",
       "         490.  ,  294.  ]])"
      ]
     },
     "execution_count": 254,
     "metadata": {},
     "output_type": "execute_result"
    }
   ],
   "source": [
    "big_secret"
   ]
  },
  {
   "cell_type": "code",
   "execution_count": 255,
   "metadata": {},
   "outputs": [],
   "source": [
    "big_secret[::2, ::2] = -1\n",
    "big_secret[1::2, 1::2] = 1"
   ]
  },
  {
   "cell_type": "code",
   "execution_count": 256,
   "metadata": {},
   "outputs": [
    {
     "data": {
      "text/plain": [
       "array([[  -1.  ,   10.  ,   -1.  ,   56.  ,   -1.  ,   24.  ,   -1.  ,\n",
       "          70.  ,   -1.  ,  140.  ,   -1.  ,   60.  ,   -1.  ,  130.  ,\n",
       "          -1.  ,  224.  ,   -1.  ,   96.  ,   -1.  ,  190.  ,   -1.  ,\n",
       "         308.  ,   -1.  ,  132.  ,   -1.  ,  250.  ,   -1.  ,  392.  ,\n",
       "          -1.  ,  168.  ,   -1.  ,  310.  ,   -1.  ,  476.  ,   -1.  ,\n",
       "         204.  ,   -1.  ,  370.  ,   -1.  ,  560.  ,   -1.  ,  240.  ,\n",
       "          -1.  ,  430.  ,   -1.  ,  644.  ,   -1.  ,  276.  ,   -1.  ,\n",
       "         490.  ,   -1.  ],\n",
       "       [  31.62,    1.  ,   31.69,    1.  ,   31.75,    1.  ,   31.81,\n",
       "           1.  ,   31.87,    1.  ,   31.94,    1.  ,   32.  ,    1.  ,\n",
       "          32.06,    1.  ,   32.12,    1.  ,   32.19,    1.  ,   32.25,\n",
       "           1.  ,   32.31,    1.  ,   32.37,    1.  ,   32.43,    1.  ,\n",
       "          32.5 ,    1.  ,   32.56,    1.  ,   32.62,    1.  ,   32.68,\n",
       "           1.  ,   32.74,    1.  ,   32.8 ,    1.  ,   32.86,    1.  ,\n",
       "          32.92,    1.  ,   32.98,    1.  ,   33.05,    1.  ,   33.11,\n",
       "           1.  ,   33.17],\n",
       "       [  -1.  ,    1.  ,   -1.  ,    9.  ,   -1.  ,   25.  ,   -1.  ,\n",
       "          49.  ,   -1.  ,   81.  ,   -1.  ,  121.  ,   -1.  ,  169.  ,\n",
       "          -1.  ,  225.  ,   -1.  ,  289.  ,   -1.  ,  361.  ,   -1.  ,\n",
       "         441.  ,   -1.  ,  529.  ,   -1.  ,  625.  ,   -1.  ,  729.  ,\n",
       "          -1.  ,  841.  ,   -1.  ,  961.  ,   -1.  , 1089.  ,   -1.  ,\n",
       "        1225.  ,   -1.  , 1369.  ,   -1.  , 1521.  ,   -1.  , 1681.  ,\n",
       "          -1.  , 1849.  ,   -1.  , 2025.  ,   -1.  , 2209.  ,   -1.  ,\n",
       "        2401.  ,   -1.  ],\n",
       "       [  31.62,    1.  ,   31.69,    1.  ,   31.75,    1.  ,   31.81,\n",
       "           1.  ,   31.87,    1.  ,   31.94,    1.  ,   32.  ,    1.  ,\n",
       "          32.06,    1.  ,   32.12,    1.  ,   32.19,    1.  ,   32.25,\n",
       "           1.  ,   32.31,    1.  ,   32.37,    1.  ,   32.43,    1.  ,\n",
       "          32.5 ,    1.  ,   32.56,    1.  ,   32.62,    1.  ,   32.68,\n",
       "           1.  ,   32.74,    1.  ,   32.8 ,    1.  ,   32.86,    1.  ,\n",
       "          32.92,    1.  ,   32.98,    1.  ,   33.05,    1.  ,   33.11,\n",
       "           1.  ,   33.17],\n",
       "       [  -1.  ,   10.  ,   -1.  ,   56.  ,   -1.  ,   24.  ,   -1.  ,\n",
       "          70.  ,   -1.  ,  140.  ,   -1.  ,   60.  ,   -1.  ,  130.  ,\n",
       "          -1.  ,  224.  ,   -1.  ,   96.  ,   -1.  ,  190.  ,   -1.  ,\n",
       "         308.  ,   -1.  ,  132.  ,   -1.  ,  250.  ,   -1.  ,  392.  ,\n",
       "          -1.  ,  168.  ,   -1.  ,  310.  ,   -1.  ,  476.  ,   -1.  ,\n",
       "         204.  ,   -1.  ,  370.  ,   -1.  ,  560.  ,   -1.  ,  240.  ,\n",
       "          -1.  ,  430.  ,   -1.  ,  644.  ,   -1.  ,  276.  ,   -1.  ,\n",
       "         490.  ,   -1.  ]])"
      ]
     },
     "execution_count": 256,
     "metadata": {},
     "output_type": "execute_result"
    }
   ],
   "source": [
    "big_secret"
   ]
  },
  {
   "cell_type": "code",
   "execution_count": 257,
   "metadata": {},
   "outputs": [
    {
     "data": {
      "text/plain": [
       "-1.0"
      ]
     },
     "execution_count": 257,
     "metadata": {},
     "output_type": "execute_result"
    }
   ],
   "source": [
    "sum(np.diagonal(big_secret))"
   ]
  },
  {
   "cell_type": "code",
   "execution_count": 227,
   "metadata": {},
   "outputs": [
    {
     "data": {
      "text/plain": [
       "array([ 14.,   6.,  40.,  98.,  42., 100., 182.,  78., 160., 266., 114.,\n",
       "       220., 350., 150., 280., 434., 186., 340., 518., 222., 400., 602.,\n",
       "       258., 460., 686., 294.])"
      ]
     },
     "execution_count": 227,
     "metadata": {},
     "output_type": "execute_result"
    }
   ],
   "source": [
    "cond"
   ]
  },
  {
   "cell_type": "code",
   "execution_count": 298,
   "metadata": {},
   "outputs": [
    {
     "data": {
      "text/plain": [
       "array([ 0,  1,  2,  3,  4,  5,  6,  7,  8,  9, 10, 11, 12, 13, 14, 15, 16,\n",
       "       17, 18, 19, 20, 21, 22, 23, 24, 25, 26, 27, 28, 29, 30, 31, 32, 33,\n",
       "       34, 35, 36, 37, 38, 39, 40, 41, 42, 43, 44, 45, 46, 47, 48, 49, 50,\n",
       "       51, 52, 53, 54, 55, 56, 57, 58, 59, 60, 61, 62, 63, 64, 65, 66, 67,\n",
       "       68, 69, 70, 71, 72, 73, 74, 75, 76, 77, 78, 79, 80, 81, 82, 83, 84,\n",
       "       85, 86, 87, 88, 89, 90, 91, 92, 93, 94, 95, 96, 97, 98, 99])"
      ]
     },
     "execution_count": 298,
     "metadata": {},
     "output_type": "execute_result"
    }
   ],
   "source": [
    "z = np.arange(100)\n",
    "z"
   ]
  },
  {
   "cell_type": "code",
   "execution_count": 299,
   "metadata": {},
   "outputs": [
    {
     "data": {
      "text/plain": [
       "array([[ 0,  1,  2,  3,  4,  5,  6,  7,  8,  9, 10, 11, 12, 13, 14, 15,\n",
       "        16, 17, 18, 19],\n",
       "       [20, 21, 22, 23, 24, 25, 26, 27, 28, 29, 30, 31, 32, 33, 34, 35,\n",
       "        36, 37, 38, 39],\n",
       "       [40, 41, 42, 43, 44, 45, 46, 47, 48, 49, 50, 51, 52, 53, 54, 55,\n",
       "        56, 57, 58, 59],\n",
       "       [60, 61, 62, 63, 64, 65, 66, 67, 68, 69, 70, 71, 72, 73, 74, 75,\n",
       "        76, 77, 78, 79],\n",
       "       [80, 81, 82, 83, 84, 85, 86, 87, 88, 89, 90, 91, 92, 93, 94, 95,\n",
       "        96, 97, 98, 99]])"
      ]
     },
     "execution_count": 299,
     "metadata": {},
     "output_type": "execute_result"
    }
   ],
   "source": [
    "z = z.reshape(5,20)\n",
    "z"
   ]
  },
  {
   "cell_type": "code",
   "execution_count": 300,
   "metadata": {},
   "outputs": [],
   "source": [
    "z[::2, ::3]=-1"
   ]
  },
  {
   "cell_type": "code",
   "execution_count": 301,
   "metadata": {},
   "outputs": [
    {
     "data": {
      "text/plain": [
       "array([[-1,  1,  2, -1,  4,  5, -1,  7,  8, -1, 10, 11, -1, 13, 14, -1,\n",
       "        16, 17, -1, 19],\n",
       "       [20, 21, 22, 23, 24, 25, 26, 27, 28, 29, 30, 31, 32, 33, 34, 35,\n",
       "        36, 37, 38, 39],\n",
       "       [-1, 41, 42, -1, 44, 45, -1, 47, 48, -1, 50, 51, -1, 53, 54, -1,\n",
       "        56, 57, -1, 59],\n",
       "       [60, 61, 62, 63, 64, 65, 66, 67, 68, 69, 70, 71, 72, 73, 74, 75,\n",
       "        76, 77, 78, 79],\n",
       "       [-1, 81, 82, -1, 84, 85, -1, 87, 88, -1, 90, 91, -1, 93, 94, -1,\n",
       "        96, 97, -1, 99]])"
      ]
     },
     "execution_count": 301,
     "metadata": {},
     "output_type": "execute_result"
    }
   ],
   "source": [
    "z"
   ]
  },
  {
   "cell_type": "code",
   "execution_count": 308,
   "metadata": {},
   "outputs": [
    {
     "data": {
      "text/plain": [
       "array([[  -1.  ,  490.  ,   -1.  ,  276.  ,   -1.  ],\n",
       "       [  33.17,    1.  ,   33.11,    1.  ,   33.05],\n",
       "       [  -1.  , 2401.  ,   -1.  , 2209.  ,   -1.  ],\n",
       "       [  33.17,    1.  ,   33.11,    1.  ,   33.05],\n",
       "       [  -1.  ,  490.  ,   -1.  ,  276.  ,   -1.  ]])"
      ]
     },
     "execution_count": 308,
     "metadata": {},
     "output_type": "execute_result"
    }
   ],
   "source": [
    "big_secret[::,:-6:-1]"
   ]
  },
  {
   "cell_type": "code",
   "execution_count": 309,
   "metadata": {},
   "outputs": [
    {
     "data": {
      "text/plain": [
       "-1.0"
      ]
     },
     "execution_count": 309,
     "metadata": {},
     "output_type": "execute_result"
    }
   ],
   "source": [
    "np.prod(big_secret.diagonal())"
   ]
  },
  {
   "cell_type": "code",
   "execution_count": 310,
   "metadata": {},
   "outputs": [
    {
     "data": {
      "text/plain": [
       "array([[ 1,  6],\n",
       "       [ 2,  7],\n",
       "       [ 3,  8],\n",
       "       [ 4,  9],\n",
       "       [ 5, 10]])"
      ]
     },
     "execution_count": 310,
     "metadata": {},
     "output_type": "execute_result"
    }
   ],
   "source": [
    "# Замена местами строк и столбцов двумерного массива называется транспонированием.\n",
    "# Для выполнения этой операции в NumPy используется метод T:\n",
    "\n",
    "my_array = np.array([[1,2,3,4,5], [6,7,8,9,10]])\n",
    "my_array.T"
   ]
  },
  {
   "cell_type": "code",
   "execution_count": 311,
   "metadata": {},
   "outputs": [
    {
     "data": {
      "text/plain": [
       "array([  1,   2,   3,  11,  22,  33, 111, 222, 333])"
      ]
     },
     "execution_count": 311,
     "metadata": {},
     "output_type": "execute_result"
    }
   ],
   "source": [
    "# Для преобразования многомерного массива в одномерный используется метод flatten:\n",
    "\n",
    "my_array = np.array([[1,2,3], [11,22,33], [111,222,333]])\n",
    "my_array.flatten()"
   ]
  },
  {
   "cell_type": "code",
   "execution_count": 315,
   "metadata": {},
   "outputs": [
    {
     "data": {
      "text/plain": [
       "array([[8, 0, 3, 6],\n",
       "       [0, 0, 7, 5],\n",
       "       [1, 3, 7, 9]])"
      ]
     },
     "execution_count": 315,
     "metadata": {},
     "output_type": "execute_result"
    }
   ],
   "source": [
    "my_array = np.random.randint(0, 10, (3,4))\n",
    "my_array"
   ]
  },
  {
   "cell_type": "code",
   "execution_count": 316,
   "metadata": {},
   "outputs": [
    {
     "data": {
      "text/plain": [
       "array([[False,  True,  True, False],\n",
       "       [ True,  True, False, False],\n",
       "       [ True,  True, False, False]])"
      ]
     },
     "execution_count": 316,
     "metadata": {},
     "output_type": "execute_result"
    }
   ],
   "source": [
    "my_array<5"
   ]
  },
  {
   "cell_type": "code",
   "execution_count": 317,
   "metadata": {},
   "outputs": [
    {
     "data": {
      "text/plain": [
       "array([0, 3, 0, 0, 1, 3])"
      ]
     },
     "execution_count": 317,
     "metadata": {},
     "output_type": "execute_result"
    }
   ],
   "source": [
    "my_array[my_array<5]"
   ]
  },
  {
   "cell_type": "code",
   "execution_count": 318,
   "metadata": {},
   "outputs": [
    {
     "data": {
      "text/plain": [
       "array([[8, 3],\n",
       "       [0, 7],\n",
       "       [1, 7]])"
      ]
     },
     "execution_count": 318,
     "metadata": {},
     "output_type": "execute_result"
    }
   ],
   "source": [
    "mask = np.array([1, 0, 1, 0], dtype=bool)\n",
    "my_array[:, mask]"
   ]
  },
  {
   "cell_type": "markdown",
   "metadata": {},
   "source": [
    "# Сортировка двумерных массивов"
   ]
  },
  {
   "cell_type": "code",
   "execution_count": 320,
   "metadata": {},
   "outputs": [
    {
     "data": {
      "text/plain": [
       "array([[3, 5, 8, 9, 9, 9],\n",
       "       [0, 2, 4, 7, 8, 8],\n",
       "       [0, 1, 2, 4, 5, 7],\n",
       "       [1, 3, 3, 7, 8, 9]])"
      ]
     },
     "execution_count": 320,
     "metadata": {},
     "output_type": "execute_result"
    }
   ],
   "source": [
    "my_array = np.random.randint(0, 10, (4, 6))\n",
    "\n",
    "np.sort(my_array, axis=1)\n"
   ]
  },
  {
   "cell_type": "code",
   "execution_count": 321,
   "metadata": {},
   "outputs": [
    {
     "data": {
      "text/plain": [
       "array([[0, 1, 1, 7, 2, 5],\n",
       "       [0, 2, 3, 8, 3, 5],\n",
       "       [3, 4, 4, 9, 7, 8],\n",
       "       [9, 9, 7, 9, 8, 8]])"
      ]
     },
     "execution_count": 321,
     "metadata": {},
     "output_type": "execute_result"
    }
   ],
   "source": [
    "np.sort(my_array, axis=0)"
   ]
  },
  {
   "cell_type": "code",
   "execution_count": 322,
   "metadata": {},
   "outputs": [],
   "source": [
    "first = [x**(1/2) for x in range(100)]\n",
    "second = [x**(1/3) for x in range(100, 200)]\n",
    "third = [x/y for x in range(200,300,2) for y in [3,5]]\n",
    "\n",
    "great_secret = np.array([first, second, third]).T"
   ]
  },
  {
   "cell_type": "code",
   "execution_count": 323,
   "metadata": {
    "scrolled": true
   },
   "outputs": [
    {
     "data": {
      "text/plain": [
       "array([[ 0.  ,  4.64, 66.67],\n",
       "       [ 1.  ,  4.66, 40.  ],\n",
       "       [ 1.41,  4.67, 67.33],\n",
       "       [ 1.73,  4.69, 40.4 ],\n",
       "       [ 2.  ,  4.7 , 68.  ],\n",
       "       [ 2.24,  4.72, 40.8 ],\n",
       "       [ 2.45,  4.73, 68.67],\n",
       "       [ 2.65,  4.75, 41.2 ],\n",
       "       [ 2.83,  4.76, 69.33],\n",
       "       [ 3.  ,  4.78, 41.6 ],\n",
       "       [ 3.16,  4.79, 70.  ],\n",
       "       [ 3.32,  4.81, 42.  ],\n",
       "       [ 3.46,  4.82, 70.67],\n",
       "       [ 3.61,  4.83, 42.4 ],\n",
       "       [ 3.74,  4.85, 71.33],\n",
       "       [ 3.87,  4.86, 42.8 ],\n",
       "       [ 4.  ,  4.88, 72.  ],\n",
       "       [ 4.12,  4.89, 43.2 ],\n",
       "       [ 4.24,  4.9 , 72.67],\n",
       "       [ 4.36,  4.92, 43.6 ],\n",
       "       [ 4.47,  4.93, 73.33],\n",
       "       [ 4.58,  4.95, 44.  ],\n",
       "       [ 4.69,  4.96, 74.  ],\n",
       "       [ 4.8 ,  4.97, 44.4 ],\n",
       "       [ 4.9 ,  4.99, 74.67],\n",
       "       [ 5.  ,  5.  , 44.8 ],\n",
       "       [ 5.1 ,  5.01, 75.33],\n",
       "       [ 5.2 ,  5.03, 45.2 ],\n",
       "       [ 5.29,  5.04, 76.  ],\n",
       "       [ 5.39,  5.05, 45.6 ],\n",
       "       [ 5.48,  5.07, 76.67],\n",
       "       [ 5.57,  5.08, 46.  ],\n",
       "       [ 5.66,  5.09, 77.33],\n",
       "       [ 5.74,  5.1 , 46.4 ],\n",
       "       [ 5.83,  5.12, 78.  ],\n",
       "       [ 5.92,  5.13, 46.8 ],\n",
       "       [ 6.  ,  5.14, 78.67],\n",
       "       [ 6.08,  5.16, 47.2 ],\n",
       "       [ 6.16,  5.17, 79.33],\n",
       "       [ 6.24,  5.18, 47.6 ],\n",
       "       [ 6.32,  5.19, 80.  ],\n",
       "       [ 6.4 ,  5.2 , 48.  ],\n",
       "       [ 6.48,  5.22, 80.67],\n",
       "       [ 6.56,  5.23, 48.4 ],\n",
       "       [ 6.63,  5.24, 81.33],\n",
       "       [ 6.71,  5.25, 48.8 ],\n",
       "       [ 6.78,  5.27, 82.  ],\n",
       "       [ 6.86,  5.28, 49.2 ],\n",
       "       [ 6.93,  5.29, 82.67],\n",
       "       [ 7.  ,  5.3 , 49.6 ],\n",
       "       [ 7.07,  5.31, 83.33],\n",
       "       [ 7.14,  5.33, 50.  ],\n",
       "       [ 7.21,  5.34, 84.  ],\n",
       "       [ 7.28,  5.35, 50.4 ],\n",
       "       [ 7.35,  5.36, 84.67],\n",
       "       [ 7.42,  5.37, 50.8 ],\n",
       "       [ 7.48,  5.38, 85.33],\n",
       "       [ 7.55,  5.39, 51.2 ],\n",
       "       [ 7.62,  5.41, 86.  ],\n",
       "       [ 7.68,  5.42, 51.6 ],\n",
       "       [ 7.75,  5.43, 86.67],\n",
       "       [ 7.81,  5.44, 52.  ],\n",
       "       [ 7.87,  5.45, 87.33],\n",
       "       [ 7.94,  5.46, 52.4 ],\n",
       "       [ 8.  ,  5.47, 88.  ],\n",
       "       [ 8.06,  5.48, 52.8 ],\n",
       "       [ 8.12,  5.5 , 88.67],\n",
       "       [ 8.19,  5.51, 53.2 ],\n",
       "       [ 8.25,  5.52, 89.33],\n",
       "       [ 8.31,  5.53, 53.6 ],\n",
       "       [ 8.37,  5.54, 90.  ],\n",
       "       [ 8.43,  5.55, 54.  ],\n",
       "       [ 8.49,  5.56, 90.67],\n",
       "       [ 8.54,  5.57, 54.4 ],\n",
       "       [ 8.6 ,  5.58, 91.33],\n",
       "       [ 8.66,  5.59, 54.8 ],\n",
       "       [ 8.72,  5.6 , 92.  ],\n",
       "       [ 8.77,  5.61, 55.2 ],\n",
       "       [ 8.83,  5.63, 92.67],\n",
       "       [ 8.89,  5.64, 55.6 ],\n",
       "       [ 8.94,  5.65, 93.33],\n",
       "       [ 9.  ,  5.66, 56.  ],\n",
       "       [ 9.06,  5.67, 94.  ],\n",
       "       [ 9.11,  5.68, 56.4 ],\n",
       "       [ 9.17,  5.69, 94.67],\n",
       "       [ 9.22,  5.7 , 56.8 ],\n",
       "       [ 9.27,  5.71, 95.33],\n",
       "       [ 9.33,  5.72, 57.2 ],\n",
       "       [ 9.38,  5.73, 96.  ],\n",
       "       [ 9.43,  5.74, 57.6 ],\n",
       "       [ 9.49,  5.75, 96.67],\n",
       "       [ 9.54,  5.76, 58.  ],\n",
       "       [ 9.59,  5.77, 97.33],\n",
       "       [ 9.64,  5.78, 58.4 ],\n",
       "       [ 9.7 ,  5.79, 98.  ],\n",
       "       [ 9.75,  5.8 , 58.8 ],\n",
       "       [ 9.8 ,  5.81, 98.67],\n",
       "       [ 9.85,  5.82, 59.2 ],\n",
       "       [ 9.9 ,  5.83, 99.33],\n",
       "       [ 9.95,  5.84, 59.6 ]])"
      ]
     },
     "execution_count": 323,
     "metadata": {},
     "output_type": "execute_result"
    }
   ],
   "source": [
    "great_secret"
   ]
  },
  {
   "cell_type": "code",
   "execution_count": 331,
   "metadata": {},
   "outputs": [
    {
     "data": {
      "text/plain": [
       "0.16006721889793019"
      ]
     },
     "execution_count": 331,
     "metadata": {},
     "output_type": "execute_result"
    }
   ],
   "source": [
    "np.sum((np.cos(great_secret[0])))"
   ]
  },
  {
   "cell_type": "code",
   "execution_count": 332,
   "metadata": {},
   "outputs": [
    {
     "data": {
      "text/plain": [
       "5470.0"
      ]
     },
     "execution_count": 332,
     "metadata": {},
     "output_type": "execute_result"
    }
   ],
   "source": [
    "np.sum(great_secret[great_secret>50])"
   ]
  },
  {
   "cell_type": "code",
   "execution_count": 344,
   "metadata": {},
   "outputs": [
    {
     "name": "stdout",
     "output_type": "stream",
     "text": [
      "[ 5.3  49.6   7.07]\n"
     ]
    }
   ],
   "source": [
    "print(great_secret.flatten()[148:151])"
   ]
  },
  {
   "cell_type": "code",
   "execution_count": 348,
   "metadata": {},
   "outputs": [
    {
     "data": {
      "text/plain": [
       "array([7.07])"
      ]
     },
     "execution_count": 348,
     "metadata": {},
     "output_type": "execute_result"
    }
   ],
   "source": [
    "np.take(great_secret.flatten(), [150], axis = 0)"
   ]
  },
  {
   "cell_type": "code",
   "execution_count": 350,
   "metadata": {},
   "outputs": [
    {
     "name": "stdout",
     "output_type": "stream",
     "text": [
      "None\n"
     ]
    }
   ],
   "source": [
    "print(great_secret.sort(axis=0))"
   ]
  },
  {
   "cell_type": "code",
   "execution_count": 352,
   "metadata": {},
   "outputs": [
    {
     "data": {
      "text/plain": [
       "115.12148016521353"
      ]
     },
     "execution_count": 352,
     "metadata": {},
     "output_type": "execute_result"
    }
   ],
   "source": [
    "great_secret[-1].sum()"
   ]
  },
  {
   "cell_type": "code",
   "execution_count": 356,
   "metadata": {},
   "outputs": [],
   "source": [
    "students = np.array([[1, 135, 34, 4],\n",
    "[2, 160, 43, 5],\n",
    "[3, 163, 40, 4.3],\n",
    "[4, 147, 44, 5],\n",
    "[5, 138, 41, 4.7],\n",
    "[6, 149, 54, 3.9],\n",
    "[7, 136, 39, 4.2],\n",
    "[8, 154, 48, 4.9],\n",
    "[9, 137, 35, 3.7],\n",
    "[10, 165, 60, 4.6]])"
   ]
  },
  {
   "cell_type": "code",
   "execution_count": 357,
   "metadata": {},
   "outputs": [
    {
     "data": {
      "text/plain": [
       "array([[  1. , 135. ,  34. ,   4. ],\n",
       "       [  2. , 160. ,  43. ,   5. ],\n",
       "       [  3. , 163. ,  40. ,   4.3],\n",
       "       [  4. , 147. ,  44. ,   5. ],\n",
       "       [  5. , 138. ,  41. ,   4.7],\n",
       "       [  6. , 149. ,  54. ,   3.9],\n",
       "       [  7. , 136. ,  39. ,   4.2],\n",
       "       [  8. , 154. ,  48. ,   4.9],\n",
       "       [  9. , 137. ,  35. ,   3.7],\n",
       "       [ 10. , 165. ,  60. ,   4.6]])"
      ]
     },
     "execution_count": 357,
     "metadata": {},
     "output_type": "execute_result"
    }
   ],
   "source": [
    "students"
   ]
  },
  {
   "cell_type": "code",
   "execution_count": 358,
   "metadata": {},
   "outputs": [
    {
     "data": {
      "text/plain": [
       "4.430000000000001"
      ]
     },
     "execution_count": 358,
     "metadata": {},
     "output_type": "execute_result"
    }
   ],
   "source": [
    "mean = np.mean(students[:,-1])\n",
    "mean"
   ]
  },
  {
   "cell_type": "code",
   "execution_count": 359,
   "metadata": {},
   "outputs": [
    {
     "data": {
      "text/plain": [
       "4.449999999999999"
      ]
     },
     "execution_count": 359,
     "metadata": {},
     "output_type": "execute_result"
    }
   ],
   "source": [
    "median = np.median(students[:,-1])\n",
    "median"
   ]
  },
  {
   "cell_type": "code",
   "execution_count": 360,
   "metadata": {},
   "outputs": [
    {
     "data": {
      "text/plain": [
       "42.0"
      ]
     },
     "execution_count": 360,
     "metadata": {},
     "output_type": "execute_result"
    }
   ],
   "source": [
    "median = np.median(students[:,2])\n",
    "median"
   ]
  },
  {
   "cell_type": "code",
   "execution_count": 361,
   "metadata": {},
   "outputs": [
    {
     "data": {
      "text/plain": [
       "43.8"
      ]
     },
     "execution_count": 361,
     "metadata": {},
     "output_type": "execute_result"
    }
   ],
   "source": [
    "mean = np.mean(students[:,2])\n",
    "mean"
   ]
  },
  {
   "cell_type": "code",
   "execution_count": 362,
   "metadata": {},
   "outputs": [
    {
     "data": {
      "text/plain": [
       "0.4517742799230607"
      ]
     },
     "execution_count": 362,
     "metadata": {},
     "output_type": "execute_result"
    }
   ],
   "source": [
    "std = np.std(students[:,-1])\n",
    "std"
   ]
  },
  {
   "cell_type": "code",
   "execution_count": 363,
   "metadata": {},
   "outputs": [
    {
     "data": {
      "text/plain": [
       "60.36"
      ]
     },
     "execution_count": 363,
     "metadata": {},
     "output_type": "execute_result"
    }
   ],
   "source": [
    "np.var(students[:, 2])"
   ]
  },
  {
   "cell_type": "code",
   "execution_count": 437,
   "metadata": {},
   "outputs": [
    {
     "data": {
      "text/plain": [
       "array([[ 7,  8,  9],\n",
       "       [12, 13, 14],\n",
       "       [17, 18, 19]])"
      ]
     },
     "execution_count": 437,
     "metadata": {},
     "output_type": "execute_result"
    }
   ],
   "source": [
    "my_array = np.array([[1,2,3,4,5],\n",
    "                     [6,7,8,9,10],\n",
    "                     [11,12,13,14,15],\n",
    "                     [16,17,18,19,20],\n",
    "                     [21,22,23,24,25]])\n",
    "\n",
    "my_array[1:4, 1:4]"
   ]
  },
  {
   "cell_type": "code",
   "execution_count": 439,
   "metadata": {},
   "outputs": [
    {
     "name": "stdout",
     "output_type": "stream",
     "text": [
      "[[ 0.66  0.99  0.41]\n",
      " [-0.54  0.42  0.99]\n",
      " [-0.96 -0.75  0.15]]\n"
     ]
    },
    {
     "data": {
      "text/plain": [
       "-0.05812430261413351"
      ]
     },
     "execution_count": 439,
     "metadata": {},
     "output_type": "execute_result"
    }
   ],
   "source": [
    "print(np.sin(my_array[1:4, 1:4]))\n",
    "my_sin_ = np.sum(np.sin(my_array))\n",
    "my_sin_"
   ]
  },
  {
   "cell_type": "code",
   "execution_count": 453,
   "metadata": {},
   "outputs": [
    {
     "name": "stdout",
     "output_type": "stream",
     "text": [
      "[[ 1  2  3  4  5]\n",
      " [ 6  1  1  1 10]\n",
      " [11  1  1  1 15]\n",
      " [16  1  1  1 20]\n",
      " [21 22 23 24 25]]\n"
     ]
    },
    {
     "data": {
      "text/plain": [
       "7.571718421269144"
      ]
     },
     "execution_count": 453,
     "metadata": {},
     "output_type": "execute_result"
    }
   ],
   "source": [
    "my_array[1:4,1:4]=1\n",
    "print(my_array)\n",
    "ggg = (np.sin(my_array))\n",
    "ggg[1:4,1:4]=1\n",
    "np.sum(ggg)"
   ]
  },
  {
   "cell_type": "code",
   "execution_count": 441,
   "metadata": {},
   "outputs": [
    {
     "name": "stdout",
     "output_type": "stream",
     "text": [
      "[[ 0.66  0.99  0.41]\n",
      " [-0.54  0.42  0.99]\n",
      " [-0.96 -0.75  0.15]]\n",
      "[[ 0.66  0.99  0.41]\n",
      " [-0.54  1.    0.99]\n",
      " [-0.96 -0.75  0.15]]\n"
     ]
    },
    {
     "data": {
      "text/plain": [
       "1.9499902392900823"
      ]
     },
     "execution_count": 441,
     "metadata": {},
     "output_type": "execute_result"
    }
   ],
   "source": [
    "ttt = np.sin(my_array[1:4, 1:4])\n",
    "print(ttt)\n",
    "ttt[1,1] = 1\n",
    "print(ttt)\n",
    "np.sum(ttt)"
   ]
  },
  {
   "cell_type": "code",
   "execution_count": 381,
   "metadata": {},
   "outputs": [
    {
     "name": "stdout",
     "output_type": "stream",
     "text": [
      "[[ 1  2  3  4  5]\n",
      " [ 6  1  1  1 10]\n",
      " [11  1  1  1 15]\n",
      " [16  1  1  1 20]\n",
      " [21 22 23 24 25]]\n"
     ]
    },
    {
     "data": {
      "text/plain": [
       "217"
      ]
     },
     "execution_count": 381,
     "metadata": {},
     "output_type": "execute_result"
    }
   ],
   "source": [
    "my_array[1:4, 1:4] = 1\n",
    "print(my_array)\n",
    "(np.sum(my_array))"
   ]
  },
  {
   "cell_type": "code",
   "execution_count": 373,
   "metadata": {},
   "outputs": [
    {
     "data": {
      "text/plain": [
       "217"
      ]
     },
     "execution_count": 373,
     "metadata": {},
     "output_type": "execute_result"
    }
   ],
   "source": [
    "np.sum(my_array)"
   ]
  },
  {
   "cell_type": "code",
   "execution_count": 382,
   "metadata": {},
   "outputs": [
    {
     "data": {
      "text/plain": [
       "array([[ 1,  2,  3,  4,  5],\n",
       "       [ 6,  1,  1,  1, 10],\n",
       "       [11,  1,  1,  1, 15],\n",
       "       [16,  1,  1,  1, 20],\n",
       "       [21, 22, 23, 24, 25]])"
      ]
     },
     "execution_count": 382,
     "metadata": {},
     "output_type": "execute_result"
    }
   ],
   "source": [
    "my_array"
   ]
  },
  {
   "cell_type": "code",
   "execution_count": 383,
   "metadata": {},
   "outputs": [],
   "source": [
    "my_sin = np.array(np.sin(my_array))"
   ]
  },
  {
   "cell_type": "code",
   "execution_count": 399,
   "metadata": {},
   "outputs": [
    {
     "data": {
      "text/plain": [
       "[10201,\n",
       " 10609,\n",
       " 11025,\n",
       " 11449,\n",
       " 11881,\n",
       " 12321,\n",
       " 12769,\n",
       " 13225,\n",
       " 13689,\n",
       " 14161,\n",
       " 14641,\n",
       " 15129,\n",
       " 15625,\n",
       " 16129,\n",
       " 16641,\n",
       " 17161,\n",
       " 17689,\n",
       " 18225,\n",
       " 18769,\n",
       " 19321,\n",
       " 19881,\n",
       " 20449,\n",
       " 21025,\n",
       " 21609,\n",
       " 22201,\n",
       " 22801,\n",
       " 23409,\n",
       " 24025,\n",
       " 24649,\n",
       " 25281,\n",
       " 25921,\n",
       " 26569,\n",
       " 27225,\n",
       " 27889,\n",
       " 28561,\n",
       " 29241,\n",
       " 29929,\n",
       " 30625,\n",
       " 31329,\n",
       " 32041,\n",
       " 32761,\n",
       " 33489,\n",
       " 34225,\n",
       " 34969,\n",
       " 35721,\n",
       " 36481,\n",
       " 37249,\n",
       " 38025,\n",
       " 38809,\n",
       " 39601,\n",
       " 40401,\n",
       " 41209,\n",
       " 42025,\n",
       " 42849,\n",
       " 43681,\n",
       " 44521,\n",
       " 45369,\n",
       " 46225,\n",
       " 47089,\n",
       " 47961,\n",
       " 48841,\n",
       " 49729,\n",
       " 50625,\n",
       " 51529,\n",
       " 52441,\n",
       " 53361,\n",
       " 54289,\n",
       " 55225,\n",
       " 56169,\n",
       " 57121,\n",
       " 58081,\n",
       " 59049,\n",
       " 60025,\n",
       " 61009,\n",
       " 62001,\n",
       " 63001,\n",
       " 64009,\n",
       " 65025,\n",
       " 66049,\n",
       " 67081,\n",
       " 68121,\n",
       " 69169,\n",
       " 70225,\n",
       " 71289,\n",
       " 72361,\n",
       " 73441,\n",
       " 74529,\n",
       " 75625,\n",
       " 76729,\n",
       " 77841,\n",
       " 78961,\n",
       " 80089,\n",
       " 81225,\n",
       " 82369,\n",
       " 83521,\n",
       " 84681,\n",
       " 85849,\n",
       " 87025,\n",
       " 88209,\n",
       " 89401,\n",
       " 90601,\n",
       " 91809,\n",
       " 93025,\n",
       " 94249,\n",
       " 95481,\n",
       " 96721,\n",
       " 97969,\n",
       " 99225,\n",
       " 100489,\n",
       " 101761,\n",
       " 103041,\n",
       " 104329,\n",
       " 105625,\n",
       " 106929,\n",
       " 108241,\n",
       " 109561,\n",
       " 110889,\n",
       " 112225,\n",
       " 113569,\n",
       " 114921,\n",
       " 116281,\n",
       " 117649,\n",
       " 119025,\n",
       " 120409,\n",
       " 121801,\n",
       " 123201,\n",
       " 124609,\n",
       " 126025,\n",
       " 127449,\n",
       " 128881,\n",
       " 130321,\n",
       " 131769,\n",
       " 133225,\n",
       " 134689,\n",
       " 136161,\n",
       " 137641,\n",
       " 139129,\n",
       " 140625,\n",
       " 142129,\n",
       " 143641,\n",
       " 145161,\n",
       " 146689,\n",
       " 148225,\n",
       " 149769,\n",
       " 151321,\n",
       " 152881,\n",
       " 154449,\n",
       " 156025,\n",
       " 157609,\n",
       " 159201,\n",
       " 160801,\n",
       " 162409,\n",
       " 164025,\n",
       " 165649,\n",
       " 167281,\n",
       " 168921,\n",
       " 170569,\n",
       " 172225,\n",
       " 173889,\n",
       " 175561,\n",
       " 177241,\n",
       " 178929,\n",
       " 180625,\n",
       " 182329,\n",
       " 184041,\n",
       " 185761,\n",
       " 187489,\n",
       " 189225,\n",
       " 190969,\n",
       " 192721,\n",
       " 194481,\n",
       " 196249,\n",
       " 198025,\n",
       " 199809,\n",
       " 201601,\n",
       " 203401,\n",
       " 205209,\n",
       " 207025,\n",
       " 208849,\n",
       " 210681,\n",
       " 212521,\n",
       " 214369,\n",
       " 216225,\n",
       " 218089,\n",
       " 219961,\n",
       " 221841,\n",
       " 223729,\n",
       " 225625,\n",
       " 227529,\n",
       " 229441,\n",
       " 231361,\n",
       " 233289,\n",
       " 235225,\n",
       " 237169,\n",
       " 239121,\n",
       " 241081,\n",
       " 243049,\n",
       " 245025,\n",
       " 247009,\n",
       " 249001,\n",
       " 251001,\n",
       " 253009,\n",
       " 255025,\n",
       " 257049,\n",
       " 259081,\n",
       " 261121,\n",
       " 263169,\n",
       " 265225,\n",
       " 267289,\n",
       " 269361,\n",
       " 271441,\n",
       " 273529,\n",
       " 275625,\n",
       " 277729,\n",
       " 279841,\n",
       " 281961,\n",
       " 284089,\n",
       " 286225,\n",
       " 288369,\n",
       " 290521,\n",
       " 292681,\n",
       " 294849,\n",
       " 297025,\n",
       " 299209,\n",
       " 301401,\n",
       " 303601,\n",
       " 305809,\n",
       " 308025,\n",
       " 310249,\n",
       " 312481,\n",
       " 314721,\n",
       " 316969,\n",
       " 319225,\n",
       " 321489,\n",
       " 323761,\n",
       " 326041,\n",
       " 328329,\n",
       " 330625,\n",
       " 332929,\n",
       " 335241,\n",
       " 337561,\n",
       " 339889,\n",
       " 342225,\n",
       " 344569,\n",
       " 346921,\n",
       " 349281,\n",
       " 351649,\n",
       " 354025,\n",
       " 356409,\n",
       " 358801,\n",
       " 361201,\n",
       " 363609,\n",
       " 366025,\n",
       " 368449,\n",
       " 370881,\n",
       " 373321,\n",
       " 375769,\n",
       " 378225,\n",
       " 380689,\n",
       " 383161,\n",
       " 385641,\n",
       " 388129,\n",
       " 390625,\n",
       " 393129,\n",
       " 395641,\n",
       " 398161,\n",
       " 400689,\n",
       " 403225,\n",
       " 405769,\n",
       " 408321,\n",
       " 410881,\n",
       " 413449,\n",
       " 416025,\n",
       " 418609,\n",
       " 421201,\n",
       " 423801,\n",
       " 426409,\n",
       " 429025,\n",
       " 431649,\n",
       " 434281,\n",
       " 436921,\n",
       " 439569,\n",
       " 442225,\n",
       " 444889,\n",
       " 447561,\n",
       " 450241,\n",
       " 452929,\n",
       " 455625,\n",
       " 458329,\n",
       " 461041,\n",
       " 463761,\n",
       " 466489,\n",
       " 469225,\n",
       " 471969,\n",
       " 474721,\n",
       " 477481,\n",
       " 480249,\n",
       " 483025,\n",
       " 485809,\n",
       " 488601,\n",
       " 491401,\n",
       " 494209,\n",
       " 497025,\n",
       " 499849,\n",
       " 502681,\n",
       " 505521,\n",
       " 508369,\n",
       " 511225,\n",
       " 514089,\n",
       " 516961,\n",
       " 519841,\n",
       " 522729,\n",
       " 525625,\n",
       " 528529,\n",
       " 531441,\n",
       " 534361,\n",
       " 537289,\n",
       " 540225,\n",
       " 543169,\n",
       " 546121,\n",
       " 549081,\n",
       " 552049,\n",
       " 555025,\n",
       " 558009,\n",
       " 561001,\n",
       " 564001,\n",
       " 567009,\n",
       " 570025,\n",
       " 573049,\n",
       " 576081,\n",
       " 579121,\n",
       " 582169,\n",
       " 585225,\n",
       " 588289,\n",
       " 591361,\n",
       " 594441,\n",
       " 597529,\n",
       " 600625,\n",
       " 603729,\n",
       " 606841,\n",
       " 609961,\n",
       " 613089,\n",
       " 616225,\n",
       " 619369,\n",
       " 622521,\n",
       " 625681,\n",
       " 628849,\n",
       " 632025,\n",
       " 635209,\n",
       " 638401,\n",
       " 641601,\n",
       " 644809,\n",
       " 648025,\n",
       " 651249,\n",
       " 654481,\n",
       " 657721,\n",
       " 660969,\n",
       " 664225,\n",
       " 667489,\n",
       " 670761,\n",
       " 674041,\n",
       " 677329,\n",
       " 680625,\n",
       " 683929,\n",
       " 687241,\n",
       " 690561,\n",
       " 693889,\n",
       " 697225,\n",
       " 700569,\n",
       " 703921,\n",
       " 707281,\n",
       " 710649,\n",
       " 714025,\n",
       " 717409,\n",
       " 720801,\n",
       " 724201,\n",
       " 727609,\n",
       " 731025,\n",
       " 734449,\n",
       " 737881,\n",
       " 741321,\n",
       " 744769,\n",
       " 748225,\n",
       " 751689,\n",
       " 755161,\n",
       " 758641,\n",
       " 762129,\n",
       " 765625,\n",
       " 769129,\n",
       " 772641,\n",
       " 776161,\n",
       " 779689,\n",
       " 783225,\n",
       " 786769,\n",
       " 790321,\n",
       " 793881,\n",
       " 797449,\n",
       " 801025,\n",
       " 804609,\n",
       " 808201,\n",
       " 811801,\n",
       " 815409,\n",
       " 819025,\n",
       " 822649,\n",
       " 826281,\n",
       " 829921,\n",
       " 833569,\n",
       " 837225,\n",
       " 840889,\n",
       " 844561,\n",
       " 848241,\n",
       " 851929,\n",
       " 855625,\n",
       " 859329,\n",
       " 863041,\n",
       " 866761,\n",
       " 870489,\n",
       " 874225,\n",
       " 877969,\n",
       " 881721,\n",
       " 885481,\n",
       " 889249,\n",
       " 893025,\n",
       " 896809,\n",
       " 900601,\n",
       " 904401,\n",
       " 908209,\n",
       " 912025,\n",
       " 915849,\n",
       " 919681,\n",
       " 923521,\n",
       " 927369,\n",
       " 931225,\n",
       " 935089,\n",
       " 938961,\n",
       " 942841,\n",
       " 946729,\n",
       " 950625,\n",
       " 954529,\n",
       " 958441,\n",
       " 962361,\n",
       " 966289,\n",
       " 970225,\n",
       " 974169,\n",
       " 978121,\n",
       " 982081,\n",
       " 986049,\n",
       " 990025,\n",
       " 994009,\n",
       " 998001]"
      ]
     },
     "execution_count": 399,
     "metadata": {},
     "output_type": "execute_result"
    }
   ],
   "source": [
    "test_1 = [x**2 for x in range(101, 1000, 2)]\n",
    "test_1"
   ]
  },
  {
   "cell_type": "code",
   "execution_count": 400,
   "metadata": {},
   "outputs": [],
   "source": [
    "bigdata = np.array([test_1])"
   ]
  },
  {
   "cell_type": "code",
   "execution_count": 401,
   "metadata": {},
   "outputs": [
    {
     "data": {
      "text/plain": [
       "array([[ 10201,  10609,  11025,  11449,  11881,  12321,  12769,  13225,\n",
       "         13689,  14161,  14641,  15129,  15625,  16129,  16641,  17161,\n",
       "         17689,  18225,  18769,  19321,  19881,  20449,  21025,  21609,\n",
       "         22201,  22801,  23409,  24025,  24649,  25281,  25921,  26569,\n",
       "         27225,  27889,  28561,  29241,  29929,  30625,  31329,  32041,\n",
       "         32761,  33489,  34225,  34969,  35721,  36481,  37249,  38025,\n",
       "         38809,  39601,  40401,  41209,  42025,  42849,  43681,  44521,\n",
       "         45369,  46225,  47089,  47961,  48841,  49729,  50625,  51529,\n",
       "         52441,  53361,  54289,  55225,  56169,  57121,  58081,  59049,\n",
       "         60025,  61009,  62001,  63001,  64009,  65025,  66049,  67081,\n",
       "         68121,  69169,  70225,  71289,  72361,  73441,  74529,  75625,\n",
       "         76729,  77841,  78961,  80089,  81225,  82369,  83521,  84681,\n",
       "         85849,  87025,  88209,  89401,  90601,  91809,  93025,  94249,\n",
       "         95481,  96721,  97969,  99225, 100489, 101761, 103041, 104329,\n",
       "        105625, 106929, 108241, 109561, 110889, 112225, 113569, 114921,\n",
       "        116281, 117649, 119025, 120409, 121801, 123201, 124609, 126025,\n",
       "        127449, 128881, 130321, 131769, 133225, 134689, 136161, 137641,\n",
       "        139129, 140625, 142129, 143641, 145161, 146689, 148225, 149769,\n",
       "        151321, 152881, 154449, 156025, 157609, 159201, 160801, 162409,\n",
       "        164025, 165649, 167281, 168921, 170569, 172225, 173889, 175561,\n",
       "        177241, 178929, 180625, 182329, 184041, 185761, 187489, 189225,\n",
       "        190969, 192721, 194481, 196249, 198025, 199809, 201601, 203401,\n",
       "        205209, 207025, 208849, 210681, 212521, 214369, 216225, 218089,\n",
       "        219961, 221841, 223729, 225625, 227529, 229441, 231361, 233289,\n",
       "        235225, 237169, 239121, 241081, 243049, 245025, 247009, 249001,\n",
       "        251001, 253009, 255025, 257049, 259081, 261121, 263169, 265225,\n",
       "        267289, 269361, 271441, 273529, 275625, 277729, 279841, 281961,\n",
       "        284089, 286225, 288369, 290521, 292681, 294849, 297025, 299209,\n",
       "        301401, 303601, 305809, 308025, 310249, 312481, 314721, 316969,\n",
       "        319225, 321489, 323761, 326041, 328329, 330625, 332929, 335241,\n",
       "        337561, 339889, 342225, 344569, 346921, 349281, 351649, 354025,\n",
       "        356409, 358801, 361201, 363609, 366025, 368449, 370881, 373321,\n",
       "        375769, 378225, 380689, 383161, 385641, 388129, 390625, 393129,\n",
       "        395641, 398161, 400689, 403225, 405769, 408321, 410881, 413449,\n",
       "        416025, 418609, 421201, 423801, 426409, 429025, 431649, 434281,\n",
       "        436921, 439569, 442225, 444889, 447561, 450241, 452929, 455625,\n",
       "        458329, 461041, 463761, 466489, 469225, 471969, 474721, 477481,\n",
       "        480249, 483025, 485809, 488601, 491401, 494209, 497025, 499849,\n",
       "        502681, 505521, 508369, 511225, 514089, 516961, 519841, 522729,\n",
       "        525625, 528529, 531441, 534361, 537289, 540225, 543169, 546121,\n",
       "        549081, 552049, 555025, 558009, 561001, 564001, 567009, 570025,\n",
       "        573049, 576081, 579121, 582169, 585225, 588289, 591361, 594441,\n",
       "        597529, 600625, 603729, 606841, 609961, 613089, 616225, 619369,\n",
       "        622521, 625681, 628849, 632025, 635209, 638401, 641601, 644809,\n",
       "        648025, 651249, 654481, 657721, 660969, 664225, 667489, 670761,\n",
       "        674041, 677329, 680625, 683929, 687241, 690561, 693889, 697225,\n",
       "        700569, 703921, 707281, 710649, 714025, 717409, 720801, 724201,\n",
       "        727609, 731025, 734449, 737881, 741321, 744769, 748225, 751689,\n",
       "        755161, 758641, 762129, 765625, 769129, 772641, 776161, 779689,\n",
       "        783225, 786769, 790321, 793881, 797449, 801025, 804609, 808201,\n",
       "        811801, 815409, 819025, 822649, 826281, 829921, 833569, 837225,\n",
       "        840889, 844561, 848241, 851929, 855625, 859329, 863041, 866761,\n",
       "        870489, 874225, 877969, 881721, 885481, 889249, 893025, 896809,\n",
       "        900601, 904401, 908209, 912025, 915849, 919681, 923521, 927369,\n",
       "        931225, 935089, 938961, 942841, 946729, 950625, 954529, 958441,\n",
       "        962361, 966289, 970225, 974169, 978121, 982081, 986049, 990025,\n",
       "        994009, 998001]])"
      ]
     },
     "execution_count": 401,
     "metadata": {},
     "output_type": "execute_result"
    }
   ],
   "source": [
    "bigdata"
   ]
  },
  {
   "cell_type": "code",
   "execution_count": 402,
   "metadata": {},
   "outputs": [
    {
     "data": {
      "text/plain": [
       "302501.0"
      ]
     },
     "execution_count": 402,
     "metadata": {},
     "output_type": "execute_result"
    }
   ],
   "source": [
    "np.median(bigdata)"
   ]
  },
  {
   "cell_type": "code",
   "execution_count": 403,
   "metadata": {},
   "outputs": [
    {
     "data": {
      "text/plain": [
       "292095.0301991155"
      ]
     },
     "execution_count": 403,
     "metadata": {},
     "output_type": "execute_result"
    }
   ],
   "source": [
    "np.std(bigdata)"
   ]
  },
  {
   "cell_type": "code",
   "execution_count": 408,
   "metadata": {},
   "outputs": [
    {
     "data": {
      "text/plain": [
       "1.0"
      ]
     },
     "execution_count": 408,
     "metadata": {},
     "output_type": "execute_result"
    }
   ],
   "source": [
    "np.corrcoef(bigdata[::2, ::2], bigdata[1::2, 1::2])"
   ]
  },
  {
   "cell_type": "code",
   "execution_count": 406,
   "metadata": {},
   "outputs": [
    {
     "data": {
      "text/plain": [
       "array([[ 10201,  11025,  11881,  12769,  13689,  14641,  15625,  16641,\n",
       "         17689,  18769,  19881,  21025,  22201,  23409,  24649,  25921,\n",
       "         27225,  28561,  29929,  31329,  32761,  34225,  35721,  37249,\n",
       "         38809,  40401,  42025,  43681,  45369,  47089,  48841,  50625,\n",
       "         52441,  54289,  56169,  58081,  60025,  62001,  64009,  66049,\n",
       "         68121,  70225,  72361,  74529,  76729,  78961,  81225,  83521,\n",
       "         85849,  88209,  90601,  93025,  95481,  97969, 100489, 103041,\n",
       "        105625, 108241, 110889, 113569, 116281, 119025, 121801, 124609,\n",
       "        127449, 130321, 133225, 136161, 139129, 142129, 145161, 148225,\n",
       "        151321, 154449, 157609, 160801, 164025, 167281, 170569, 173889,\n",
       "        177241, 180625, 184041, 187489, 190969, 194481, 198025, 201601,\n",
       "        205209, 208849, 212521, 216225, 219961, 223729, 227529, 231361,\n",
       "        235225, 239121, 243049, 247009, 251001, 255025, 259081, 263169,\n",
       "        267289, 271441, 275625, 279841, 284089, 288369, 292681, 297025,\n",
       "        301401, 305809, 310249, 314721, 319225, 323761, 328329, 332929,\n",
       "        337561, 342225, 346921, 351649, 356409, 361201, 366025, 370881,\n",
       "        375769, 380689, 385641, 390625, 395641, 400689, 405769, 410881,\n",
       "        416025, 421201, 426409, 431649, 436921, 442225, 447561, 452929,\n",
       "        458329, 463761, 469225, 474721, 480249, 485809, 491401, 497025,\n",
       "        502681, 508369, 514089, 519841, 525625, 531441, 537289, 543169,\n",
       "        549081, 555025, 561001, 567009, 573049, 579121, 585225, 591361,\n",
       "        597529, 603729, 609961, 616225, 622521, 628849, 635209, 641601,\n",
       "        648025, 654481, 660969, 667489, 674041, 680625, 687241, 693889,\n",
       "        700569, 707281, 714025, 720801, 727609, 734449, 741321, 748225,\n",
       "        755161, 762129, 769129, 776161, 783225, 790321, 797449, 804609,\n",
       "        811801, 819025, 826281, 833569, 840889, 848241, 855625, 863041,\n",
       "        870489, 877969, 885481, 893025, 900601, 908209, 915849, 923521,\n",
       "        931225, 938961, 946729, 954529, 962361, 970225, 978121, 986049,\n",
       "        994009]])"
      ]
     },
     "execution_count": 406,
     "metadata": {},
     "output_type": "execute_result"
    }
   ],
   "source": [
    "bigdata[::2, ::2]"
   ]
  },
  {
   "cell_type": "code",
   "execution_count": 409,
   "metadata": {},
   "outputs": [],
   "source": [
    "my_array = np.array([[1,2,3,4,5],\n",
    "                     [6,7,8,9,10],\n",
    "                     [11,12,13,14,15],\n",
    "                     [16,17,18,19,20],\n",
    "                     [21,22,23,24,25]])"
   ]
  },
  {
   "cell_type": "code",
   "execution_count": 415,
   "metadata": {},
   "outputs": [],
   "source": [
    "my_array[1:4,1:4]=1"
   ]
  },
  {
   "cell_type": "code",
   "execution_count": 416,
   "metadata": {},
   "outputs": [],
   "source": [
    "my_sin = np.sin(my_array)"
   ]
  },
  {
   "cell_type": "code",
   "execution_count": 417,
   "metadata": {},
   "outputs": [
    {
     "data": {
      "text/plain": [
       "array([[ 0.84,  0.91,  0.14, -0.76, -0.96],\n",
       "       [-0.28,  0.84,  0.84,  0.84, -0.54],\n",
       "       [-1.  ,  0.84,  0.84,  0.84,  0.65],\n",
       "       [-0.29,  0.84,  0.84,  0.84,  0.91],\n",
       "       [ 0.84, -0.01, -0.85, -0.91, -0.13]])"
      ]
     },
     "execution_count": 417,
     "metadata": {},
     "output_type": "execute_result"
    }
   ],
   "source": [
    "my_sin"
   ]
  },
  {
   "cell_type": "code",
   "execution_count": 420,
   "metadata": {},
   "outputs": [
    {
     "data": {
      "text/plain": [
       "array([[ 0.84,  0.91,  0.14, -0.76, -0.96],\n",
       "       [-0.28,  1.  ,  1.  ,  1.  , -0.54],\n",
       "       [-1.  ,  1.  ,  1.  ,  1.  ,  0.65],\n",
       "       [-0.29,  1.  ,  1.  ,  1.  ,  0.91],\n",
       "       [ 0.84, -0.01, -0.85, -0.91, -0.13]])"
      ]
     },
     "execution_count": 420,
     "metadata": {},
     "output_type": "execute_result"
    }
   ],
   "source": [
    "my_sin[1:4,1:4] = 1\n",
    "my_sin"
   ]
  },
  {
   "cell_type": "code",
   "execution_count": 419,
   "metadata": {},
   "outputs": [
    {
     "data": {
      "text/plain": [
       "7.571718421269144"
      ]
     },
     "execution_count": 419,
     "metadata": {},
     "output_type": "execute_result"
    }
   ],
   "source": [
    "np.sum(my_sin)"
   ]
  },
  {
   "cell_type": "code",
   "execution_count": 454,
   "metadata": {},
   "outputs": [],
   "source": [
    "my_array = np.array([[1,2,3,4,5],\n",
    "                     [6,7,8,9,10],\n",
    "                     [11,12,13,14,15],\n",
    "                     [16,17,18,19,20],\n",
    "                     [21,22,23,24,25]])\n",
    "my_sin = np.sin(my_array)"
   ]
  },
  {
   "cell_type": "code",
   "execution_count": 455,
   "metadata": {},
   "outputs": [
    {
     "data": {
      "text/plain": [
       "array([[ 0.84,  0.91,  0.14, -0.76, -0.96],\n",
       "       [-0.28,  0.66,  0.99,  0.41, -0.54],\n",
       "       [-1.  , -0.54,  0.42,  0.99,  0.65],\n",
       "       [-0.29, -0.96, -0.75,  0.15,  0.91],\n",
       "       [ 0.84, -0.01, -0.85, -0.91, -0.13]])"
      ]
     },
     "execution_count": 455,
     "metadata": {},
     "output_type": "execute_result"
    }
   ],
   "source": [
    "my_sin"
   ]
  },
  {
   "cell_type": "code",
   "execution_count": 457,
   "metadata": {},
   "outputs": [
    {
     "data": {
      "text/plain": [
       "array([[ 0.84,  0.91,  0.14, -0.76, -0.96],\n",
       "       [-0.28,  1.  ,  1.  ,  1.  , -0.54],\n",
       "       [-1.  ,  1.  ,  1.  ,  1.  ,  0.65],\n",
       "       [-0.29,  1.  ,  1.  ,  1.  ,  0.91],\n",
       "       [ 0.84, -0.01, -0.85, -0.91, -0.13]])"
      ]
     },
     "execution_count": 457,
     "metadata": {},
     "output_type": "execute_result"
    }
   ],
   "source": [
    "my_sin[1:4,1:4]=1\n",
    "my_sin"
   ]
  },
  {
   "cell_type": "code",
   "execution_count": 459,
   "metadata": {},
   "outputs": [
    {
     "data": {
      "text/plain": [
       "7.571718421269144"
      ]
     },
     "execution_count": 459,
     "metadata": {},
     "output_type": "execute_result"
    }
   ],
   "source": [
    "np.sum(my_sin)"
   ]
  },
  {
   "cell_type": "code",
   "execution_count": 507,
   "metadata": {},
   "outputs": [],
   "source": [
    "my_array = np.array([[1,2,3,4,5],\n",
    "                     [6,7,8,9,10],\n",
    "                     [11,12,13,14,15],\n",
    "                     [16,17,18,19,20],\n",
    "                     [21,22,23,24,25]])\n",
    "#my_array[1:4,1:4]=1"
   ]
  },
  {
   "cell_type": "code",
   "execution_count": 508,
   "metadata": {},
   "outputs": [
    {
     "data": {
      "text/plain": [
       "array([[ 1,  2,  3,  4,  5],\n",
       "       [ 6,  7,  8,  9, 10],\n",
       "       [11, 12, 13, 14, 15],\n",
       "       [16, 17, 18, 19, 20],\n",
       "       [21, 22, 23, 24, 25]])"
      ]
     },
     "execution_count": 508,
     "metadata": {},
     "output_type": "execute_result"
    }
   ],
   "source": [
    "my_array"
   ]
  },
  {
   "cell_type": "code",
   "execution_count": 488,
   "metadata": {},
   "outputs": [
    {
     "data": {
      "text/plain": [
       "array([[ 0.84,  0.91,  0.14, -0.76, -0.96],\n",
       "       [-0.28,  0.84,  0.84,  0.84, -0.54],\n",
       "       [-1.  ,  0.84,  0.84,  0.84,  0.65],\n",
       "       [-0.29,  0.84,  0.84,  0.84,  0.91],\n",
       "       [ 0.84, -0.01, -0.85, -0.91, -0.13]])"
      ]
     },
     "execution_count": 488,
     "metadata": {},
     "output_type": "execute_result"
    }
   ],
   "source": [
    "np.sin(my_array)"
   ]
  },
  {
   "cell_type": "code",
   "execution_count": 509,
   "metadata": {},
   "outputs": [],
   "source": [
    "my_sin = my_array[0:5,0:4]"
   ]
  },
  {
   "cell_type": "code",
   "execution_count": 510,
   "metadata": {},
   "outputs": [
    {
     "name": "stdout",
     "output_type": "stream",
     "text": [
      "[[ 1  2  3  4]\n",
      " [ 6  7  8  9]\n",
      " [11 12 13 14]\n",
      " [16 17 18 19]\n",
      " [21 22 23 24]]\n"
     ]
    }
   ],
   "source": [
    "print(my_sin)"
   ]
  },
  {
   "cell_type": "code",
   "execution_count": 511,
   "metadata": {},
   "outputs": [
    {
     "data": {
      "text/plain": [
       "array([[ 1,  2],\n",
       "       [ 3,  4],\n",
       "       [ 6,  7],\n",
       "       [ 8,  9],\n",
       "       [11, 12],\n",
       "       [13, 14],\n",
       "       [16, 17],\n",
       "       [18, 19],\n",
       "       [21, 22],\n",
       "       [23, 24]])"
      ]
     },
     "execution_count": 511,
     "metadata": {},
     "output_type": "execute_result"
    }
   ],
   "source": [
    "my_sin.reshape(10,2)"
   ]
  },
  {
   "cell_type": "code",
   "execution_count": 512,
   "metadata": {},
   "outputs": [
    {
     "data": {
      "text/plain": [
       "0.0"
      ]
     },
     "execution_count": 512,
     "metadata": {},
     "output_type": "execute_result"
    }
   ],
   "source": [
    "np.sum(np.sin(my_sin[:0]))"
   ]
  },
  {
   "cell_type": "code",
   "execution_count": 513,
   "metadata": {},
   "outputs": [],
   "source": [
    "my_sin = my_sin.reshape(10,2)"
   ]
  },
  {
   "cell_type": "code",
   "execution_count": 514,
   "metadata": {},
   "outputs": [],
   "source": [
    "my_sin = my_sin[:,0:]"
   ]
  },
  {
   "cell_type": "code",
   "execution_count": 515,
   "metadata": {},
   "outputs": [
    {
     "data": {
      "text/plain": [
       "0.013939742151403367"
      ]
     },
     "execution_count": 515,
     "metadata": {},
     "output_type": "execute_result"
    }
   ],
   "source": [
    "np.sum(np.sin(my_sin))"
   ]
  },
  {
   "cell_type": "code",
   "execution_count": null,
   "metadata": {},
   "outputs": [],
   "source": []
  }
 ],
 "metadata": {
  "kernelspec": {
   "display_name": "Python 3",
   "language": "python",
   "name": "python3"
  },
  "language_info": {
   "codemirror_mode": {
    "name": "ipython",
    "version": 3
   },
   "file_extension": ".py",
   "mimetype": "text/x-python",
   "name": "python",
   "nbconvert_exporter": "python",
   "pygments_lexer": "ipython3",
   "version": "3.7.4"
  }
 },
 "nbformat": 4,
 "nbformat_minor": 2
}
