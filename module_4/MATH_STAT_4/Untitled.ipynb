{
 "cells": [
  {
   "cell_type": "code",
   "execution_count": 3,
   "metadata": {},
   "outputs": [],
   "source": [
    "#x - вектор кол-ва перевезенных товаров (сначала из 1-го склада в 3 ТЦ, затем из 2-го склада в 3 ТЦ)\n",
    "# ограничения-неравенства: x1+x2+x3 <=180, x4+x5+x6 <= 220\n",
    "# ограничения-равенства: x1+x4=110, x2+x5=150, x3+x6=140"
   ]
  },
  {
   "cell_type": "code",
   "execution_count": 1,
   "metadata": {},
   "outputs": [],
   "source": [
    "from scipy.optimize import linprog\n",
    "import numpy as np"
   ]
  },
  {
   "cell_type": "code",
   "execution_count": 2,
   "metadata": {},
   "outputs": [
    {
     "name": "stderr",
     "output_type": "stream",
     "text": [
      "C:\\Users\\User\\Anaconda3\\lib\\site-packages\\numpy\\core\\fromnumeric.py:86: VisibleDeprecationWarning: Creating an ndarray from ragged nested sequences (which is a list-or-tuple of lists-or-tuples-or ndarrays with different lengths or shapes) is deprecated. If you meant to do this, you must specify 'dtype=object' when creating the ndarray.\n",
      "  return ufunc.reduce(obj, axis, dtype, out, **passkwargs)\n"
     ]
    },
    {
     "data": {
      "text/plain": [
       "1899.9999256826566"
      ]
     },
     "execution_count": 2,
     "metadata": {},
     "output_type": "execute_result"
    }
   ],
   "source": [
    "c1=[2, 5, 3, 7, 7, 6]\n",
    "\n",
    "A_ub1=[[1, 1, 1, 0, 0, 0], \n",
    "       [0, 0, 0, 1, 1, 1]]\n",
    "\n",
    "b_ub1=[180, 220]\n",
    "\n",
    "A_eq1=[[1, 0, 0, 1, 0, 0], \n",
    "       [0, 1, 0, 0, 1, 0], \n",
    "       [0, 0, 1, 0, 0, 1]]\n",
    "\n",
    "b_eq1=[110, 150, 140]\n",
    "\n",
    "result = linprog(c1, A_ub1, b_ub1, A_eq1, b_eq1)\n",
    "(result.x*np.array(c1)).sum()"
   ]
  },
  {
   "cell_type": "code",
   "execution_count": null,
   "metadata": {},
   "outputs": [],
   "source": [
    "!pip install cvxpy"
   ]
  },
  {
   "cell_type": "code",
   "execution_count": null,
   "metadata": {},
   "outputs": [],
   "source": []
  }
 ],
 "metadata": {
  "kernelspec": {
   "display_name": "Python 3",
   "language": "python",
   "name": "python3"
  },
  "language_info": {
   "codemirror_mode": {
    "name": "ipython",
    "version": 3
   },
   "file_extension": ".py",
   "mimetype": "text/x-python",
   "name": "python",
   "nbconvert_exporter": "python",
   "pygments_lexer": "ipython3",
   "version": "3.7.4"
  }
 },
 "nbformat": 4,
 "nbformat_minor": 2
}
